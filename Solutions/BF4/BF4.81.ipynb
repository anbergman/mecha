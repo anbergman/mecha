{
 "cells": [
  {
   "cell_type": "markdown",
   "metadata": {},
   "source": [
    "# Mekanik II, problem 4.81"
   ]
  },
  {
   "cell_type": "markdown",
   "metadata": {},
   "source": [
    "A person excerts a force $\\mathbf{F}=2 \\hat{x} - 4 \\hat{y} + 12\\hat{z}$ on the gate at point C. Point C lies in the x-y plane and $b=0.6~m$ and $h=1.0~m$. What moment does the person excert about the gate's hinge axis, which is coincindent with the y-axis?\n",
    "![Grind](./BF4_81a.png)\n",
    "\n",
    "and $b=0.6~m$ and $h=1.0~m$\n"
   ]
  },
  {
   "cell_type": "markdown",
   "metadata": {},
   "source": [
    "# Lösning:"
   ]
  },
  {
   "cell_type": "markdown",
   "metadata": {},
   "source": [
    "<details>\n",
    "    <summary>\n",
    "        <h2>Friläggning<br></h2>\n",
    "    </summary>\n",
    "Börja med att frilägga grinden.\n",
    "\n",
    "![Friläggning](./BF4_81b.png)\n",
    "\n",
    "På grinden verkar visserligen tyngdkraft (masscentrum) och kontaktkrafter (vid gångjärnen) men det som söks är bara kraftmomentet från kraften $\\mathbf{F}$\n",
    "\n",
    "$\\mathbf{F}=2 \\hat{x} - 4 \\hat{y} + 12\\hat{z}$\n",
    "\n",
    "så vi kan här bortse från övriga krafter.\n",
    "\n",
    "Här är det kraftmomentet kring $\\hat{y}$-axeln som söks.\n",
    "</details>"
   ]
  },
  {
   "cell_type": "markdown",
   "metadata": {},
   "source": [
    "<details>\n",
    "    <summary>\n",
    "        <h2>Fysikaliska samband<br></h2>\n",
    "    </summary>\n",
    "\n",
    "Generellt gäller att kraftmomentet $\\mathbf{M}_v$ kring en axel $\\mathbf{v}=v\\hat{v}$ kan beräknas genom att först beräkna kraftmomentet $\\mathbf{M}_P$ för en punkt $\\mathbf{P}$ som ligger någonstans på axeln $\\mathbf{v}$ och sedan använda sambandet \n",
    "\n",
    " $\\mathbf{M}_v = (\\mathbf{M}_P \\cdot \\hat{v})\\hat{v}$\n",
    " \n",
    "    \n",
    "Momentekvationen ger att \n",
    "\n",
    "$\\mathbf{M}_P = \\sum_i \\mathbf{r_i} \\times \\mathbf{F_i}$\n",
    "\n",
    "där $\\mathbf{r}_i$ är vektorn från momentpunkten $\\mathbf{P}$ till där respektive kraft $\\mathbf{F}_i$ verkar. Ekvationen stämmer för vilken val av $\\mathbf{P}$ som helst. \n",
    "\n",
    "</details>"
   ]
  },
  {
   "cell_type": "markdown",
   "metadata": {},
   "source": [
    "<details>\n",
    "    <summary>\n",
    "        <h2>Beräkning<br></h2>\n",
    "    </summary>\n",
    "\n",
    "\n",
    "I det här fallet kan vi välja vilken punkt som helst $\\mathbf{P}$ längs $\\hat{y}$-axeln som momentpunkt. Ett bra val kan vara punkten $\\mathbf{A}$ eftersom vektorn $\\mathbf{r}_{AC}$ endast har en komponent i x-led, vilket kan underlätta beräkningarna. Den enda kraft som bidrar till det sökta momentet är enligt uppgiften $\\mathbf{F}$.\n",
    "\n",
    "\n",
    "För det aktuella systemet har vi \n",
    "\n",
    "$\\mathbf{r}_{AC} = b \\hat{x}$\n",
    "\n",
    "$\\mathbf{F}=2 \\hat{x} - 4 \\hat{y} + 12\\hat{z}$\n",
    "\n",
    "$\\mathbf{M}_A= \\mathbf{r}_{AC} \\times \\mathbf{F}$\n",
    "\n",
    "$\\mathbf{r}_{AC} \\times \\mathbf{F} =  \\begin{vmatrix}\n",
    "&\\hat{x}&&\\hat{y}&&\\hat{z}&\\\\\n",
    "\\\\\n",
    "& b && 0 && 0 &\\\\\n",
    "\\\\\n",
    "& 2 && -4 && 12 &\\\\\n",
    "\\end{vmatrix} = -12b\\hat{y} -4b\\hat{z}$\n",
    "\n",
    "Med kraftmomentet $\\mathbf{M}_A$ uträknat kan vi nu räkna momentet $\\mathbf{M}_y$ längs $\\hat{y}$-axeln som:\n",
    "\n",
    "$\\mathbf{M}_y = (\\mathbf{M}_A \\cdot \\hat{y})\\hat{y} = ((-12b\\hat{y} -4b\\hat{z})\\cdot \\hat{y}) \\hat{y} = \\\\\n",
    "(-12b(\\hat{y} \\cdot \\hat{y}) - 4b(\\hat{z} \\cdot \\hat{y})) \\hat{y} = (-12b * 1 - 4b*0) \\hat{y} = -12b \\hat{y}$\n",
    "\n",
    "\n",
    "Med instatt värde $b=0.6 m$ blir $\\mathbf{M}_y = -12b \\hat{y} = -7.2 \\hat{y} $ (Nm)\n",
    "\n",
    "\n",
    "</details>"
   ]
  },
  {
   "cell_type": "markdown",
   "metadata": {},
   "source": [
    "<details>\n",
    "    <summary>\n",
    "        <h2>Svar<br></h2>\n",
    "    </summary>\n",
    "Kraftmomentet kring $\\mathbf{y}$-axeln är $\\mathbf{M}_y = -12b \\hat{y} = 7.2\\hat{y}$  (Nm)\n",
    "   \n",
    "</details>"
   ]
  },
  {
   "cell_type": "markdown",
   "metadata": {},
   "source": [
    "<details>\n",
    "    <summary>\n",
    "        <h2>Analys<br></h2>\n",
    "    </summary>\n",
    "Att x- och y-komponenterna av kraften $\\mathbf{F}$ inte ger ett bidrag till kraftmomentet $\\mathbf{M}_y$ kan intuitivt förstås av att dessa komponenter skulle vilja rotera grinden i xz-planet i det givna koordinatsystemet. Z-komponenten av $\\mathbf{F}$ pekar ut ur planet vilket ockå gör att det är rimligt att det resulterande momentet är negativt givet uppgiftens geometri."
   ]
  }
 ],
 "metadata": {
  "celltoolbar": "Raw Cell Format",
  "kernelspec": {
   "display_name": "Python 3",
   "language": "python",
   "name": "python3"
  },
  "language_info": {
   "codemirror_mode": {
    "name": "ipython",
    "version": 3
   },
   "file_extension": ".py",
   "mimetype": "text/x-python",
   "name": "python",
   "nbconvert_exporter": "python",
   "pygments_lexer": "ipython3",
   "version": "3.7.7"
  }
 },
 "nbformat": 4,
 "nbformat_minor": 2
}
