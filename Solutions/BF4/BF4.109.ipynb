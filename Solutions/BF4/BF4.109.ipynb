{
 "cells": [
  {
   "cell_type": "markdown",
   "metadata": {},
   "source": [
    "# Mekanik II, problem 4.109"
   ]
  },
  {
   "cell_type": "markdown",
   "metadata": {},
   "source": [
    "The forces are contained in the xy-plane. \n",
    "\n",
    "(a) Determine the moment of the couple.\n",
    "\n",
    "(b) What is the sum of the two moments about the point $\\mathbf{P}$=(10,-40,20) m?\n",
    "\n",
    "\n",
    "![Mpar](./BF4_109a.png)\n"
   ]
  },
  {
   "cell_type": "markdown",
   "metadata": {},
   "source": [
    "# Lösning:"
   ]
  },
  {
   "cell_type": "markdown",
   "metadata": {},
   "source": [
    "<details>\n",
    "    <summary>\n",
    "        <h2>Resonemang<br></h2>\n",
    "    </summary>\n",
    "De två krafterna lika stora och motriktade. Därför bildar dem ett kraftpar. Ett kraftpar har den speciella egenskapen att det totala kraftmomentet från kraftparet är konstant oavsett momentpunkt. Därför kan vi välja en godtycklig punkt $P$ och beräkna kraftmomentet $\\mathbf{M}_P$ för den valda punkten. Det ger oss då det konstanta kraftmomentet från vårt kraftpar.\n",
    "</details>"
   ]
  },
  {
   "cell_type": "markdown",
   "metadata": {},
   "source": [
    "<details>\n",
    "    <summary>\n",
    "        <h2>Krafter, moment och vektorer<br></h2>\n",
    "    </summary>\n",
    "För att kunna beräkna $\\mathbf{M}_{P}$ behöver vi först bestämma en lämplig punkt $P$. Därefter ger momentekvationen att \n",
    "\n",
    "$\\mathbf{M}_P = \\sum_i \\mathbf{r_i} \\times \\mathbf{F_i}$\n",
    "\n",
    "där $\\mathbf{r}_i$ är vektorn från momentpunkten $\\mathbf{P}$ till där respektive kraft $\\mathbf{F}_i$ verkar.\n",
    "\n",
    "\n",
    "Vi inför beteckningar för krafter, avstånd och vinklar enlig figuren nedan:\n",
    "![MparB](./BF4_109b.png)\n",
    "\n",
    "Ett praktiskt val av $P$ är att där en av krafterna skär x-axeln, dvs vid $A$ eller $B$. För då kommer dels den kraften inte ge upphov till något kraftmoment (eftersom $r_{AA}=r_{BB}=0$ där), och ortsvektorn från momentpunkten till den andra kraften ($\\mathbf{r}_{AB}$ eller $\\mathbf{r}_{BA}$ kommer endast ha en ändlig komponent i x-led.\n",
    "\n",
    "Låt oss välja $A$ som momentpunkt, d.v.s. vi bestämmer $\\mathbf{M}_{A}=\\mathbf{r}_{AB}\\times\\mathbf{F}_B$\n",
    "\n",
    "där $\\mathbf{F}_B$ är den högra kraften i figuren, d.v.s. den som korsar x-axeln i $B$. Då får vi\n",
    "\n",
    "$\\mathbf{r}_{AB}=2b \\hat{x}$ m\n",
    "\n",
    "$\\mathbf{F}_B= F_B \\cos 60 \\hat{x} - F_B \\sin 60 \\hat{y}$ N\n",
    "\n",
    "\n",
    "</details>"
   ]
  },
  {
   "cell_type": "markdown",
   "metadata": {},
   "source": [
    "<details>\n",
    "    <summary>\n",
    "        <h2>Beräkning<br></h2>\n",
    "    </summary>\n",
    "Med $\\mathbf{r}_{AB}$ och $\\mathbf{F}_B$ kända kan vi beräkna $\\mathbf{M}_{A}$.\n",
    "\n",
    "$\\mathbf{M}_{A}=\\mathbf{r}_{AB}\\times\\mathbf{F}_B  =  (2b \\hat{x}) \\times ( F_B \\cos 60 \\hat{x} - F_B \\sin 60 \\hat{y}) \n",
    "= F_b\\begin{vmatrix}\n",
    "&\\hat{x}&&\\hat{y}&&\\hat{z}&\\\\\n",
    "\\\\\n",
    "& 2b  && 0 && 0 &\\\\\n",
    "\\\\\n",
    "& \\cos 60 && -\\sin 60 && 0 &\\\\\n",
    "\\end{vmatrix} = \\\\\n",
    "= -2bF_B \\sin 60 \\hat{z}$\n",
    "\n",
    "</details>"
   ]
  },
  {
   "cell_type": "markdown",
   "metadata": {},
   "source": [
    "<details>\n",
    "    <summary>\n",
    "        <h2>Svar<br></h2>\n",
    "    </summary>\n",
    "(a) Med insatta värden, $b$=20 m och $F_B$=1000 N blir det resulterande kraftmomentet $\\mathbf{M}_A=-34.6 \\hat{z}$ (kN)\n",
    "\n",
    "(b) Eftersom kraftmomentet från ett kraftpar är oberoende av momentpunkt är kraftmomentet i (10.-40,20) m samma som $\\mathbf{M}_A$, d.v.s. $\\mathbf{M}=-34.6 \\hat{z}$ (kN)\n",
    "\n",
    "</details>"
   ]
  }
 ],
 "metadata": {
  "celltoolbar": "Raw Cell Format",
  "kernelspec": {
   "display_name": "Python 3",
   "language": "python",
   "name": "python3"
  },
  "language_info": {
   "codemirror_mode": {
    "name": "ipython",
    "version": 3
   },
   "file_extension": ".py",
   "mimetype": "text/x-python",
   "name": "python",
   "nbconvert_exporter": "python",
   "pygments_lexer": "ipython3",
   "version": "3.7.7"
  }
 },
 "nbformat": 4,
 "nbformat_minor": 2
}
