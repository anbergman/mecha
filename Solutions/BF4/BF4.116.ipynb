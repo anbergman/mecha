{
 "cells": [
  {
   "cell_type": "markdown",
   "metadata": {},
   "source": [
    "# Mekanik II, problem 4.116"
   ]
  },
  {
   "cell_type": "markdown",
   "metadata": {},
   "source": [
    "Determine the sum of moments exerted about A by the couple and the two forces.\n",
    "\n",
    "Here $F_1$=100 N, $F_2$=400 N, $M$=900 Nm, $a$=$c$=3 m, and $b$=$d$=4 m.\n",
    "\n",
    "![Mpar](./BF4_116a.png)\n"
   ]
  },
  {
   "cell_type": "markdown",
   "metadata": {},
   "source": [
    "# Lösning:"
   ]
  },
  {
   "cell_type": "markdown",
   "metadata": {},
   "source": [
    "<details>\n",
    "    <summary>\n",
    "        <h2>Resonemang<br></h2>\n",
    "    </summary>\n",
    "Det som söks är $\\mathbf{M}_A$. Bidragen från krafterna $F_1$ och $F_2$ kan beräknas med momentekvationen $\\mathbf{M}=\\mathbf{r}\\times\\mathbf{F}$ och bidraget från momentet $M§ är lika stort för alla val av momentpunkter i systemet.\n",
    "</details>"
   ]
  },
  {
   "cell_type": "markdown",
   "metadata": {},
   "source": [
    "<details>\n",
    "    <summary>\n",
    "        <h2>Krafter, moment och vektorer<br></h2>\n",
    "    </summary>\n",
    "För kraftmomentet $\\mathbf{M}_{A}$ ger momentekvationen att\n",
    "\n",
    "$\\mathbf{M}_A = \\sum_i \\mathbf{M}_i =\n",
    "\\mathbf{r}_{F_1} \\times \\mathbf{F}_1 + \\mathbf{r}_{F_2} \\times \\mathbf{F}_2 + \\mathbf{M}$\n",
    "\n",
    "där $\\mathbf{r}_i$ är vektorn från momentpunkten $\\mathbf{A}$ till där respektive kraft $\\mathbf{F}_i$ verkar.\n",
    "\n",
    "För ett koordinatsystem (syns ej i figur här) med y-axeln uppåt och x-axeln åt höger kan krafter och ortsvektorer skrivas som\n",
    "\n",
    "$\\mathbf{F}_1 = F_1 \\hat{y}$\n",
    "\n",
    "$\\mathbf{F}_2 = -F_2 \\hat{y}$\n",
    "\n",
    "$\\mathbf{r}_{F_1} = -a \\hat{x}$\n",
    "\n",
    "$\\mathbf{r}_{F_2} = (b+c) \\hat{x}$\n",
    "\n",
    "</details>"
   ]
  },
  {
   "cell_type": "markdown",
   "metadata": {},
   "source": [
    "<details>\n",
    "    <summary>\n",
    "        <h2>Beräkning<br></h2>\n",
    "    </summary>\n",
    "Med bestämda krafter och ortsvektorer kan vi räkna delbidragen till kraftmomentet $\\mathbf{M}_{A}$.\n",
    "\n",
    "\n",
    "$\\mathbf{r}_{F_1} \\times \\mathbf{F}_1  =  (-a \\hat{x}) \\times ( F_1 \\hat{y}) \n",
    "= \\begin{vmatrix}\n",
    "&\\hat{x}&&\\hat{y}&&\\hat{z}&\\\\\n",
    "\\\\\n",
    "& -a  && 0 && 0 &\\\\\n",
    "\\\\\n",
    "& 0 && F_1 && 0 &\\\\\n",
    "\\end{vmatrix} = -F_1 a  \\hat{z}$\n",
    "\n",
    "$\\mathbf{r}_{F_2} \\times \\mathbf{F}_2  =  (b+c \\hat{x}) \\times ( -F_2 \\hat{y}) \n",
    "= \\begin{vmatrix}\n",
    "&\\hat{x}&&\\hat{y}&&\\hat{z}&\\\\\n",
    "\\\\\n",
    "& b+c  && 0 && 0 &\\\\\n",
    "\\\\\n",
    "& 0 && -F_2 && 0 &\\\\\n",
    "\\end{vmatrix} = -F_2 (b+c)  \\hat{z}$\n",
    "\n",
    "och eftersom z-axeln i detta system pekar ut ur planet kan vi bestämma riktningen för kraftmomentet $\\mathbf{M}$ som\n",
    "$\\mathbf{M}=M\\hat{z}$\n",
    "\n",
    "\n",
    "Summan av alla bidrag ovan ger det totala kraftmomentet i $A$ som\n",
    "\n",
    "$\\mathbf{M}_A= -F_1 a  \\hat{z}  -F_2 (b+c) \\hat{z} + M \\hat{z} = (M-F_1 a -F_2 (b+c)) \\hat{z}$\n",
    "\n",
    "\n",
    "</details>"
   ]
  },
  {
   "cell_type": "markdown",
   "metadata": {},
   "source": [
    "<details>\n",
    "    <summary>\n",
    "        <h2>Svar<br></h2>\n",
    "    </summary>\n",
    "Med insatta värden blir kraftmomentet $M_A$\n",
    "\n",
    "$M_A = 900 - 100*3 - 400 * (3+4) = -2200$ (Nm).\n",
    "\n",
    "Riktningen för $M_A$ är i moturs ($-\\hat{z}$) riktning.\n",
    "</details>"
   ]
  },
  {
   "cell_type": "markdown",
   "metadata": {},
   "source": [
    "<details>\n",
    "    <summary>\n",
    "        <h2>Kommentar<br></h2>\n",
    "    </summary>\n",
    "För \"enkla\" kryssprodukter, där krafter och ortsvektorer är riktade längs någon av koordinatsystemets axlar, kan resulterande kraftmoment enkelt räknas ut utan att behöva använda determinanter. I stället kan man använda cyklisk permutation som säger att $\\hat{x}\\times \\hat{y}=\\hat{z}$, $\\hat{y}\\times \\hat{z}=\\hat{x}$ och $\\hat{z}\\times \\hat{x}=\\hat{y}$ och antikommutivitet som säger att $\\mathbf{v}\\times\\mathbf{u}=-\\mathbf{u}\\times\\mathbf{v}$. \n",
    "\n",
    "För kryssprodukterna i den aktuella uppgiften kan vi använda det för att snabbt se att \n",
    "\n",
    "$-a\\hat{x}\\times{F}_1\\hat{y}= -a F_1 (\\hat{x}\\times\\hat{y}) = -a F_1 \\hat{z}$\n",
    "\n",
    "$(b+c)\\hat{x}\\times(-{F}_2\\hat{y})= (b+c)(-F_2) (\\hat{x}\\times\\hat{y}) = -(b+c)F_2 \\hat{z}$\n",
    "\n",
    "\n",
    "</details>"
   ]
  },
  {
   "cell_type": "code",
   "execution_count": null,
   "metadata": {},
   "outputs": [],
   "source": []
  }
 ],
 "metadata": {
  "celltoolbar": "Raw Cell Format",
  "kernelspec": {
   "display_name": "Python 3",
   "language": "python",
   "name": "python3"
  },
  "language_info": {
   "codemirror_mode": {
    "name": "ipython",
    "version": 3
   },
   "file_extension": ".py",
   "mimetype": "text/x-python",
   "name": "python",
   "nbconvert_exporter": "python",
   "pygments_lexer": "ipython3",
   "version": "3.7.7"
  }
 },
 "nbformat": 4,
 "nbformat_minor": 2
}
