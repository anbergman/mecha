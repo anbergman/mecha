{
 "cells": [
  {
   "cell_type": "markdown",
   "metadata": {},
   "source": [
    "# Mekanik II, uppgift 4.127"
   ]
  },
  {
   "cell_type": "markdown",
   "metadata": {},
   "source": [
    "Two wrenches are used to tighten an elbow fitting. The force $\\mathbf{F}_1=\\mathbf{F}=50 \\hat{z}$ on the right wrench is applied at $\\mathbf{r}_1=(150,-125,-75)$ mm, and the force $\\mathbf{F}_2=-\\mathbf{F}$ on the left wrench is applied at $\\mathbf{r}_2=(100,-125,75)$ mm.\n",
    "\n",
    "(a) Determine the moment about the x-axis due to the force of exerted on the right wrench.\n",
    "\n",
    "(b) Determine the moment of the couple formed by the forces exerted on the two wrenches.\n",
    "\n",
    "(c) Based on the results of (a) and (b), explain why two wrenches are used.\n",
    "![Mpar](./BF4_127a.png)\n"
   ]
  },
  {
   "cell_type": "markdown",
   "metadata": {},
   "source": [
    "# Lösning:"
   ]
  },
  {
   "cell_type": "markdown",
   "metadata": {},
   "source": [
    "## Resonemang\n",
    "\n",
    "Här kan vi använda oss av momentekvationen $\\mathbf{M}=\\mathbf{r}\\times\\mathbf{F}$ för de individuella krafterna $\\mathbf{F}_1$ och $\\mathbf{F}_2$. \n",
    "    \n",
    "Kraftmomentet kring en generell axel $\\mathbf{v}$ kan beräknas som  $\\mathbf{M}_v=(\\mathbf{M}_P \\cdot \\hat{v})\\hat{v}$ där $P$ är en punkt på axeln $\\mathbf{v}$.\n",
    "\n",
    "Kraftmomentet från ett kraftpar är konstant oberoende av val av momentpunkt.\n"
   ]
  },
  {
   "cell_type": "markdown",
   "metadata": {},
   "source": [
    "## Krafter, vektorer och moment\n",
    "\n",
    "I uppgift (a) söks kraftmomentet kring x-axeln och vi kan då välja vilken punkt som helst längs axeln för momentberäkningen. Här kan vi välja origo då vi vet ortsvektorerna till krafterna från origo. Krafter och ortsvektorer blir då\n",
    "\n",
    "$\\mathbf{F}_1 = 50 \\hat{z}$ (N)\n",
    "\n",
    "$\\mathbf{r}_1 = 150 \\hat{x} -125 \\hat{y} -75 \\hat{z}$ (mm)\n",
    "\n",
    "$\\mathbf{F}_2 = -50 \\hat{z}$ (N)\n",
    "\n",
    "$\\mathbf{r}_2 = 100 \\hat{x} -125 \\hat{y} + 75 \\hat{z}$ (mm).\n",
    "\n",
    "Kraftmomentet i origo $\\mathbf{M}_o$ från den högra tången skrivs då som\n",
    "\n",
    "$\\mathbf{M}_o = \\mathbf{r}_1 \\times  \\mathbf{F}_1$\n",
    "\n",
    "och kraftmomentet längs x-axeln blir\n",
    "\n",
    "$\\mathbf{M}_x = (\\mathbf{M}_o \\cdot \\hat{x})\\hat{x} = ((\\mathbf{r}_1 \\times  \\mathbf{F}_1)\\cdot\\hat{x}) \\hat{x}$\n"
   ]
  },
  {
   "cell_type": "markdown",
   "metadata": {},
   "source": [
    "## Beräkning, uppgift (a)\n",
    "\n",
    "Med bestämda krafter och ortsvektorer kan vi beräkna kraftmomentet $\\mathbf{M}_{x}$.\n",
    "\n",
    "\n",
    "$\\mathbf{r}_{1} \\times \\mathbf{F}_1  =  \n",
    "(150 \\hat{x} -125 \\hat{y} -75 \\hat{z}) \\times (50 \\hat{z}) \n",
    "= \\begin{vmatrix}\n",
    "&\\hat{x}&&\\hat{y}&&\\hat{z}&\\\\\n",
    "\\\\\n",
    "& 150  && -125 && -75 &\\\\\n",
    "\\\\\n",
    "& 0 && 0 && 50 &\\\\\n",
    "\\end{vmatrix} = -6250 \\hat{x} - 7500 \\hat{y}$ (Nmm) = <br>\n",
    "= $-6.25 \\hat{x} - 7.50 \\hat{y}$ (Nm) \n",
    "\n",
    "\n",
    "Vilket ger kraftmomentet längs x-axeln $\\mathbf{M}_x$ som\n",
    "\n",
    "$\\mathbf{M}_x=((-6.25 \\hat{x} - 7.50 \\hat{y})\\cdot\\hat{x})\\hat{x}= (-6.25 (\\hat{x}\\cdot\\hat{x}) - 7.50 (\\hat{y}\\cdot\\hat{x}))\\hat{x}= -6.25\\hat{x}$ (Nm)\n",
    "\n",
    "som då blir svaret för fråga (a).\n"
   ]
  },
  {
   "cell_type": "markdown",
   "metadata": {},
   "source": [
    "## Beräkning, uppgift (b) \n",
    "\n",
    "För att få kraftmomentet från kraftparet $\\mathbf{F}_1$ och $\\mathbf{F}_2$ behöver nu även beräkna kraftmomentet från kraften $\\mathbf{F}_2$. (Momentet från $\\mathbf{F}_1$ beräknades i uppgift (a)).\n",
    "\n",
    "$\\mathbf{r}_{2} \\times \\mathbf{F}_2  =  \n",
    "(100 \\hat{x} -125 \\hat{y} + 75 \\hat{z}) \\times (-50 \\hat{z}) \n",
    "= \\begin{vmatrix}\n",
    "&\\hat{x}&&\\hat{y}&&\\hat{z}&\\\\\n",
    "\\\\\n",
    "& 100  && -125 && 75 &\\\\\n",
    "\\\\\n",
    "& 0 && 0 && -50 &\\\\\n",
    "\\end{vmatrix} = 6250 \\hat{x} + 5000 \\hat{y}$ (Nmm) = <br>\n",
    "= $6.25 \\hat{x} + 5.0 \\hat{y}$ (Nm).\n",
    "\n",
    "\n",
    "Det totala kraftmomentet från kraftparet blir då \n",
    "\n",
    "$\\mathbf{r}_{1} \\times \\mathbf{F}_1 + \\mathbf{r}_{2} \\times \\mathbf{F}_2 = - 2.5\\hat{y}$ (Nm). \n",
    "\n",
    "som då blir svaret för fråga (b).\n",
    "\n"
   ]
  },
  {
   "cell_type": "markdown",
   "metadata": {},
   "source": [
    "## Alternativ beräkning, uppgift (b)\n",
    "\n",
    "I stället för att räkna ut de två bidragen till kraftparets kraftmoment $\\mathbf{M}$ som\n",
    "    \n",
    "$\\mathbf{M} =\\mathbf{r}_{1} \\times \\mathbf{F}_1 + \\mathbf{r}_{2} \\times \\mathbf{F}_2$ \n",
    "\n",
    "kan vi använda oss av kända samband för kraftpar, nämligen att eftersom $\\mathbf{F}_1=-\\mathbf{F}_2$ kan vi skriva $\\mathbf{M}$ som:\n",
    "\n",
    "$\\mathbf{M} =\\mathbf{r}_{1} \\times \\mathbf{F} + \\mathbf{r}_{2} \\times \\mathbf{-F} = \n",
    "\\mathbf{r}_{1} \\times \\mathbf{F} - \\mathbf{r}_{2} \\times \\mathbf{F} = \n",
    "(\\mathbf{r}_{1}  - \\mathbf{r}_{2} )\\times \\mathbf{F}$\n",
    "\n",
    "Beräknar vi den slutliga kryssprodukten får vi\n",
    "\n",
    "$\\mathbf{M} = (\\mathbf{r}_{1}  - \\mathbf{r}_{2} )\\times \\mathbf{F}  =  \n",
    "(50 \\hat{x} - 150 \\hat{z}) \\times (50 \\hat{z}) \n",
    "= \\begin{vmatrix}\n",
    "&\\hat{x}&&\\hat{y}&&\\hat{z}&\\\\\n",
    "\\\\\n",
    "& 50  && 0 && -150 &\\\\\n",
    "\\\\\n",
    "& 0 && 0 && 50 &\\\\\n",
    "\\end{vmatrix} = -2500 \\hat{y}$ (Nmm) \n",
    "= $-2.5 \\hat{y}$ (Nm).\n",
    "\n",
    "Vilket ger samma svar som ovan för (b).\n"
   ]
  },
  {
   "cell_type": "markdown",
   "metadata": {},
   "source": [
    "## Svar, uppgift (c)\n",
    "\n",
    "Med två tänger försvinner det totala vridmomentet kring x-axeln vilket gör att systemet inte vill vrida sig, men att den packning/mutter man här vill skruva åt ändå blir påverkad av ett moment. \n",
    "    \n",
    "För ett mer vardagligt exempel av nyttan av kraftpar kan man försöka skruva på locket på en vattenflaska genom att vrida på locket utan att hålla i flaskan. I det fallet ges inget motverkande kraftmoment på systemet och flaskan kommer därför rotera med locket vilken därmed inte kan skruvas på flaskan.\n"
   ]
  }
 ],
 "metadata": {
  "celltoolbar": "Raw Cell Format",
  "kernelspec": {
   "display_name": "Python 3",
   "language": "python",
   "name": "python3"
  },
  "language_info": {
   "codemirror_mode": {
    "name": "ipython",
    "version": 3
   },
   "file_extension": ".py",
   "mimetype": "text/x-python",
   "name": "python",
   "nbconvert_exporter": "python",
   "pygments_lexer": "ipython3",
   "version": "3.7.7"
  }
 },
 "nbformat": 4,
 "nbformat_minor": 2
}
