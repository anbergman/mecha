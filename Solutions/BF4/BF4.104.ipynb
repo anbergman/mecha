{
 "cells": [
  {
   "cell_type": "markdown",
   "metadata": {},
   "source": [
    "# Mekanik II, problem 4.104"
   ]
  },
  {
   "cell_type": "markdown",
   "metadata": {},
   "source": [
    "The radius $r$ of the steering wheel is 200 mm. The distance $d$ from $O$ to $C$ is 1 m. The center $C$ of the steering wheel lies in the x-y plane. The driver exerts a force $\\mathbf{F}=10\\hat{x}+10\\hat{y}-5\\hat{z}$ (N) on the wheel at $A$. If the angle $\\alpha = 0$, what is the magnitude about the shaft $OC$? \n",
    "\n",
    "![Ratt](./BF4_104a.png)\n"
   ]
  },
  {
   "cell_type": "markdown",
   "metadata": {},
   "source": [
    "# Lösning:"
   ]
  },
  {
   "cell_type": "markdown",
   "metadata": {},
   "source": [
    "<details>\n",
    "    <summary>\n",
    "        <h2>Resonemang<br></h2>\n",
    "    </summary>\n",
    "Det som söks är momentet $\\mathbf{M}_{OC}$ kring rattstången som går i riktningen $\\hat{r}_{OC}$. Därför är ett lämpligt tillvägagångssätt att först bestämma momentet $\\mathbf{M}_{C}$ kring rattens centrum $C$ for att sedan använda ekvationen för momentet kring en axel som ger $\\mathbf{M}_{OC}=(\\mathbf{M}_{C} \\cdot \\hat{r}_{OC}) \\hat{r}_{OC}$.\n",
    "</details>"
   ]
  },
  {
   "cell_type": "markdown",
   "metadata": {},
   "source": [
    "<details>\n",
    "    <summary>\n",
    "        <h2>Krafter, moment och vektorer<br></h2>\n",
    "    </summary>\n",
    "För att kunna beräkna $\\mathbf{M}_{OC}$ behöver vi först bestämma enhetsvektorn $\\hat{r}_{C}$ och kraftmomentet $\\mathbf{M}_{OC}$.\n",
    "    \n",
    "Enhetsvektorn $\\hat{r}_{OC}$ ligger i xy-planet och kan med hjälp av trigonometriska samband skrivas som \n",
    "\n",
    "$\\hat{r}_{OC} = \\cos 20 \\hat{x} + \\sin 20 \\hat{y}$\n",
    "\n",
    "\n",
    "\n",
    "Eftersom den enda kraft som bidrar i problemet är $\\mathbf{F}$, vilken verkar med vektorn $\\mathbf{r}_{CA}$ kring punkten $C$, blir kraftmomentet $\\mathbf{M}_{C}=\\mathbf{r}_{CA}\\times\\mathbf{F}$\n",
    "\n",
    "Eftersom vinkeln $\\alpha=0$ enligt uppgiften ligger punkten $A$ i samma plan som rattstången, d.v.s. i xy-planet. Även om det är svårt att se i figuren kan man anta att ratten sitter vinkelrätt mot rattstången. En projektion av systemet i xy-planet ges nedan:\n",
    "\n",
    "![xy-ratt](./BF4_104b.png)\n",
    "\n",
    "För att tydligare se hur ett uttryck för $\\mathbf{r}_{CA}$ kan fås kan man använda vinkelförhållanden enligt figurer nedan:\n",
    "\n",
    "![trianglar](./BF4_104c.png)\n",
    "\n",
    "Så $\\mathbf{r}_{CA}$ kan därför skrivas\n",
    "\n",
    "$\\mathbf{r}_{CA} = r \\sin 20 \\hat{x} - r \\cos 20 \\hat{y}$  (m)\n",
    "\n",
    "och $\\mathbf{F}$ är som givet i uppgiften\n",
    "\n",
    "$\\mathbf{F}=10\\hat{x}+10\\hat{y}-5\\hat{z}$ (N)\n",
    "\n",
    "</details>"
   ]
  },
  {
   "cell_type": "markdown",
   "metadata": {},
   "source": [
    "<details>\n",
    "    <summary>\n",
    "        <h2>Beräkning<br></h2>\n",
    "    </summary>\n",
    "\n",
    "\n",
    "Vi börjar med att beräkna kraftmomentet $\\mathbf{M}_{C}=\\mathbf{r}_{CA}\\times\\mathbf{F}$\n",
    "\n",
    "\n",
    "$\\mathbf{r}_{CA} \\times \\mathbf{F} =  \\begin{vmatrix}\n",
    "&\\hat{x}&&\\hat{y}&&\\hat{z}&\\\\\n",
    "\\\\\n",
    "& r \\sin 20 && -r \\cos 20 && 0 &\\\\\n",
    "\\\\\n",
    "& 10 && 10 && -5 &\\\\\n",
    "\\end{vmatrix} = 5r \\cos 20 \\hat{x} + 5 r \\sin 20 \\hat{y} + (10r\\sin 20 + 10r \\cos 20)\\hat{z}$\n",
    "\n",
    "Med kraftmomentet $\\mathbf{M}_C$ uträknat kan vi nu räkna momentet $\\mathbf{M}_{OC}$ längs rattstången $OC$. Som ett delsteg räknar vi skalärprodukten $\\mathbf{M}_C \\cdot \\hat{r}_{OC}$:\n",
    "\n",
    "$\\mathbf{M}_C \\cdot \\hat{r}_{OC} = \n",
    "(\\cos 20 \\hat{x} + \\sin 20 \\hat{y}) \\cdot (5r \\cos 20 \\hat{x} + 5 r \\sin 20 \\hat{y} + 20r\\sin 20 \\hat{z}) = \\\\\n",
    "5r \\cos^2 20 + 5r \\sin^2 20 + 0 = 5r ( \\cos^2 20 + \\sin^2 20) = 5r $ \n",
    "\n",
    "\n",
    "Vilket ger oss kraftmomentet kring $OC$ som:\n",
    "\n",
    "$\\mathbf{M}_{OC} = (\\mathbf{M}_C \\cdot \\hat{r}_{OC})\\hat{r}_{OC} = \n",
    "5r (\\cos 20 \\hat{x} + \\sin 20 \\hat{y}) = 5r \\cos 20 \\hat{x} + 5 r \\sin 20 \\hat{y}$\n",
    "\n",
    "\n",
    "Med insatt värde $r=0.2 m$ blir $\\mathbf{M}_{OC} = 5r \\cos 20 \\hat{x} + 5 r \\sin 20 \\hat{y} =  \\cos 20 \\hat{x} + \\sin 20 \\hat{y}$ (Nm)\n",
    "\n",
    "Normen av $\\mathbf{M}_{OC}$ ger oss magnituden ${M}_{OC}$ som söktes i uppgiften:\n",
    "\n",
    "${M}_{OC} = \\sqrt{(\\cos 20 \\hat{x} + \\sin 20 \\hat{y})^2} = \\sqrt{1} = 1$ (Nm)\n",
    "\n",
    "(Notera att redan skalärprodukten $\\mathbf{M}_C \\cdot \\hat{r}_{OC}$ gav oss magnituden eftersom $\\hat{r}_{OC}$ är en enhetsvektor).\n",
    "\n",
    "\n",
    "</details>"
   ]
  },
  {
   "cell_type": "markdown",
   "metadata": {},
   "source": [
    "<details>\n",
    "    <summary>\n",
    "        <h2>Svar<br></h2>\n",
    "    </summary>\n",
    "Magnituden av kraftmomentet kring $AC$ är ${M}_{AC} = 1$  (Nm)\n",
    "   \n",
    "</details>"
   ]
  }
 ],
 "metadata": {
  "celltoolbar": "Raw Cell Format",
  "kernelspec": {
   "display_name": "Python 3",
   "language": "python",
   "name": "python3"
  },
  "language_info": {
   "codemirror_mode": {
    "name": "ipython",
    "version": 3
   },
   "file_extension": ".py",
   "mimetype": "text/x-python",
   "name": "python",
   "nbconvert_exporter": "python",
   "pygments_lexer": "ipython3",
   "version": "3.7.7"
  }
 },
 "nbformat": 4,
 "nbformat_minor": 2
}
