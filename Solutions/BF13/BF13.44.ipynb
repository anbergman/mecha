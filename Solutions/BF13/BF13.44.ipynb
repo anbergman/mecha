{
 "cells": [
  {
   "cell_type": "markdown",
   "metadata": {},
   "source": [
    "# Mekanik baskurs, problem 13.44"
   ]
  },
  {
   "cell_type": "markdown",
   "metadata": {},
   "source": [
    "A steel ball is released from rest in a container of oil. Its downward acceleration is \n",
    "$a = 2. 4 - 0.64v cm/s^2$, where $v$ is the ball’s velocity in cm/s. What is the ball’s downward velocity 2 s after it is released?\n",
    "\n",
    "![Mpar](./BF13_44.png)\n"
   ]
  },
  {
   "cell_type": "markdown",
   "metadata": {},
   "source": [
    "# Lösning:"
   ]
  },
  {
   "cell_type": "markdown",
   "metadata": {},
   "source": [
    "## Resonemang\n",
    "\n",
    "Det som söks i uppgiften är hastigheten vid en given tidpunkt. Eftersom vi har accelerationen given i uppgiften kan vi integrera accelerationen för att få den sökta hastigheten.\n",
    "\n",
    "Rörelsen sker rätlinjigt i en dimension så vi behöver inte använda någon vektoranalys här."
   ]
  },
  {
   "cell_type": "markdown",
   "metadata": {},
   "source": [
    "## Uträkning\n",
    "\n",
    "Accelerationen ges av \n",
    "\n",
    "$a = 2.4 - 0.6 v$ (m/s)\n",
    "\n",
    "vilket vi använder med sambandet mellan hastighet och acceleration enligt nedan.\n",
    "$$\n",
    "\\begin{align}\n",
    "a &=\\frac{dv}{dt}\\\\\n",
    "2.4 - 0.6 v &=\\frac{dv}{dt}\\\\\n",
    "(2.4 - 0.6 v) dt &= dv \\\\\n",
    "\\end{align}\n",
    "$$\n",
    "\n",
    "För att kunna integrera differentialerna $dv$ och $dt$ behöver vi samla ihop alla explicit $t$-beroende termerna på samma sida som $dt$ och alla explicit $v$-beroende termerna på samma sida som $dv$. Från ovan får vi då\n",
    "$$\n",
    "\\begin{align}\n",
    "(2.4 - 0.6 v) dt &= dv \\\\\n",
    "dt &= \\frac{dv}{2.4 - 0.6 v } \\\\\n",
    "\\end{align}\n",
    "$$\n",
    "\n",
    "Nu kan integrationen utföras i både höger och vänsterled\n",
    "$$\n",
    "\\begin{align}\n",
    "dt &= \\frac{dv}{2.4 - 0.6 v } \\\\\n",
    "\\int_{t_0}^{t_1} dt &= \\int_{v0}^{v1}\\frac{dv}{2.4 - 0.6 v } \\\\\n",
    "\\left[t\\right]_{t_0}^{t_1} &= -\\frac{1}{0.6} \\left[\\log(2.4 - 0.6 v) \\right]_{v_0}^{v_1}\\\\\n",
    "\\end{align}\n",
    "$$\n",
    "där vi använde att $\\int \\frac{dv}{A - B v }=\\frac{\\log(A-Bv)}{B}$. Med insatta randvärden $v_0=0$, $t_0=0$, $t_1=t$, $v_1=v$ fås \n",
    "\n",
    "$$\n",
    "\\begin{align}\n",
    "\\left[t\\right]_{0}^{t} &= -\\frac{1}{0.6} \\left[\\log(2.4 - 0.6 v) \\right]_{0}^{v} \\\\\n",
    "t &= -\\frac{\\log(2.4 - 0.6 v)}{0.6}-\\frac{\\log(2.4)}{0.6} \\\\\n",
    "t &= -\\frac{1}{0.6} \\log(\\frac{2.4 - 0.6 v}{2.4}) \\\\\n",
    "\\end{align}\n",
    "$$\n",
    "\n",
    "Eftersom det är hastigheten som söks löser vi ut den som \n",
    "$$\n",
    "\\begin{align}\n",
    "t &= -\\frac{1}{0.6} \\log(\\frac{2.4 - 0.6 v}{2.4}) \\\\\n",
    "-0.6 t &= \\log(\\frac{2.4 - 0.6 v}{2.4}) \\\\\n",
    "e^{-0.6t} &=  \\frac{2.4 - 0.6 v}{2.4} \\\\\n",
    "2.4 e^{-0.6t} &=  2.4 - 0.6 v \\\\\n",
    "v &=  \\frac{2.4 - 2.4 e^{-0.6t}}{0.6} = 4 (1 - e^{-0.6t})\\\\\n",
    "\\end{align}\n",
    "$$\n"
   ]
  },
  {
   "cell_type": "markdown",
   "metadata": {},
   "source": [
    "## Svar\n",
    "För den givna accelerationen får vi $v(t) = 4 (1 - e^{-0.6t})$ cm/s. \n",
    "\n",
    "Med insatt $t=2 s$ får vi $v(t=2s)=2.79 cm/s$."
   ]
  }
 ],
 "metadata": {
  "celltoolbar": "Raw Cell Format",
  "kernelspec": {
   "display_name": "Python 3",
   "language": "python",
   "name": "python3"
  },
  "language_info": {
   "codemirror_mode": {
    "name": "ipython",
    "version": 3
   },
   "file_extension": ".py",
   "mimetype": "text/x-python",
   "name": "python",
   "nbconvert_exporter": "python",
   "pygments_lexer": "ipython3",
   "version": "3.9.0"
  }
 },
 "nbformat": 4,
 "nbformat_minor": 2
}
