{
 "cells": [
  {
   "cell_type": "markdown",
   "metadata": {},
   "source": [
    "# Mekanik baskurs, problem 13.169"
   ]
  },
  {
   "cell_type": "markdown",
   "metadata": {},
   "source": [
    "The river flows north at 3 m/s. (Assume that the current is uniform.) If you want to travel in a straight line from point C to point D in a boat that moves at a constant speed of 10 m/s relative to the water, in what direction should you point the boat? How long does it take to make the crossing?\n",
    "\n",
    "![b1](./BF13_169.png)\n"
   ]
  },
  {
   "cell_type": "markdown",
   "metadata": {},
   "source": [
    "# Lösning:"
   ]
  },
  {
   "cell_type": "markdown",
   "metadata": {},
   "source": [
    "## Resonemang\n",
    "\n",
    "Vi behöver alltså veta vilken riktning vi ska styra ut båten i, så att den med vattnets hjälp kan åka från C till D. Det kan analyseras genom att använda konceptet relativ rörelse.\n",
    "\n",
    "Vi inför vattnets hastighet som $\\mathbf{v}_V$ och båtens hastighet relativt vattnet som $\\mathbf{v}_{B/V}$. Då kan vi skriva sambandet för båtens hastighet $\\mathbf{v}_B$ i ett fixt koordinatsystem som $\\mathbf{v}_B = \\mathbf{v}_V + \\mathbf{v}_{B/V}$.\n",
    "\n",
    "![b2](./BF13_169b.png)\n",
    "\n",
    "\n",
    "\n",
    "Från uppgiften vet vi riktningen på $\\mathbf{v}_B$ och storleken ${v}_{B/V}$ men vi behöver lösa ut storleken $v_B$ och ritningen på $\\mathbf{v}_{B/V}$."
   ]
  },
  {
   "cell_type": "markdown",
   "metadata": {},
   "source": [
    "## Lösning\n",
    "\n",
    "Vi börjar med att införa vinkeln $\\beta$ mellan $\\mathbf{v}_B$ och x-axeln samt vinkeln $\\alpha$ mellan $\\mathbf{v}_{B/V}$ och x-axeln. Vinkeln $\\alpha$ är okänd och behöver lösas ut men ett samband för $\\beta$ kan fås direkt från geometrin i uppgiften som \n",
    "\n",
    "$$\n",
    "\\begin{align}\n",
    "\\tan{\\beta}&=\\frac{400}{500}\n",
    "\\end{align}\n",
    "$$\n",
    "\n",
    "vilket ger $\\beta\\approx 38.7^\\circ$. De olika hastigheterna kan nu skrivas som \n",
    "\n",
    "$$\n",
    "\\begin{align}\n",
    "\\mathbf{v}_B &=v_B \\cos{\\beta} \\hat{x} + v_B \\sin{\\beta} \\hat{y} \\\\\n",
    "\\mathbf{v}_V &=3 \\hat{y} \\\\\n",
    "\\mathbf{v}_{B/V} &=10 \\cos{\\alpha} \\hat{x} + 10 \\sin{\\alpha} \\hat{y} \\\\\n",
    "\\end{align}\n",
    "$$\n",
    "\n",
    "vilket ger oss två obekanta, $v_B$ och $\\alpha$ som behöver räknas ut. Det gör vi genom att använda sambandet för relativ rörelse \n",
    "\n",
    "$$\n",
    "\\begin{align}\n",
    "\\mathbf{v}_B &= \\mathbf{v}_V + \\mathbf{v}_{B/V}\n",
    "\\end{align}\n",
    "$$\n",
    "\n",
    "och löser den på komponentform, dvs för $\\hat{x}$ och $\\hat{y}$.\n",
    "\n",
    "x-led (I):\n",
    "$$\n",
    "\\begin{align}\n",
    "v_B \\cos{\\beta} &= 10 \\cos{\\alpha}  \n",
    "\\end{align}\n",
    "$$\n",
    "\n",
    "y-led (II):\n",
    "$$\n",
    "\\begin{align}\n",
    "v_B \\sin{\\beta} &= 3 + 10 \\sin{\\alpha} \n",
    "\\end{align}\n",
    "$$\n",
    "\n",
    "Dividerar vi (II) med (I) får vi \n",
    "\n",
    "$$\n",
    "\\begin{align}\n",
    "\\tan{\\beta} &= \\frac{3 + 10 \\sin{\\alpha}}{10 \\cos{\\alpha}}\n",
    "\\end{align}\n",
    "$$\n",
    "\n",
    "vilket kan användas för att beräkna $\\alpha$. Det är en ekvation som ser relativt krånglig ut men kan förenklas genom sambandet $\\cos{\\alpha}=\\sqrt{1-\\sin^2{\\alpha}}$ vilket gör att vi kan skriva om ekvationen ovan med $\\sin{\\alpha}=x$ som \n",
    "\n",
    "$$\n",
    "\\begin{align}\n",
    "\\tan{\\beta} = \\frac{400}{500} = \\frac{4}{5} &= \\frac{3 + 10 x}{10 \\sqrt{1-x^2} } \\\\\n",
    "\\frac{4}{5}10 \\sqrt{1-x^2} &= 3 + 10 x \\\\\n",
    "\\sqrt{1-x^2} &= \\frac{3}{8} + \\frac{5}{4} x \\\\\n",
    "1-x^2 &= (\\frac{3}{8} + \\frac{5}{4} x )^2 = \\frac{9}{64} + \\frac{30}{32} x + \\frac{25}{16}x^2 \\\\\n",
    "0 &= (1+\\frac{25}{16}) x^2 + \\frac{30}{32} x + \\frac{9}{64} -1 \\\\\n",
    "0 &= (\\frac{41}{16}) x^2 + \\frac{30}{32} x - \\frac{55}{64}  \\\\\n",
    "0 &= 41 x^2 + \\frac{30}{2} x - \\frac{55}{4}  \n",
    "\\end{align}\n",
    "$$\n",
    "\n",
    "vilket ger lösningen \n",
    "$x=-\\frac{15}{82} \\pm \\frac{2\\sqrt{155}}{41}=\\sin{\\alpha}$ dvs $\\alpha\\approx 25.1 ^\\circ$.\n",
    "\n",
    "Insatt i (I) kan sedan $v_B$ beräknas som \n",
    "$$\n",
    "\\begin{align}\n",
    "v_B  &= 10 \\frac{\\cos{\\alpha}  }{\\cos{\\beta}} \\approx 11.6~m/s\n",
    "\\end{align}\n",
    "$$"
   ]
  },
  {
   "cell_type": "markdown",
   "metadata": {},
   "source": [
    "## Svar\n",
    "Vi får alltså följande hastigheter \n",
    "\n",
    "$$\n",
    "\\begin{align}\n",
    "\\mathbf{v}_B &=11.6 \\cos{38.7^\\circ} \\hat{x} + 11.6 \\sin{38.7^\\circ} \\hat{y} \\\\\n",
    "\\mathbf{v}_{B/V} &=10 \\cos{25.1^\\circ} \\hat{x} + 10 \\sin{25.1^\\circ} \\hat{y} \\\\\n",
    "\\end{align}\n",
    "$$\n",
    "\n",
    "Där det som söktes först i uppgiften var riktningen på båten relativt vattnet, dvs riktningen för $\\mathbf{v}_{B/V}$.\n",
    "\n",
    "Dessutom frågas hur lång tid färden tar. Vi vet att båtens hastighet i det fixa koordinatsystemet är 11.6 m/s (konstant!) och vi kan räkna ut sträckan som båten behöver åka som $s=\\sqrt{400^2+500^2}=640.1$ m. Konstant hastighet och rätlinjig rörelse gör att vi kan räkna ut tiden $t$ som $t=\\frac{s}{v}\\approx 55.2$ s."
   ]
  },
  {
   "cell_type": "markdown",
   "metadata": {},
   "source": [
    "## Diskussion\n",
    "\n",
    "För att kontrollera rimligheten i våra svar kan vi konstatera att vinkeln som behövs relativt vattnet är mindre än den \"riktiga\" vinkeln mellan C och D, vilket är rimligt eftersom vattnet kommer bidra till att båten rör sig \"uppåt\" under överfarten. \n",
    "\n",
    "Gör vi en snabb dimensionsanalys ser vi att (I) och (II) har enheterna m/s i både höger- och vänsterled vilket gör att kvoten (II)/(I) blir dimensionslös. Det stämmer med att vänsterledet då blir tangens för en vinkel vilket ska vara dimensionslöst. Även enheten för $v_B$ stämmer då kvoten mellan två cosinusfunktionern blir dimensionslöst och faktorn $10$ här är en hastighet med enheten m/s.\n"
   ]
  },
  {
   "cell_type": "code",
   "execution_count": null,
   "metadata": {},
   "outputs": [],
   "source": []
  }
 ],
 "metadata": {
  "celltoolbar": "Raw Cell Format",
  "kernelspec": {
   "display_name": "Python 3",
   "language": "python",
   "name": "python3"
  },
  "language_info": {
   "codemirror_mode": {
    "name": "ipython",
    "version": 3
   },
   "file_extension": ".py",
   "mimetype": "text/x-python",
   "name": "python",
   "nbconvert_exporter": "python",
   "pygments_lexer": "ipython3",
   "version": "3.9.0"
  }
 },
 "nbformat": 4,
 "nbformat_minor": 2
}
