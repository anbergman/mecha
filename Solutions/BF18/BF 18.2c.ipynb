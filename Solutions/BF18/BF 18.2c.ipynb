{
 "cells": [
  {
   "cell_type": "markdown",
   "metadata": {},
   "source": [
    "# Mekanik II, problem 18.2"
   ]
  },
  {
   "cell_type": "markdown",
   "metadata": {},
   "source": [
    "A horizontal force F =133.4 N is applied to the 1023 N refrigerator as shown. \n",
    "![Kylskåp](./BF_18_2.png)\n",
    "The coefficient of kinetic friction at A and B is $\\mu_k = 0.1$.\n",
    "\n",
    "(a) What is the magnitude of the refrigerator’s acceleration?\n",
    "\n",
    "(b) What normal forces are exerted on the refrigerator by the floor at A and B?"
   ]
  },
  {
   "cell_type": "markdown",
   "metadata": {},
   "source": [
    "# Lösning:"
   ]
  },
  {
   "cell_type": "markdown",
   "metadata": {},
   "source": [
    "<details>\n",
    "    <summary>\n",
    "        <h2>Friläggning<br></h2>\n",
    "    </summary>\n",
    "Börja med att frilägga kylskåpet.\n",
    "\n",
    "![Friläggning](./BF_18_2_f.png)\n",
    "\n",
    "Följande krafter: $\\mathbf{F}$, $m\\mathbf{g}$, $\\mathbf{N}_A$, $\\mathbf{N}_B$, $\\mathbf{f}_A=-\\mu N_A \\hat{x}$, och $\\mathbf{f}_B=-\\mu N_B \\hat{x}$ verkar på kylskåpet.\n",
    "\n",
    "För systemet är accelerationen $\\mathbf{a}$ samt normalkrafterna $\\mathbf{N}_A$ och $\\mathbf{N}_B$ obekanta och behöver bestämmas. \n",
    "</details>"
   ]
  },
  {
   "cell_type": "markdown",
   "metadata": {},
   "source": [
    "<details>\n",
    "    <summary>\n",
    "        <h2>Fysikaliska samband<br></h2>\n",
    "    </summary>\n",
    "Om vi antar att kylskåpet glider utan att välta kan vi använda Euler I för kraftjämvikt i $\\hat{y}$ och en ändlig acceleration i $\\hat{x}$. \n",
    "\n",
    "Eftersom vi har tre obekanta storheter behöver vi fler samband och kan därför även använda Euler II för momentjämvikt i $\\hat{z}$.  \n",
    "</details>"
   ]
  },
  {
   "cell_type": "markdown",
   "metadata": {},
   "source": [
    "<details>\n",
    "    <summary>\n",
    "        <h2>Kraftanalys: Euler I <br> </h2>\n",
    "    </summary>\n",
    "Euler I: $\\sum_i \\mathbf{F}_i = \\mathbf{F} + m\\mathbf{g} + \\mathbf{N}_A + \\mathbf{N}_B +  \\mathbf{f}_A + \\mathbf{f}_B  = m\\mathbf{a}$\n",
    "\n",
    "Komposantuppdelning i $\\hat{x}$- och $\\hat{y}$-led av verkande krafter gör att vi kan formulera Euler I i vardera riktning.\n",
    "\n",
    "$\\hat{x}$: $F-\\mu N_A-\\mu N_b = ma$ **(I)**\n",
    "\n",
    "$\\hat{y}$: $N_A + N_b - mg = 0$ **(II)**\n",
    "</details>"
   ]
  },
  {
   "cell_type": "markdown",
   "metadata": {},
   "source": [
    "<details>\n",
    "    <summary>\n",
    "        <h2>Momentanalys: Euler II<br></h2>\n",
    "    </summary>\n",
    "    \n",
    "Euler II : $\\sum_i \\mathbf{M}^P_i = \\sum_i \\mathbf{r}_i \\times \\mathbf{F}_i = 0$\n",
    "där $\\mathbf{r}_i$ är vektorn från momentpunkten $\\mathbf{P}$ till där respektive kraft verkar på systemet. Ekvationen stämmer för vilken val av $\\mathbf{P}$ som helst. \n",
    "\n",
    "I det här fallet väljer vi att sätta momentpunkten till masscentrums läge. Det är ett bra val här eftersom vi söker $\\mathbf{N}_A$ och $\\mathbf{N}_B$ som båda ger ändliga moment med avseende på masscentrum. Om vi i stället hade valt något av de nedre hörnen av kylskåpet som momentpunkt så skulle en av de två sökta krafterna inte ge något moment och den kraften skulle därför inte kunna bestämmas.\n",
    "\n",
    "För det aktuella systemet har vi \n",
    "\n",
    "$\\mathbf{r}_F = -\\frac{b}{2} \\hat{x} + (h-d) \\hat{y}$\n",
    "\n",
    "$\\mathbf{r}_{N_A} = \\mathbf{r}_{f_A} = -\\frac{b}{2} \\hat{x} - d \\hat{y}$\n",
    "\n",
    "$\\mathbf{r}_{N_B} = \\mathbf{r}_{f_B} = \\frac{b}{2} \\hat{x} - d \\hat{y}$\n",
    "\n",
    "$\\mathbf{r}_{mg} = 0$\n",
    "\n",
    "\n",
    "De individuella momenten blir\n",
    "\n",
    "$\\mathbf{M}_F = \\mathbf{r}_F \\times \\mathbf{F} = (-\\frac{b}{2} \\hat{x} + (h-d) \\hat{y}) \\times (F \\hat{x}) = -F (h-d)  ~\\hat{z}$\n",
    "\n",
    "$\\mathbf{M}_{N_A} = \\mathbf{r}_{N_A} \\times \\mathbf{N}_A = (-\\frac{b}{2} \\hat{x} - d \\hat{y}) \\times (N_A \\hat{y}) = -\\frac{N_A b}{2}  ~\\hat{z}$\n",
    "\n",
    "$\\mathbf{M}_{N_B} = \\mathbf{r}_{N_B} \\times \\mathbf{N}_B = (\\frac{b}{2} \\hat{x} - d \\hat{y}) \\times (N_B \\hat{y}) =  \\frac{N_B b}{2}  ~\\hat{z}$\n",
    "\n",
    "$\\mathbf{M}_{f_A} = \\mathbf{r}_{f_A} \\times \\mathbf{f}_A = (-\\frac{b}{2} \\hat{x} - d \\hat{y}) \\times (- \\mu N_A \\hat{x}) =  -\\mu N_A d  ~\\hat{z}$\n",
    "\n",
    "$\\mathbf{M}_{f_B} = \\mathbf{r}_{f_B} \\times \\mathbf{f}_B = (\\frac{b}{2} \\hat{x} - d \\hat{y}) \\times (-\\mu N_B \\hat{x}) =  - \\mu N_A d  ~\\hat{z}$\n",
    "\n",
    "\n",
    "Eftersom alla moment verkar i $\\hat{z}$-led kan vi skriva Euler II i $\\hat{z}$\n",
    "\n",
    "$\\hat{z}: -F(h-d)  - \\frac{N_A b}{2} +  \\frac{N_B b}{2}  -\\mu N_A d  - \\mu N_B d = 0$\n",
    "\n",
    "$\\hat{z}: -\\frac{Fh}{2}  -N_A (\\frac{ b}{2} + \\mu d)  +  N_B (\\frac{ b}{2}  - \\mu d)   = 0$  **(III)**\n",
    "</details>"
   ]
  },
  {
   "cell_type": "markdown",
   "metadata": {},
   "source": [
    "<details>\n",
    "    <summary>\n",
    "        <h2>Ekvationslösning<br></h2>\n",
    "    </summary>\n",
    "\n",
    "Från (II) kan vi lösa ut att \n",
    "\n",
    "$N_A+N_B=mg$ **(IV)**\n",
    "\n",
    "vilket insatt i (I) ger\n",
    "\n",
    "$F-\\mu mg = ma$\n",
    "\n",
    "som ger svaret på uppgift (a) där accelerationen $a$ söktes:\n",
    "$a= \\frac{F-\\mu mg}{m}=0.3~(m/s^2)$.\n",
    "\n",
    "Sätter vi in (IV) i (III) kan vi lösa ut $N_A$\n",
    "\n",
    "$- F (h-d)  - N_A (\\frac{ b}{2} + \\mu d)  +  (mg-N_A) (\\frac{ b}{2}  -\\mu d)   = 0$\n",
    "\n",
    "$N_A \\left( (\\frac{ b}{2} + \\mu d) + (\\frac{ b}{2}  -\\mu d) \\right) = -F(h-d) + mg (\\frac{ b}{2}  -\\mu d)$\n",
    "\n",
    "$N_A b = -F(h-d) + mg (\\frac{ b}{2}  - \\mu d)$\n",
    "\n",
    "$N_A = -\\frac{F (h-d)}{b} + mg (\\frac{ 1}{2}  -\\frac{\\mu d}{b})  = {256.7~(N)}$\n",
    "\n",
    "Med $N_A$ känd kan vi beräkna $N_B$ från (IV)\n",
    "\n",
    "$N_B = mg - N_A = 766.3~(N)$\n",
    "\n",
    "$N_A$ och $N_B$ var de normalkrafter som söktes i uppgift (b).\n",
    "</details>"
   ]
  },
  {
   "cell_type": "markdown",
   "metadata": {},
   "source": [
    "<details>\n",
    "    <summary>\n",
    "        <h2>Analys<br></h2>\n",
    "    </summary>\n",
    "Att $N_B$ är större än $N_A$ är rimligt eftersom $\\mathbf{F}$ ger ett kraftmoment som lägger tyngden mer på det nedre högra hörnet. Hade kylskåpet börjat välta hade $N_A$ helt försvunnit.\n",
    "\n",
    "Momentjämvikten hade också kunnat behandlas med momentpunkten satt där $F$ angriper kylskåpet.\n",
    "</details>"
   ]
  },
  {
   "cell_type": "markdown",
   "metadata": {},
   "source": [
    "**Beräkning med insatta värden:**"
   ]
  },
  {
   "cell_type": "code",
   "execution_count": 6,
   "metadata": {},
   "outputs": [],
   "source": [
    "from ipywidgets import interact, interactive\n",
    "from ipywidgets import FloatSlider\n",
    "import numpy as np\n",
    "from IPython.display import HTML\n",
    "\n"
   ]
  },
  {
   "cell_type": "code",
   "execution_count": 7,
   "metadata": {},
   "outputs": [
    {
     "data": {
      "text/html": [
       "<script>\n",
       "code_show=true; \n",
       "function code_toggle() {\n",
       " if (code_show){\n",
       " $('div.input').hide();\n",
       " } else {\n",
       " $('div.input').show();\n",
       " }\n",
       " code_show = !code_show\n",
       "} \n",
       "$( document ).ready(code_toggle);\n",
       "</script>\n",
       "<form action=\"javascript:code_toggle()\"><input type=\"submit\" value=\"Tryck här för att dölja/visa koden.\"></form>"
      ],
      "text/plain": [
       "<IPython.core.display.HTML object>"
      ]
     },
     "execution_count": 7,
     "metadata": {},
     "output_type": "execute_result"
    }
   ],
   "source": [
    "HTML('''<script>\n",
    "code_show=true; \n",
    "function code_toggle() {\n",
    " if (code_show){\n",
    " $('div.input').hide();\n",
    " } else {\n",
    " $('div.input').show();\n",
    " }\n",
    " code_show = !code_show\n",
    "} \n",
    "$( document ).ready(code_toggle);\n",
    "</script>\n",
    "<form action=\"javascript:code_toggle()\"><input type=\"submit\" value=\"Tryck här för att dölja/visa koden.\"></form>''')"
   ]
  },
  {
   "cell_type": "code",
   "execution_count": 2,
   "metadata": {},
   "outputs": [],
   "source": [
    "# Set parameters according to exercise description\n",
    "\n",
    "G = 9.81  # acceleration due to gravity, in m/s^2\n",
    "F = 133.4\n",
    "h = 1.524\n",
    "H = 1.800\n",
    "d = 0.711\n",
    "b = 2*0.3556\n",
    "\n",
    "mu = 0.1\n",
    "\n",
    "m = 1023/G\n",
    "\n",
    "I = 1.0/12.0*m*(H**2+b**2)"
   ]
  },
  {
   "cell_type": "code",
   "execution_count": 3,
   "metadata": {},
   "outputs": [],
   "source": [
    "def e_18_2(F,mu):\n",
    "\n",
    "    a=max(0.0,(F-mu*m*G)/m)\n",
    "    Na=max(0.0,-F*(h-d)/b+m*G*(1/2-mu*d/b))\n",
    "    Nb=max(0.0,m*G-Na)\n",
    "    print(\"Accelerationen a= \",'{:4.2f}'.format(a),\"m/s^2\")\n",
    "    print(\"Normalkraften N_A= \",'{:6.1f}'.format(Na),\"N\")\n",
    "    print(\"Normalkraften N_B= \",'{:6.1f}'.format(Nb),\"N\")\n",
    "\n",
    "\n",
    "    return a,Na,Nb"
   ]
  },
  {
   "cell_type": "code",
   "execution_count": 4,
   "metadata": {},
   "outputs": [
    {
     "data": {
      "application/vnd.jupyter.widget-view+json": {
       "model_id": "036bfd9615a24d2d8ce36022337f0470",
       "version_major": 2,
       "version_minor": 0
      },
      "text/plain": [
       "interactive(children=(FloatSlider(value=133.4, description='F', max=200.0), FloatSlider(value=0.1, description…"
      ]
     },
     "metadata": {},
     "output_type": "display_data"
    }
   ],
   "source": [
    "s_18_2=interactive(e_18_2, \n",
    "              F=FloatSlider(min=0.0,max=200,value=133.4),\n",
    "              mu=FloatSlider(min=0.0,max=0.20,value=0.1,step=0.01))\n",
    "display(s_18_2)"
   ]
  },
  {
   "cell_type": "code",
   "execution_count": null,
   "metadata": {},
   "outputs": [],
   "source": []
  }
 ],
 "metadata": {
  "celltoolbar": "Tags",
  "kernelspec": {
   "display_name": "Python 3",
   "language": "python",
   "name": "python3"
  },
  "language_info": {
   "codemirror_mode": {
    "name": "ipython",
    "version": 3
   },
   "file_extension": ".py",
   "mimetype": "text/x-python",
   "name": "python",
   "nbconvert_exporter": "python",
   "pygments_lexer": "ipython3",
   "version": "3.7.7"
  }
 },
 "nbformat": 4,
 "nbformat_minor": 2
}
