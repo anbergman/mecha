{
 "cells": [
  {
   "cell_type": "markdown",
   "metadata": {},
   "source": [
    "# Mekanik II, problem 18.17"
   ]
  },
  {
   "cell_type": "markdown",
   "metadata": {},
   "source": [
    "The moment of inertia of the pulley is 0.54 $kgm^2$. The coefficient of kinetic friction between the 22.2 N weight and the horizontal surface is $\\mu_k$ = 0.2. Determine the magnitude of the acceleration of the 22.2 N weight in each case.\n",
    "\n",
    "![BlockTalja](./BF18_17.png)\n",
    "\n"
   ]
  },
  {
   "cell_type": "markdown",
   "metadata": {},
   "source": [
    "# Lösning:"
   ]
  },
  {
   "cell_type": "markdown",
   "metadata": {},
   "source": [
    "## Friläggning och krafter\n",
    "\n",
    "För att lösa de två fallen behöver vi frilägga systemen. Först inför vi följande beteckningar för (a)-uppgiften\n",
    "\n",
    "![LabelA](./BF18_17a.png)\n",
    "\n",
    "samt för (b)-uppgiften.\n",
    "\n",
    "![LabelB](./BF18_17b.png)\n",
    "\n",
    "Därefter kan vi frilägga de individuella delsystemen enligt nedan.\n",
    "\n",
    "Den glidande massan $m$\n",
    "![Massanm](./BF18_17mf.png)\n",
    "där\n",
    "$$\\begin{align}\n",
    "&\\mathbf{f} =-f\\hat{x}=\\mu_k N \\hat{x} \\\\\n",
    "&\\mathbf{T}_1 =T_1\\hat{x} \\\\\n",
    "&\\mathbf{N} =N\\hat{y} \\\\\n",
    "&m\\mathbf{g} =-mg\\hat{y}\n",
    "\\end{align}$$\n",
    "\n",
    "Den roterande trissan $s$\n",
    "![TrissanS](./BF18_17sf.png)\n",
    "där\n",
    "$$\\begin{align}\n",
    "&\\mathbf{T}_1 =-T_1\\hat{x} \\\\\n",
    "&\\mathbf{N}_s =N_s\\hat{y} \\\\\n",
    "&m_s\\mathbf{g} =-m_sg\\hat{y} \\\\\n",
    "&\\mathbf{T}_2 =T_2\\hat{y}\n",
    "\\end{align}$$\n",
    "\n",
    "Den fallande massan $M$\n",
    "![MassanM](./BF18_17mmf.png)\n",
    "där\n",
    "$$\\begin{align}\n",
    "&\\mathbf{T}_2 =T_2\\hat{y} \\\\\n",
    "&M\\mathbf{g} =-Mg\\hat{y}\n",
    "\\end{align}$$\n",
    "\n",
    "\n",
    "I samtliga figurer ansätter vi ett koordinatsystem med $x$-axeln åt höger och $y$ uppåt."
   ]
  },
  {
   "cell_type": "markdown",
   "metadata": {},
   "source": [
    "## Fysikaliska samband\n",
    "\n",
    "Med alla delsystem frilagda kan vi ställa upp Euler I och Euler II där det är relevant. Här kan antas att massan $m$ rör sig i $x$-led men inte roterar och trissan $s$ roterar men att dess masscentrum inte accelererar. I uppgift (b) kan massan $M$ röra sig i $y$-led.\n",
    "\n",
    "Kopplingen mellan rörelsekvationerna för de individuella systemen görs sedan genom snörkrafterna där det för ett masslöst snöre gäller att snörkraften är lika stor i båda riktningar. Därför använder vi $T_1$ i friläggningarna för både massan $m$ och trissan.\n",
    "\n",
    "Utöver Euler I och Euler II har vi även kinematiska tvångsvillkor där $a_m=a_M$ och $a_m=-\\alpha r$ eftersom snöret inte är töjbart. Minustecknet i rullvillkoret kommer från att vi ansätter $\\mathbf{a}_m=a_m\\hat{x}$ och $\\alpha=\\alpha\\hat{z}$."
   ]
  },
  {
   "cell_type": "markdown",
   "metadata": {},
   "source": [
    "## Kraft- och momentanalys: Euler I och II\n",
    "\n",
    "#### Massan m\n",
    "Euler I för massan m: $\\sum_i \\mathbf{F}_i = \\mathbf{T}_1 + m\\mathbf{g} + \\mathbf{N} +  \\mathbf{f} = m\\mathbf{a}$\n",
    "\n",
    "Komposantuppdelning i $\\hat{x}$- och $\\hat{y}$-led av verkande krafter gör att vi kan formulera Euler I i vardera riktning.\n",
    "\n",
    "$\\hat{x}$: $T_1-f= T_1-\\mu N= ma_m$ **(I)**\n",
    "\n",
    "$\\hat{y}$: $N - mg = 0$ **(II)**\n",
    "\n",
    "#### Trissan \n",
    "Euler II för trissan: $\\sum_i \\mathbf{M}^P_i = \\sum_i \\mathbf{r}_i \\times \\mathbf{F}_i = I\\alpha$.  Ett bra val av momentpunkt är här trissans upphängningspunkt för då ger inte $\\mathbf{N}_s$ och $m_s\\mathbf{g}$ upphov till några kraftmoment. Då kan vi skriva\n",
    "\n",
    "$\\sum_i \\mathbf{M} = \\sum_i \\mathbf{r}_i \\times \\mathbf{F}_i = \\mathbf{r}_1 \\times \\mathbf{T}_1 + \\mathbf{r}_2 \\times \\mathbf{T}_2$\n",
    "\n",
    "Vektorerna $\\mathbf{r}_1$ och $\\mathbf{r}_2$ kan från figurerna ovan bestämmas till\n",
    "\n",
    "$\\mathbf{r}_1 = r \\hat{y} \\\\\n",
    "\\mathbf{r}_2 = r \\hat{x}$\n",
    "\n",
    "så att alla kraftmoment ligger i $z$-riktningen:\n",
    "\n",
    "$\\sum_i \\mathbf{M} =  r\\hat{y} \\times (-T_1\\hat{x}) + r\\hat{x} \\times (-T_2 \\hat{y}) = T_1 r - T_2 r = I\\alpha$ **(III)**\n",
    "\n",
    "#### Massan M\n",
    "\n",
    "\n",
    "Euler I för massan M: $\\sum_i \\mathbf{F}_i = \\mathbf{T}_2 + M\\mathbf{g} $\n",
    "\n",
    "Komposantuppdelning i $\\hat{x}$- och $\\hat{y}$-led av verkande krafter gör att vi kan formulera Euler I i vardera riktning.\n",
    "\n",
    "$\\hat{y}$: $T_2 - Mg = Ma_M$ **(IV)**\n"
   ]
  },
  {
   "cell_type": "markdown",
   "metadata": {},
   "source": [
    "## Ekvationslösning för uppgift (a)\n",
    "    \n",
    "Från **(II)** fås att $N=mg$ vilket ger att $f=\\mu_k N = \\mu_k mg$ vilket insatt i **(I)** ger\n",
    "\n",
    "$T_1-\\mu_k mg = ma_m$\n",
    "\n",
    "Här kan $T_1$ lösas ut. För uppgift (a) är $T_2=F$ vilket gör att vi kan skriva **(III)** som\n",
    "\n",
    "$I\\alpha = (m a_m+\\mu_k mg) r - Fr$ **(V)**\n",
    "\n",
    "där vi sedan kan sätta in rullvillkoret $-m_a=r\\alpha$ så att\n",
    "\n",
    "$$\\begin{align}\n",
    "-I\\frac{a_m}{r} &= (m a_m+\\mu_k mg) r - Fr \\\\\n",
    "-I\\frac{a_m}{r} &= (m a_m+\\mu_k mg) r - Fr \\\\\n",
    "-I\\frac{a_m}{r^2} &= m a_m+\\mu_k mg - F \\\\\n",
    " m a_m+I\\frac{a_m}{r^2} &= F-\\mu_k mg \\\\\n",
    " a_m(m+\\frac{I}{r^2}) &= F-\\mu_k mg \\\\\n",
    " a_m &= \\frac{F-\\mu_k mg}{m+\\frac{I}{r^2}}\n",
    "\\end{align}$$\n",
    "vilket ger svaret i (a).\n"
   ]
  },
  {
   "cell_type": "markdown",
   "metadata": {},
   "source": [
    "## Ekvationslösning för uppgift (b)\n",
    "    \n",
    "Uppgift (b) kan lösas på ett liknande sätt förutom att här är snörkraften $T_2$ inte $F$ som i uppgift (a), utan $T_2$ måste beräknas från Euler I för massan M. \n",
    "\n",
    "Från **(IV)** fås att $T_2=Mg-Ma_M$ vilket kan sättas in istället för $F$ i **(V)** så att \n",
    " \n",
    "$I\\alpha = (m a_m+\\mu_k mg) r - (Mg-Ma_M)r$ **(VI)**\n",
    "\n",
    "där vi sedan kan sätta in rullvillkoret $-m_a=r\\alpha$ och dessutom införa $a=a_m=a_M$ så att\n",
    "\n",
    "\n",
    "\n",
    "\n",
    "$$\\begin{align}\n",
    "-&I\\frac{a}{r} = (m a+\\mu_k mg) r - (Mg-Ma)r \\\\\n",
    "-&I\\frac{a}{r} = (m a+\\mu_k mg) r - (Mg-Ma)r \\\\\n",
    "-&I\\frac{a}{r^2} = m a+\\mu_k mg - (Mg-Ma) \\\\\n",
    "& m a + M a +I\\frac{a_m}{r^2} = Mg -\\mu_k mg \\\\\n",
    "& a (m+M+\\frac{I}{r^2}) = Mg-\\mu_k mg \\\\\n",
    "& a = \\frac{Mg-\\mu_k mg}{m+M+\\frac{I}{r^2}}\n",
    "\\end{align}$$\n",
    "vilket ger svaret i (b).\n"
   ]
  },
  {
   "cell_type": "markdown",
   "metadata": {},
   "source": [
    "## Svar\n",
    "Med insatta värden blir $a_m=a=0.157~m/s^2$ för uppgift (a) och $a_m=a=0.152~m/s^2$ för uppgift (b)."
   ]
  },
  {
   "cell_type": "markdown",
   "metadata": {},
   "source": [
    "## Analys\n",
    "Trots att uppgifterna ser snarlika ut blir accelerationen i (b) lägre. Det beror på att den ändliga massan M i (b) gör att snörkraften $T_2$ blir mindre än i (a). Det kan ses som att utöver att få trissan att snurra så behöver kraften på 8.9 N accelerera både M och m i (b) men bara m i (a).\n",
    "\n",
    "Notera också att $T_1\\neq T_2$ här. Det kan vara ovant från tidigare kurser där snörkraften typiskt är konstant över hela snörets längd. Men det beror ju på att snöret då anses masslöst. Här, och i liknande trissa-uppgifter har vi dock en ändlig tröghetstensor $I$ för trissan så även om snöret är fortsatt masslöst visar Euler II att snörkrafterna är olika stora."
   ]
  },
  {
   "cell_type": "markdown",
   "metadata": {},
   "source": [
    "**Beräkning med insatta värden:**"
   ]
  },
  {
   "cell_type": "code",
   "execution_count": 1,
   "metadata": {},
   "outputs": [],
   "source": [
    "from ipywidgets import interact, interactive\n",
    "from ipywidgets import FloatSlider\n",
    "import numpy as np\n",
    "from IPython.display import HTML\n",
    "\n"
   ]
  },
  {
   "cell_type": "code",
   "execution_count": 2,
   "metadata": {},
   "outputs": [
    {
     "data": {
      "text/html": [
       "<script>\n",
       "code_show=true; \n",
       "function code_toggle() {\n",
       " if (code_show){\n",
       " $('div.input').hide();\n",
       " } else {\n",
       " $('div.input').show();\n",
       " }\n",
       " code_show = !code_show\n",
       "} \n",
       "$( document ).ready(code_toggle);\n",
       "</script>\n",
       "<form action=\"javascript:code_toggle()\"><input type=\"submit\" value=\"Tryck här för att dölja/visa koden.\"></form>"
      ],
      "text/plain": [
       "<IPython.core.display.HTML object>"
      ]
     },
     "execution_count": 2,
     "metadata": {},
     "output_type": "execute_result"
    }
   ],
   "source": [
    "HTML('''<script>\n",
    "code_show=true; \n",
    "function code_toggle() {\n",
    " if (code_show){\n",
    " $('div.input').hide();\n",
    " } else {\n",
    " $('div.input').show();\n",
    " }\n",
    " code_show = !code_show\n",
    "} \n",
    "$( document ).ready(code_toggle);\n",
    "</script>\n",
    "<form action=\"javascript:code_toggle()\"><input type=\"submit\" value=\"Tryck här för att dölja/visa koden.\"></form>''')"
   ]
  },
  {
   "cell_type": "code",
   "execution_count": 3,
   "metadata": {},
   "outputs": [],
   "source": [
    "# Set parameters according to exercise description\n",
    "\n",
    "G = 9.81  # acceleration due to gravity, in m/s^2\n",
    "\n",
    "mu = 0.22\n",
    "mg=22.2\n",
    "I=0.54\n",
    "r=0.1524\n",
    "F=8.9"
   ]
  },
  {
   "cell_type": "code",
   "execution_count": 4,
   "metadata": {},
   "outputs": [],
   "source": [
    "def e_18_17a(F,mu,mg,I):\n",
    "\n",
    "    m=mg/G\n",
    "    m2=F/G\n",
    "    a_a=max(0.0,(F-mu*mg)/(m+I/r**2))\n",
    "\n",
    "    print(\"Accelerationen a i uppgift (a)= \",'{:5.3f}'.format(a_a),\"m/s^2\")\n",
    "\n",
    "\n",
    "\n",
    "    return a_a"
   ]
  },
  {
   "cell_type": "code",
   "execution_count": 5,
   "metadata": {},
   "outputs": [],
   "source": [
    "def e_18_17b(mu,mg,Mg,I):\n",
    "\n",
    "    m=mg/G\n",
    "    m2=Mg/G\n",
    "    a_b=max(0.0,(F-mu*mg)/(m+m2+I/r**2))\n",
    "\n",
    "    print(\"Accelerationen a i uppgift (b)= \",'{:5.3f}'.format(a_b),\"m/s^2\")\n",
    "\n",
    "\n",
    "\n",
    "    return a_b"
   ]
  },
  {
   "cell_type": "code",
   "execution_count": 6,
   "metadata": {},
   "outputs": [
    {
     "data": {
      "application/vnd.jupyter.widget-view+json": {
       "model_id": "01740a29814b413daa2317a2fd3ec4e2",
       "version_major": 2,
       "version_minor": 0
      },
      "text/plain": [
       "interactive(children=(FloatSlider(value=8.9, description='F', max=20.0), FloatSlider(value=0.22, description='…"
      ]
     },
     "metadata": {},
     "output_type": "display_data"
    }
   ],
   "source": [
    "s_18_17a=interactive(e_18_17a, \n",
    "              F=FloatSlider(min=0.0,max=20,value=8.9),\n",
    "              mu=FloatSlider(min=0.0,max=0.40,value=0.22,step=0.01),\n",
    "              mg=FloatSlider(min=0.0,max=40.0,value=22.2,step=0.01),\n",
    "              I=FloatSlider(min=0.0,max=1.0,value=0.54,step=0.01),)\n",
    "display(s_18_17a)"
   ]
  },
  {
   "cell_type": "code",
   "execution_count": 7,
   "metadata": {},
   "outputs": [
    {
     "data": {
      "application/vnd.jupyter.widget-view+json": {
       "model_id": "a8f5768839ab4e9c903bbd7db842b413",
       "version_major": 2,
       "version_minor": 0
      },
      "text/plain": [
       "interactive(children=(FloatSlider(value=0.22, description='mu', max=0.4, step=0.01), FloatSlider(value=22.2, d…"
      ]
     },
     "metadata": {},
     "output_type": "display_data"
    }
   ],
   "source": [
    "s_18_17b=interactive(e_18_17b, \n",
    "              mu=FloatSlider(min=0.0,max=0.40,value=0.22,step=0.01),\n",
    "              mg=FloatSlider(min=0.0,max=40.0,value=22.2,step=0.01),\n",
    "              Mg=FloatSlider(min=0.0,max=20.0,value=8.9,step=0.01),\n",
    "              I=FloatSlider(min=0.0,max=1.0,value=0.54,step=0.01),)\n",
    "display(s_18_17b)"
   ]
  },
  {
   "cell_type": "code",
   "execution_count": null,
   "metadata": {},
   "outputs": [],
   "source": []
  }
 ],
 "metadata": {
  "celltoolbar": "Tags",
  "kernelspec": {
   "display_name": "Python 3",
   "language": "python",
   "name": "python3"
  },
  "language_info": {
   "codemirror_mode": {
    "name": "ipython",
    "version": 3
   },
   "file_extension": ".py",
   "mimetype": "text/x-python",
   "name": "python",
   "nbconvert_exporter": "python",
   "pygments_lexer": "ipython3",
   "version": "3.7.7"
  }
 },
 "nbformat": 4,
 "nbformat_minor": 2
}
