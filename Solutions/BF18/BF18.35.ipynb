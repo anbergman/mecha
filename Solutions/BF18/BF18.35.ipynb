{
 "cells": [
  {
   "cell_type": "markdown",
   "metadata": {},
   "source": [
    "## Mekanik II, problem 18.35"
   ]
  },
  {
   "cell_type": "markdown",
   "metadata": {},
   "source": [
    "The stepped disk weighs 1788 N and its moment of inertia is I = 0.27 kg-m . If the disk is released from rest, how long does it take its center to fall 0.91 m? (Assume that the string remains vertical.)\n",
    "\n",
    "![FallSkiva](./BF18_35.png)\n",
    "\n"
   ]
  },
  {
   "cell_type": "markdown",
   "metadata": {},
   "source": [
    "# Lösning:"
   ]
  },
  {
   "cell_type": "markdown",
   "metadata": {},
   "source": [
    "## Friläggning och beteckningar\n",
    "\n",
    "Vi börjar med att frilägga systemet och införa relevanta beteckningar.\n",
    "\n",
    "![FSkiva](./BF18_35a.png)\n",
    "\n",
    "De krafter som verkar är här $\\mathbf{T}=T\\hat{y}$ och $m\\mathbf{g}=-mg\\hat{y}$. Skivans inre radie är $r$ och yttre radien är $R$. Vektorn från masscentrum till där snörkraften angriper är inte utritad men kan skrivas som $\\mathbf{r}_T=-r\\hat{x}$.\n"
   ]
  },
  {
   "cell_type": "markdown",
   "metadata": {},
   "source": [
    "## Fysikaliska samband\n",
    "\n",
    "Stången kommer falla nedåt när den släpps. Krafterna verkar bara i y-led så det kan inte uppkomma någon acceleration i x-led. Vi kan därför betrakta skivans rotation kring masscentrum för att bestämma vinkelaccelerationen $\\alpha$ från Euler II och dess acceleration $\\mathbf{a}$ från Euler I. \n",
    "Det kinematiska sambandet mellan $\\alpha$ och $\\mathbf{a}$ fås via rullvillkoret kring den inre radien $r$.\n",
    "\n",
    "För att bestämma rörelsen som efterfrågas (falltid) måste vi veta $a$. I problemet är snörkraften $T$ och vinkelaccelerationen $\\alpha$ okänds och behöver lösas ut för att kunna beräkna $a$."
   ]
  },
  {
   "cell_type": "markdown",
   "metadata": {},
   "source": [
    "## Kraft- och momentanalys: Euler I och II\n",
    "\n",
    "#### Euler I\n",
    "Euler I för systemet:\n",
    "\n",
    "$\\sum \\mathbf{F} = T\\hat{y} - mg\\hat{y} = m\\mathbf{a}=ma\\hat{y}$  **(I)**\n",
    "\n",
    "#### Euler II\n",
    "\n",
    "\n",
    "Euler II för skivan kring masscentrum: \n",
    "\n",
    "$\\mathbf{M} = \\mathbf{r}_T \\times \\mathbf{T} = -r\\hat{x} \\times T\\hat{y} = -rT \\hat{z} = I\\alpha \\hat{z}$ **(II)**\n",
    "\n",
    "#### Rullvillkor\n",
    "\n",
    "I ekvationerna ovan har vi satt $a$ positivt i y-led och $\\alpha$ positivt i z-led. Det innebär att rullvillkoret här blir $a=r\\alpha$ **(III)**. Det kan motiveras eftersom för en positiv acceleration i y-led måste skivan snurra \"upp\" tråden d.v.s rotera moturs, vilket är i postiv z-led.\n"
   ]
  },
  {
   "cell_type": "markdown",
   "metadata": {},
   "source": [
    "## Beräkning\n",
    "\n",
    "#### Bestämning av a\n",
    "Från **(II)** och **(III)** kan vi lösa ut $T$ som\n",
    "\n",
    "$T=-\\frac{I\\alpha}{r}=-\\frac{Ia}{r^2}$.\n",
    "\n",
    "Insatt i **(I)** ger det \n",
    "\n",
    "$$\n",
    "\\begin{align}\n",
    "ma=T-mg&=-\\frac{Ia}{r^2}-mg \\\\\n",
    "a(m+\\frac{I}{r^2})&=-mg \\\\\n",
    "a&=-\\frac{g}{1+\\frac{I}{mr^2}}\n",
    "\\end{align}\n",
    "$$\n",
    "\n",
    "så att accelerationen kan skrivas som $\\mathbf{a}=-\\frac{g}{1+\\frac{I}{mr^2}}\\hat{y}$. \n",
    "\n",
    "#### Integrering av rörelseekvationen\n",
    "\n",
    "Accelerationen $a$ från beräkningen ovan är konstant så hastigheten kan  integreras fram som\n",
    "$$\n",
    "\\begin{align}\n",
    "a&=\\frac{dv}{dt} \\\\\n",
    "a dt &= dv \\\\\n",
    "-\\frac{g}{1+\\frac{I}{mr^2}} dt &= dv  \\\\\n",
    "-\\int_0^t \\frac{g}{1+\\frac{I}{mr^2}} dt &= \\int_0^v dv  = v \\\\\n",
    "v &=  -\\frac{gt}{1+\\frac{I}{mr^2}}\n",
    "\\end{align}\n",
    "$$\n",
    "\n",
    "På liknande sätt kan sambandet mellan falltiden $t$ och fallsträckan $s$ fås \n",
    "$$\n",
    "\\begin{align}\n",
    "v&=\\frac{ds}{dt} \\\\\n",
    "v dt &= ds \\\\\n",
    "-\\frac{gt}{1+\\frac{I}{mr^2}} dt &= ds  \\\\\n",
    "-\\int_0^t \\frac{gt}{1+\\frac{I}{mr^2}} dt  &= \\int_0^s ds  = s \\\\\n",
    "s &= -\\frac{1}{2}\\frac{gt^2}{1+\\frac{I}{mr^2}}  \\\\\n",
    "t &= \\sqrt{-\\frac{2s}{g}(1+\\frac{I}{mr^2})}\n",
    "\\end{align}\n",
    "$$\n",
    "\n",
    "Notera att sträckan $s$ här kommer vara negativ eftersom trissan fallit nedåt, d.v.s. i negativ y-riktning."
   ]
  },
  {
   "cell_type": "markdown",
   "metadata": {},
   "source": [
    "### Svar\n",
    "Med insatta värden (med $s=-0.91$) blir $t=0.67$ s."
   ]
  },
  {
   "cell_type": "markdown",
   "metadata": {},
   "source": [
    "**Beräkning med insatta värden:**"
   ]
  },
  {
   "cell_type": "code",
   "execution_count": 1,
   "metadata": {},
   "outputs": [],
   "source": [
    "from ipywidgets import interact, interactive\n",
    "from ipywidgets import FloatSlider\n",
    "import numpy as np\n",
    "from IPython.display import HTML\n",
    "\n"
   ]
  },
  {
   "cell_type": "code",
   "execution_count": 2,
   "metadata": {},
   "outputs": [
    {
     "data": {
      "text/html": [
       "<script>\n",
       "code_show=true; \n",
       "function code_toggle() {\n",
       " if (code_show){\n",
       " $('div.input').hide();\n",
       " } else {\n",
       " $('div.input').show();\n",
       " }\n",
       " code_show = !code_show\n",
       "} \n",
       "$( document ).ready(code_toggle);\n",
       "</script>\n",
       "<form action=\"javascript:code_toggle()\"><input type=\"submit\" value=\"Tryck här för att dölja/visa koden.\"></form>"
      ],
      "text/plain": [
       "<IPython.core.display.HTML object>"
      ]
     },
     "execution_count": 2,
     "metadata": {},
     "output_type": "execute_result"
    }
   ],
   "source": [
    "HTML('''<script>\n",
    "code_show=true; \n",
    "function code_toggle() {\n",
    " if (code_show){\n",
    " $('div.input').hide();\n",
    " } else {\n",
    " $('div.input').show();\n",
    " }\n",
    " code_show = !code_show\n",
    "} \n",
    "$( document ).ready(code_toggle);\n",
    "</script>\n",
    "<form action=\"javascript:code_toggle()\"><input type=\"submit\" value=\"Tryck här för att dölja/visa koden.\"></form>''')"
   ]
  },
  {
   "cell_type": "code",
   "execution_count": 3,
   "metadata": {},
   "outputs": [],
   "source": [
    "# Set parameters according to exercise description\n",
    "\n",
    "g = 9.81  # acceleration due to gravity, in m/s^2\n",
    "l = 0.91\n",
    "mg=178\n",
    "r=0.1016\n",
    "I=0.27\n"
   ]
  },
  {
   "cell_type": "code",
   "execution_count": 4,
   "metadata": {},
   "outputs": [],
   "source": [
    "def e_18_35(g,l,mg,r,I):\n",
    "\n",
    "    m=mg/g\n",
    "    t=np.sqrt(2*l/g*(1+I/(m*r*r)))\n",
    "\n",
    "    print(\"Falltiden t = \",'{:5.3f}'.format(t),\"s\")\n",
    "\n",
    "    return t"
   ]
  },
  {
   "cell_type": "code",
   "execution_count": 5,
   "metadata": {},
   "outputs": [
    {
     "data": {
      "application/vnd.jupyter.widget-view+json": {
       "model_id": "6948a3c6266b4dfdbce8520f41d22550",
       "version_major": 2,
       "version_minor": 0
      },
      "text/plain": [
       "interactive(children=(FloatSlider(value=9.81, description='g', max=10.0, min=9.0), FloatSlider(value=0.91, des…"
      ]
     },
     "metadata": {},
     "output_type": "display_data"
    }
   ],
   "source": [
    "s_18_35=interactive(e_18_35, \n",
    "              g=FloatSlider(min=9.0,max=10.0,value=9.81),\n",
    "              l=FloatSlider(min=0.0,max=3,value=0.91),\n",
    "              mg=FloatSlider(min=0.0,max=300,value=178),\n",
    "              r=FloatSlider(min=0.0000,max=0.3000,value=0.1016,step=0.0001),\n",
    "              I=FloatSlider(min=0.0,max=1,value=0.27,step=0.01))\n",
    "display(s_18_35)"
   ]
  }
 ],
 "metadata": {
  "celltoolbar": "Tags",
  "kernelspec": {
   "display_name": "Python 3",
   "language": "python",
   "name": "python3"
  },
  "language_info": {
   "codemirror_mode": {
    "name": "ipython",
    "version": 3
   },
   "file_extension": ".py",
   "mimetype": "text/x-python",
   "name": "python",
   "nbconvert_exporter": "python",
   "pygments_lexer": "ipython3",
   "version": "3.9.4"
  }
 },
 "nbformat": 4,
 "nbformat_minor": 2
}
