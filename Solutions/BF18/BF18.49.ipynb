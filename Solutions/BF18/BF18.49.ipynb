{
 "cells": [
  {
   "cell_type": "markdown",
   "metadata": {},
   "source": [
    "## Mekanik II, problem 18.49"
   ]
  },
  {
   "cell_type": "markdown",
   "metadata": {},
   "source": [
    "The 22.2 N horizontal bar is connected\n",
    "to the 44.5 N disk by a smooth pin at A. The system is released from rest in the position shown. What are the angular accelerations of the bar and disk at that instant?\n",
    "\n",
    "![SkivFjader](./BF18_49.png)\n"
   ]
  },
  {
   "cell_type": "markdown",
   "metadata": {},
   "source": [
    "# Lösning:"
   ]
  },
  {
   "cell_type": "markdown",
   "metadata": {},
   "source": [
    "## Friläggning och beteckningar\n",
    "\n",
    "Vi börjar med att frilägga systemet och införa relevanta beteckningar.\n",
    "\n",
    "![Fstav](./BF18_49a.png)\n",
    "\n",
    "De krafter som verkar på stången är $\\mathbf{F}=-F_x\\hat{x}-F_y\\hat{y}$, $\\mathbf{N}=N_x\\hat{x}+N_y\\hat{y}$ och $m\\mathbf{g}=-mg\\hat{y}$\n",
    "\n",
    "![Fskiva](./BF18_49b.png)\n",
    "\n",
    "De krafter som verkar på skivan är $\\mathbf{F}=F_x\\hat{x}+F_y\\hat{y}$ och $M\\mathbf{g}=-Mg\\hat{y}$\n",
    "\n",
    "Skivan har radien $r$ och stången har längden $l$.\n",
    "\n",
    "Notera att vi använder $F$ på bägge delsystemen då de är lika stora men motriktade."
   ]
  },
  {
   "cell_type": "markdown",
   "metadata": {},
   "source": [
    "## Fysikaliska samband\n",
    "\n",
    "Uppgiften är att bestämma vinkelaccelerationerna $\\alpha_m$ och $\\alpha_M$.\n",
    "\n",
    "Systemet släpps från vila i horisontellt läge. Stången sitter fast i ena änden och kommer  börja rotera kring fixpunkten. Därför kan vi beskriva stångens rörelse som en ren rotationsrörelse. Även skivan kommer att rotera men även om vi betraktar den rotationen kring fästpunkten $A$ kommer dessutom skivans masscentrum att accelerera. Därför behövs både Euler I och Euler II användas för skivan. "
   ]
  },
  {
   "cell_type": "markdown",
   "metadata": {},
   "source": [
    "## Kraft- och momentanalys: Euler I och II\n",
    "\n",
    "#### Euler I\n",
    "Euler I för skivan:\n",
    "\n",
    "$\\sum_i \\mathbf{F}_i = M\\mathbf{g} + \\mathbf{F} = M\\mathbf{a_M}$ \n",
    "\n",
    "vilket i y-led blir\n",
    "\n",
    "$\\hat{y}: F_y - Mg = Ma_M$ **(I)**\n",
    "\n",
    "\n",
    "#### Euler II\n",
    "\n",
    "För Euler II behövs momentpunkter väljas. Ett praktiskt val här är upphängningspunkten $O$ för stången. För skivan kan punkten $A$, där den sitter fast i stången, användas men för att enklare hantera den okända kraften $F$ väljs här skivans masscentrum $C$ som momentpunkt.\n",
    "\n",
    "Euler II för stången:\n",
    "\n",
    "$\\mathbf{M}_O = \\frac{l}{2}\\hat{x} \\times (-mg) \\hat{y} + l\\hat{x} \\times (-F_x\\hat{x}-F_y\\hat{y})=-\\frac{mgl}{2} \\hat{z} - F_y l \\hat{z} = I_m\\alpha_m \\hat{z}$ **(II)**\n",
    " \n",
    "Euler II för skivan:\n",
    "\n",
    "$\\mathbf{M}_C = -r \\hat{x} \\times (F_x\\hat{x}+F_y\\hat{y}) = -F_y r \\hat{z} = I_M \\alpha_M \\hat{z}$ **(III)**\n",
    "\n",
    "#### Tröghetsmoment\n",
    "\n",
    "Eftersom inga tröghetsmoment är givna behöver vi bestämma dem från deras givna former.\n",
    "För rotation av en stång kring en ände, som $I_m$, gäller $I_m=\\frac{ml^2}{3}$. För rotationen av en skiva kring masscentrum, som $I_M$, gäller $I_M=\\frac{Mr^2}{2}$.\n",
    "\n",
    "#### Kinematiska tvång\n",
    "\n",
    "Utöver Euler I och Euler II behöver vi kinematiska samband mellan skivan och stångens rörelser. För skivans acceleration $a_M$ gäller att\n",
    "\n",
    "$a_M=l\\alpha_m+r\\alpha_M$ **(IV)**\n",
    "\n",
    "Det kan inses från det generella sambandet mellan acceleration och vinkelacceleration $|a|=|r\\alpha|$ där avståndet initialt från skivans masscentrum $C$ till den fasta punkten $O$ är $l+r$ men där två rotationsrörelser kommer in. Tecknet i sambandet ovan kan förklaras från att en positiv acceleration i y-led motsvarar en moturs rotation d.v.s. en positiv vinkelacceleration i z-led i det koordinatsystem vi använder.\n"
   ]
  },
  {
   "cell_type": "markdown",
   "metadata": {},
   "source": [
    "## Beräkning\n",
    "\n",
    "Vi ser från **(II)** och **(III)** att endast y-komponenten $F_y$ bidrar till kraftmomenten i Euler II. Från **(I)** och **(IV)** kan vi lösa ut $F_y$\n",
    "\n",
    "\n",
    "$F_y=M(a_M+g) = M(l\\alpha_m + r\\alpha_M + g)$\n",
    "\n",
    "Insatt i **(III)** ger det \n",
    "\n",
    "$$\n",
    "\\begin{align}\n",
    "-F_y r = -(Ml\\alpha_m + Mr\\alpha_M + Mg)r &= I_M\\alpha_M = \\frac{Mr^2}{2}\\alpha_M \\\\\n",
    "-Mlr\\alpha_m-Mr^2\\alpha_M-Mgr &=   \\frac{Mr^2}{2}\\alpha_M \\\\\n",
    "-Mlr\\alpha_m  &=   \\frac{3Mr^2}{2}\\alpha_M + Mgr  \\\\\n",
    "\\alpha_m &= -\\frac{3r}{2l}\\alpha_M -\\frac{g}{l}\n",
    "\\end{align}\n",
    "$$\n",
    "\n",
    "Alternativt kan vi skriva $\\alpha_M = -\\frac{2l}{3r}\\alpha_m -\\frac{2g}{3r}$\n",
    "\n",
    "Utrycken för $F_y$ och $\\alpha_M$ kan även sättas in i **(II)**\n",
    "$$\n",
    "\\begin{align}\n",
    "-\\frac{mgl}{2} - F_y l &= I_m\\alpha_m =\\frac{ml^2}{3} \\alpha_m \\\\\n",
    "-F_y &= \\frac{mg}{2} + \\frac{ml}{3} \\alpha_m \\\\\n",
    "-Ml\\alpha_m -Mr\\alpha_M - Mg &= \\frac{mg}{2} + \\frac{ml}{3} \\alpha_m \\\\\n",
    "-Ml\\alpha_m -Mr(-\\frac{2l}{3r}\\alpha_m -\\frac{2g}{3r}) - Mg &= \\frac{mg}{2} + \\frac{ml}{3} \\alpha_m \\\\\n",
    "-Ml\\alpha_m +\\frac{2Ml}{3}\\alpha_m + \\frac{2Mg}{3} - Mg &= \\frac{mg}{2} + \\frac{ml}{3} \\alpha_m \\\\\n",
    "\\alpha_m (-Ml -\\frac{2Ml}{3} - \\frac{ml}{3} ) &= -\\frac{2Mg}{3} + Mg +\\frac{mg}{2} \\\\\n",
    "\\alpha_m (-\\frac{5Ml}{3} - \\frac{ml}{3} ) &= \\frac{Mg}{3}  + \\frac{mg}{2} \\\\\n",
    "\\alpha_m &= -\\frac{\\frac{Mg}{3}  + \\frac{mg}{2}}{\\frac{5Ml}{3} + \\frac{ml}{3}} \\\\\n",
    "\\alpha_m &= -\\frac{Mg  + \\frac{3mg}{2}}{5Ml+ml} \n",
    "\\end{align}\n",
    "$$\n",
    "\n",
    "Därefter kan $\\alpha_M$ bestämas\n",
    "$$\n",
    "\\begin{align}\n",
    "\\alpha_M &= -\\frac{2l}{3r}\\alpha_m -\\frac{2g}{3r} \\\\\n",
    "\\alpha_M &= \\frac{1}{3r}(\\frac{2 Mg  + 3mg}{5Ml+ml} - 2g)\n",
    "\\end{align}\n",
    "$$"
   ]
  },
  {
   "cell_type": "markdown",
   "metadata": {},
   "source": [
    "**Beräkning med insatta värden:**"
   ]
  },
  {
   "cell_type": "code",
   "execution_count": 1,
   "metadata": {},
   "outputs": [],
   "source": [
    "from ipywidgets import interact, interactive\n",
    "from ipywidgets import FloatSlider\n",
    "import numpy as np\n",
    "from IPython.display import HTML\n",
    "\n"
   ]
  },
  {
   "cell_type": "code",
   "execution_count": 2,
   "metadata": {},
   "outputs": [
    {
     "data": {
      "text/html": [
       "<script>\n",
       "code_show=true; \n",
       "function code_toggle() {\n",
       " if (code_show){\n",
       " $('div.input').hide();\n",
       " } else {\n",
       " $('div.input').show();\n",
       " }\n",
       " code_show = !code_show\n",
       "} \n",
       "$( document ).ready(code_toggle);\n",
       "</script>\n",
       "<form action=\"javascript:code_toggle()\"><input type=\"submit\" value=\"Tryck här för att dölja/visa koden.\"></form>"
      ],
      "text/plain": [
       "<IPython.core.display.HTML object>"
      ]
     },
     "execution_count": 2,
     "metadata": {},
     "output_type": "execute_result"
    }
   ],
   "source": [
    "HTML('''<script>\n",
    "code_show=true; \n",
    "function code_toggle() {\n",
    " if (code_show){\n",
    " $('div.input').hide();\n",
    " } else {\n",
    " $('div.input').show();\n",
    " }\n",
    " code_show = !code_show\n",
    "} \n",
    "$( document ).ready(code_toggle);\n",
    "</script>\n",
    "<form action=\"javascript:code_toggle()\"><input type=\"submit\" value=\"Tryck här för att dölja/visa koden.\"></form>''')"
   ]
  },
  {
   "cell_type": "code",
   "execution_count": 3,
   "metadata": {},
   "outputs": [],
   "source": [
    "# Set parameters according to exercise description\n",
    "\n",
    "g = 9.81  # acceleration due to gravity, in m/s^2\n",
    "l = 0.91\n",
    "mg=178\n",
    "r=0.1016\n",
    "I=0.27\n"
   ]
  },
  {
   "cell_type": "code",
   "execution_count": 4,
   "metadata": {},
   "outputs": [],
   "source": [
    "def e_18_35(g,l,mg,r,I):\n",
    "\n",
    "    m=mg/g\n",
    "    t=np.sqrt(2*l/g*(1+I/(m*r*r)))\n",
    "\n",
    "    print(\"Falltiden t = \",'{:5.3f}'.format(t),\"s\")\n",
    "\n",
    "    return t"
   ]
  },
  {
   "cell_type": "code",
   "execution_count": 5,
   "metadata": {},
   "outputs": [
    {
     "data": {
      "application/vnd.jupyter.widget-view+json": {
       "model_id": "c9dd6e432b0e42af8a5864e181eaad2d",
       "version_major": 2,
       "version_minor": 0
      },
      "text/plain": [
       "interactive(children=(FloatSlider(value=9.81, description='g', max=10.0, min=9.0), FloatSlider(value=0.91, des…"
      ]
     },
     "metadata": {},
     "output_type": "display_data"
    }
   ],
   "source": [
    "s_18_35=interactive(e_18_35, \n",
    "              g=FloatSlider(min=9.0,max=10.0,value=9.81),\n",
    "              l=FloatSlider(min=0.0,max=3,value=0.91),\n",
    "              mg=FloatSlider(min=0.0,max=300,value=178),\n",
    "              r=FloatSlider(min=0.0000,max=0.3000,value=0.1016,step=0.0001),\n",
    "              I=FloatSlider(min=0.0,max=1,value=0.27,step=0.01))\n",
    "display(s_18_35)"
   ]
  }
 ],
 "metadata": {
  "celltoolbar": "Tags",
  "kernelspec": {
   "display_name": "Python 3",
   "language": "python",
   "name": "python3"
  },
  "language_info": {
   "codemirror_mode": {
    "name": "ipython",
    "version": 3
   },
   "file_extension": ".py",
   "mimetype": "text/x-python",
   "name": "python",
   "nbconvert_exporter": "python",
   "pygments_lexer": "ipython3",
   "version": "3.7.7"
  }
 },
 "nbformat": 4,
 "nbformat_minor": 2
}
