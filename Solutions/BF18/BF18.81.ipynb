{
 "cells": [
  {
   "cell_type": "markdown",
   "metadata": {},
   "source": [
    "# Mekanik II, problem 18.81"
   ]
  },
  {
   "cell_type": "markdown",
   "metadata": {},
   "source": [
    "An engineer gathering data for the design of a maneuvering unit determines that the astronaut’s center of mass is at x= 1.01 m, y= 0.16 m and that her moment of inertia about the z axis is 105.6 kg-m2. The astronaut’s mass is 81.6 kg. \n",
    "\n",
    "\n",
    "![Fan](./BF18_81.png)\n",
    "\n",
    "\n",
    "What is her moment of inertia about the z′ axis through her center of mass?\n",
    "\n",
    "\n",
    "\n"
   ]
  },
  {
   "cell_type": "markdown",
   "metadata": {},
   "source": [
    "# Lösning:"
   ]
  },
  {
   "cell_type": "markdown",
   "metadata": {},
   "source": [
    "## Fysikaliska samband ##\n",
    "\n",
    "Paralellaxelteoremet ger ett samband mellan tröghetsmomentet för en kropp kring en axel $z'$ som går genom dess masscentrum med en parallel axel $z$ med det vinkelräta avståndet $d$ som\n",
    "\n",
    "$I_z=I_{z'}+md^2$ **(I)**"
   ]
  },
  {
   "cell_type": "markdown",
   "metadata": {},
   "source": [
    "## Beräkning\n",
    "    \n",
    "\n",
    "Tröghetsmomentet $I_{z}$ kring axeln $z$ är givet, liksom avståndet i y-led och x-led till masscentrum $z'$. Totala avstånded mellan axlarna $z$ och $z'$ är \n",
    "\n",
    "$d=\\sqrt{x^2+y^2}$ \n",
    "\n",
    "och tröghetsmomentet kring masscentrum blir enligt **(I)** \n",
    "\n",
    "$I_{z'}=I_z - md^2=I_z - m(x^2+y^2) = 105.6 - 81.6*(1.01^2+0.16^2)=20.27 kgm^2$"
   ]
  }
 ],
 "metadata": {
  "celltoolbar": "Tags",
  "kernelspec": {
   "display_name": "Python 3",
   "language": "python",
   "name": "python3"
  },
  "language_info": {
   "codemirror_mode": {
    "name": "ipython",
    "version": 3
   },
   "file_extension": ".py",
   "mimetype": "text/x-python",
   "name": "python",
   "nbconvert_exporter": "python",
   "pygments_lexer": "ipython3",
   "version": "3.7.7"
  }
 },
 "nbformat": 4,
 "nbformat_minor": 2
}
