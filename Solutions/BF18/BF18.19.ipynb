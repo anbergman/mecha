{
 "cells": [
  {
   "cell_type": "markdown",
   "metadata": {},
   "source": [
    "# Mekanik II, problem 18.19"
   ]
  },
  {
   "cell_type": "markdown",
   "metadata": {},
   "source": [
    "The 5-kg slender bar is released from rest in the horizontal position shown. At the instant when it has rotated 45$^\\circ$, its angular velocity is 4.16 rad/s. At that instant, determine the magnitude of the force exerted on the bar by the pin support.\n",
    "\n",
    "![Stav](./BF18_19.png)\n",
    "\n"
   ]
  },
  {
   "cell_type": "markdown",
   "metadata": {},
   "source": [
    "# Lösning:"
   ]
  },
  {
   "cell_type": "markdown",
   "metadata": {},
   "source": [
    "## Friläggning och krafter\n",
    "\n",
    "Vi börjar med att frilägga systemet och införa relevanta beteckningar.\n",
    "\n",
    "![StangF](./BF18_19a.png)\n",
    "\n",
    "De krafter som verkar är här $\\mathbf{N}$ och $m\\mathbf{g}=-mg\\hat{y}$. Stången har längden $l=1.2m$ och massan $m=5 kg$.\n"
   ]
  },
  {
   "cell_type": "markdown",
   "metadata": {},
   "source": [
    "## Fysikaliska samband\n",
    "\n",
    "Stången kommer rotera kring den fixerade änden. Därför kan vi använda Euler II för att bestämma vinkelaccelerationen $\\alpha$. Använder vi Euler II på upphängningspunkten kommer vi dock inte få någon direkt kunskap om $\\mathbf{N}$ men även om stången sitter fast i en ände kommer masscentrum röra sig. Vi kan därför också ställa upp Euler I för masscentrums rörelse. Genom att kombinera Euler I och Euler II via kinematiska villkor kan vi då lösa ut normalkraften $\\mathbf{N}$."
   ]
  },
  {
   "cell_type": "markdown",
   "metadata": {},
   "source": [
    "## Kraft- och momentanalys: Euler I och II\n",
    "\n",
    "Euler II för stången kring upphängningspunkten: \n",
    "\n",
    "$\\mathbf{M} = \\mathbf{r} \\times m\\mathbf{g} = I\\alpha$ **(I)**\n",
    "\n",
    "där $\\mathbf{r}$ är vektorn från upphängningspunkten $o$ till masscentrum $c$.  \n",
    "\n",
    "$\\mathbf{r}=-\\frac{l}{2}\\cos \\theta \\hat{x} - \\frac{l}{2}\\sin \\theta \\hat{y}$.\n",
    "\n",
    "och $I$ är tröghetsmomentet för en smal stav som roterar kring en ände.\n",
    "\n",
    "$I=\\frac{ml^2}{3}$\n",
    "\n",
    "Insatt i **(I)** får vi\n",
    "\n",
    "$$\n",
    "\\begin{align}\n",
    "(-\\frac{l}{2}\\cos \\theta \\hat{x} - \\frac{l}{2}\\sin \\theta \\hat{y})\\times (-mg\\hat{y}) &=\\frac{ml^2}{3}\\alpha \\hat{z} \\\\\n",
    "\\frac{mgl}{2}\\cos \\theta \\hat{z} &= \\frac{ml^2}{3}\\alpha\\hat{z} \\\\\n",
    "\\alpha &= \\frac{3mgl}{2ml^2}\\cos \\theta \\\\\n",
    "\\alpha &= \\frac{3g}{2l}\\cos \\theta\n",
    "\\end{align}\n",
    "$$ \n",
    "\n",
    "\n",
    "Vi kan nu införa Euler I för stångens masscentrum $c$:\n",
    "\n",
    "$$\\begin{align}\n",
    "\\sum \\mathbf{F}=m\\mathbf{g}+\\mathbf{N} &=m\\mathbf{a} \\\\\n",
    "-mg\\hat{y}+\\mathbf{N}=&=m\\mathbf{a}_c\n",
    "\\end{align}$$ **(II)**\n",
    "\n",
    "För att koppla Euler I och Euler II används kinematiska sambandet för relativ acceleration som generellt är \n",
    "\n",
    "$\\mathbf{a}_A = \\mathbf{r}_B + \\alpha\\times\\mathbf{r}_{A/B} + \\omega\\times(\\omega\\times\\mathbf{r}_{A/B})$\n",
    "\n",
    "vilket vi här kan använda för att skriva masscentrums acceleration $\\mathbf{a}_c$ som\n",
    "\n",
    "$\\mathbf{a}_{c}=\\mathbf{a}_o+\\alpha\\times\\mathbf{r}-\\omega^2\\mathbf{r}$ **(III)**\n",
    "\n",
    "där vi använt att vektorn $\\mathbf{r}_{c/o}$ från upphängingspunkten $o$ till masscentrum $c$ har införts tidigare som $\\mathbf{r}$, d.v.s. $\\mathbf{r}_{c/o}=\\mathbf{r}$. Upphängingspunkten är fix så att dess acceleration $\\mathbf{a}_o=0$. Sätter vi in  $\\mathbf{r}$ i **(III)** får vi \n",
    "\n",
    "$$\\begin{align}\n",
    "\\mathbf{a}_{c}&=(\\alpha \\hat{z} \\times (-\\frac{l}{2}\\cos \\theta \\hat{x} - \\frac{l}{2}\\sin \\theta \\hat{y}) - \\omega^2(-\\frac{l}{2}\\cos \\theta \\hat{x} - \\frac{l}{2}\\sin \\theta \\hat{y}) \\\\\n",
    "& = (-\\frac{l\\alpha}{2}\\cos \\theta \\hat{y} + \\frac{l\\alpha}{2}\\sin \\theta \\hat{x})  - \\omega^2(-\\frac{l}{2}\\cos \\theta \\hat{x} - \\frac{l}{2}\\sin \\theta \\hat{y}) \\\\\n",
    "& = (\\frac{3g}{4}\\cos \\theta \\sin \\theta \\hat{x} -\\frac{3g}{4}\\cos \\theta\\cos \\theta \\hat{y})  - \\omega^2(-\\frac{l}{2}\\cos \\theta \\hat{x} - \\frac{l}{2}\\sin \\theta \\hat{y}) \\\\\n",
    "& = (\\frac{3g}{4}\\cos \\theta \\sin \\theta + \\omega^2 \\frac{l}{2}\\cos \\theta) \\hat{x} -(\\frac{3g}{4}\\cos^2 \\theta - \\omega^2 \\frac{l}{2}\\sin \\theta) \\hat{y}\n",
    "\\end{align}$$ \n",
    "\n",
    "som kan sättas in i **(II)**\n",
    "\n",
    "$$\\begin{align}\n",
    "-mg\\hat{y}+\\mathbf{N} &=m\\mathbf{a}_c=m (\\frac{3g}{4}\\cos \\theta \\sin \\theta + \\omega^2 \\frac{l}{2}\\cos \\theta) \\hat{x} - m(\\frac{3g}{4}\\cos^2 \\theta - \\omega^2 \\frac{l}{2}\\sin \\theta) \\hat{y} \\\\\n",
    "\\mathbf{N} &=m (\\frac{3g}{4}\\cos \\theta \\sin \\theta + \\omega^2 \\frac{l}{2}\\cos \\theta) \\hat{x} +(-\\frac{3g}{4}\\cos^2 \\theta + \\omega^2 \\frac{l}{2}\\sin \\theta + g )\\hat{y} \\end{align}$$\n",
    "\n",
    "\n"
   ]
  },
  {
   "cell_type": "markdown",
   "metadata": {},
   "source": [
    "## Svar\n",
    "Med insatta värden blir $\\mathbf{N} = 55.1 \\hat{x} + 67.4 \\hat{y}$ N så att $N=87.0$N."
   ]
  },
  {
   "cell_type": "markdown",
   "metadata": {},
   "source": [
    "## Analys\n",
    "Eftersom det bara är tyngdkraften och normalkraften som verkar på detta system måste normalkraften motverka tyngdkraften så att stången inte faller nedåt (den har ändå en viss acceleration nedåt pga cirkelrörelsen hos masscentrum) men också accelerera stången åt höger för att rotationen ska kunna ske. Att $\\mathbf{N}$ därför är positiv i både x- och y-led är därför rimligt.\n",
    "\n",
    "Det hade gått att välja masscentrum som momentpunkt för Euler II men det är tveksamt om det hade underlättat."
   ]
  },
  {
   "cell_type": "markdown",
   "metadata": {},
   "source": [
    "**Beräkning med insatta värden:**"
   ]
  },
  {
   "cell_type": "code",
   "execution_count": 1,
   "metadata": {},
   "outputs": [],
   "source": [
    "from ipywidgets import interact, interactive\n",
    "from ipywidgets import FloatSlider\n",
    "import numpy as np\n",
    "from IPython.display import HTML\n",
    "\n"
   ]
  },
  {
   "cell_type": "code",
   "execution_count": 2,
   "metadata": {},
   "outputs": [
    {
     "data": {
      "text/html": [
       "<script>\n",
       "code_show=true; \n",
       "function code_toggle() {\n",
       " if (code_show){\n",
       " $('div.input').hide();\n",
       " } else {\n",
       " $('div.input').show();\n",
       " }\n",
       " code_show = !code_show\n",
       "} \n",
       "$( document ).ready(code_toggle);\n",
       "</script>\n",
       "<form action=\"javascript:code_toggle()\"><input type=\"submit\" value=\"Tryck här för att dölja/visa koden.\"></form>"
      ],
      "text/plain": [
       "<IPython.core.display.HTML object>"
      ]
     },
     "execution_count": 2,
     "metadata": {},
     "output_type": "execute_result"
    }
   ],
   "source": [
    "HTML('''<script>\n",
    "code_show=true; \n",
    "function code_toggle() {\n",
    " if (code_show){\n",
    " $('div.input').hide();\n",
    " } else {\n",
    " $('div.input').show();\n",
    " }\n",
    " code_show = !code_show\n",
    "} \n",
    "$( document ).ready(code_toggle);\n",
    "</script>\n",
    "<form action=\"javascript:code_toggle()\"><input type=\"submit\" value=\"Tryck här för att dölja/visa koden.\"></form>''')"
   ]
  },
  {
   "cell_type": "code",
   "execution_count": 3,
   "metadata": {},
   "outputs": [],
   "source": [
    "# Set parameters according to exercise description\n",
    "\n",
    "g = 9.81  # acceleration due to gravity, in m/s^2\n",
    "\n",
    "l = 1.2\n",
    "m=5\n",
    "theta=45\n",
    "omega=4.16\n"
   ]
  },
  {
   "cell_type": "code",
   "execution_count": 4,
   "metadata": {},
   "outputs": [],
   "source": [
    "def e_18_19(g,l,m,theta,omega):\n",
    "\n",
    "\n",
    "    the=theta*np.pi/180.0\n",
    "    N_x=m*(np.cos(the)*np.sin(the)*3*g/4 + omega**2*l/2.0*np.cos(the))\n",
    "    N_y=m*(-np.cos(the)*np.cos(the)*3*g/4 + omega**2*l/2.0*np.sin(the)+g)\n",
    "\n",
    "    print(\"Normalkraftskomponenten i x-led = \",'{:5.3f}'.format(N_x),\"N\")\n",
    "    print(\"Normalkraftskomponenten i y-led = \",'{:5.3f}'.format(N_y),\"N\")\n",
    "\n",
    "    return N_x,N_y"
   ]
  },
  {
   "cell_type": "code",
   "execution_count": 5,
   "metadata": {},
   "outputs": [
    {
     "data": {
      "application/vnd.jupyter.widget-view+json": {
       "model_id": "b75c9d60603d494e8e2670c9118ceae6",
       "version_major": 2,
       "version_minor": 0
      },
      "text/plain": [
       "interactive(children=(FloatSlider(value=9.81, description='g', max=10.0, min=9.0), FloatSlider(value=1.2, desc…"
      ]
     },
     "metadata": {},
     "output_type": "display_data"
    }
   ],
   "source": [
    "s_18_19=interactive(e_18_19, \n",
    "              g=FloatSlider(min=9.0,max=10.0,value=9.81),\n",
    "              l=FloatSlider(min=0.0,max=3,value=1.2),\n",
    "              m=FloatSlider(min=0.0,max=10,value=5.0,step=0.1),\n",
    "              theta=FloatSlider(min=0.0,max=90.0,value=45,step=1),\n",
    "              omega=FloatSlider(min=0.0,max=10,value=4.16,step=0.1),)\n",
    "display(s_18_19)"
   ]
  }
 ],
 "metadata": {
  "celltoolbar": "Tags",
  "kernelspec": {
   "display_name": "Python 3",
   "language": "python",
   "name": "python3"
  },
  "language_info": {
   "codemirror_mode": {
    "name": "ipython",
    "version": 3
   },
   "file_extension": ".py",
   "mimetype": "text/x-python",
   "name": "python",
   "nbconvert_exporter": "python",
   "pygments_lexer": "ipython3",
   "version": "3.7.7"
  }
 },
 "nbformat": 4,
 "nbformat_minor": 2
}
