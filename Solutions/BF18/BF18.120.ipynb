{
 "cells": [
  {
   "cell_type": "markdown",
   "metadata": {},
   "source": [
    "## Mekanik II, problem 18.120"
   ]
  },
  {
   "cell_type": "markdown",
   "metadata": {},
   "source": [
    "A slender bar of mass m is released from rest in the position shown. The static and kinetic friction coefficients of friction at the floor and the wall have the same value $\\mu$. \n",
    "\n",
    "![MC](./BF18_120.png)\n",
    "\n",
    "If the bar slips, what is its angular acceleration at the instant of release?\n",
    "\n",
    "\n",
    "\n"
   ]
  },
  {
   "cell_type": "markdown",
   "metadata": {},
   "source": [
    "# Lösning:"
   ]
  },
  {
   "cell_type": "markdown",
   "metadata": {},
   "source": [
    "## Friläggning och beteckningar\n",
    "\n",
    "Vi börjar med att frilägga det förenklade systemet och införa relevanta beteckningar.\n",
    "\n",
    "![FSkiva](./BF18_120a.png)\n",
    "\n",
    "Stångens övre kontaktpunkt är $A$ och den nedre är $B$. Stångens längd är $l$\n",
    "\n",
    "På stången verkar följande krafter\n",
    "\n",
    "$$\n",
    "\\begin{align}\n",
    "m\\mathbf{g} &=-m g\\hat{y} \\\\\n",
    "\\mathbf{N}_A &= N_A\\hat{x} \\\\\n",
    "\\mathbf{N}_B &= N_B\\hat{y} \\\\\n",
    "\\mathbf{f}_A &= f_A \\hat{y} = \\mu N_A \\hat{y}\\\\\n",
    "\\mathbf{f}_B &= f_B -\\hat{x} = -\\mu N_B \\hat{x}\n",
    "\\end{align}\n",
    "$$ \n",
    "\n",
    "Här är friktionskrafterna satta så att de motverkar den förväntade rörelsen."
   ]
  },
  {
   "cell_type": "markdown",
   "metadata": {},
   "source": [
    "## Fysikaliska samband\n",
    "\n",
    "Stången väntas glida nedåt och åt höger vilket också ger en rotation av stången.\n",
    "\n",
    "För att beräkna den sökta vinkelaccelerationen behöver vi kunna lösa ut de okända friktions- och normalkrafterna. Vi gör det genom att använda både Euler I och Euler II för stången och dessutom används ett kinematiskt tvångsvillkor för att få ett samband mellan $a$ och $\\alpha$.\n"
   ]
  },
  {
   "cell_type": "markdown",
   "metadata": {},
   "source": [
    "## Kraft- och momentanalys: Euler I och II\n",
    "\n",
    "#### Euler I\n",
    "Euler I för stångens masscentrum:\n",
    "\n",
    "$\\sum \\mathbf{F} = \\mathbf{f}_A + \\mathbf{N}_A +  \\mathbf{f}_B + \\mathbf{N}_B  m\\mathbf{g}$\n",
    "\n",
    "vilket i komponentform ger\n",
    "\n",
    "$\\hat{x}:  N_A - f_B = N_A - \\mu N_B = m a_x$ **(I)**\n",
    "\n",
    "$\\hat{y}: N_B + f_A - mg = N_B +\\mu N_A - mg = m a_y$  **(II)**\n",
    "\n",
    "\n",
    "#### Euler II\n",
    "\n",
    "\n",
    "Euler II för rotation kring masscentrum:\n",
    "\n",
    "$\\sum \\mathbf{M}= \\mathbf{r}_A\\times\\mathbf{N_A} +  \\mathbf{r}_A\\times\\mathbf{f_A}  +   \\mathbf{r}_B\\times\\mathbf{N_B} +  \\mathbf{r}_B\\times\\mathbf{f_B} = I \\alpha$ **(III)**\n",
    "\n",
    "där $\\mathbf{r}_A$ och $\\mathbf{r}_B$ är vektorerna från masscentrum till punkterna $A$ och $B$\n",
    "\n",
    "$\\mathbf{r}_A=-\\frac{l}{2} \\sin \\theta \\hat{x} + \\frac{l}{2} \\cos \\theta \\hat{y}$\n",
    "\n",
    "$\\mathbf{r}_B=\\frac{l}{2} \\sin \\theta \\hat{x} - \\frac{l}{2} \\cos \\theta \\hat{y}$\n",
    "\n",
    "Insatta krafter och vektorer i **(III)** ger \n",
    "\n",
    "$$\n",
    "\\begin{align}\n",
    "\\sum \\mathbf{M} &= (-\\frac{l}{2} \\sin \\theta \\hat{x} + \\frac{l}{2} \\cos \\theta \\hat{y})\\times  N_A\\hat{x}  \\\\ \n",
    "&+(-\\frac{l}{2} \\sin \\theta \\hat{x} + \\frac{l}{2} \\cos \\theta \\hat{y})\\times  \\mu N_A\\hat{y} \\\\\n",
    "&+(\\frac{l}{2} \\sin \\theta \\hat{x} - \\frac{l}{2} \\cos \\theta \\hat{y})\\times  N_B\\hat{y} \\\\\n",
    "&+(\\frac{l}{2} \\sin \\theta \\hat{x} - \\frac{l}{2} \\cos \\theta \\hat{y})\\times  (-\\mu N_B\\hat{x}) \\\\\n",
    "&=(-\\frac{N_A l}{2} \\cos \\theta - \\frac{\\mu N_A l}{2} \\sin \\theta + \\frac{N_B l}{2} \\sin \\theta - \\frac{\\mu N_B l}{2} \\cos \\theta) \\hat{z} \\\\\n",
    "&=I\\alpha = \\frac{ml^2}{12}\\alpha\n",
    "\\end{align}\n",
    "$$\n",
    "\n",
    "#### Tvångs-/rullvillkor\n",
    "\n",
    "Vid origo i nedre hörnet är masscentrums koordinater\n",
    "\n",
    "$\\mathbf{r}_{MC}=\\frac{l}{2}\\sin \\theta \\hat{x} + \\frac{l}{2}\\cos \\theta \\hat{y}$\n",
    "\n",
    "Genom att använda kedjeregeln $v=\\frac{dr}{dt}=\\frac{dr}{d\\theta}\\frac{d\\theta}{dt}$ fås\n",
    "\n",
    "$\\mathbf{v}_{MC}=\\frac{l}{2}\\cos \\theta \\frac{d\\theta}{dt} \\hat{x} - \\frac{l}{2}\\sin \\theta \\frac{d\\theta}{dt} \\hat{y}$\n",
    "\n",
    "och på samma sätt kan accelerationen $\\mathbf{a}_{MC}=\\mathbf{a}$ fås som \n",
    "\n",
    "$\\mathbf{a}=-\\frac{l}{2}\\sin \\theta (\\frac{d\\theta}{dt})^2 \\hat{x} + \\frac{l}{2}\\cos \\theta \\frac{d^2\\theta}{dt^2} \\hat{x} - \\frac{l}{2}\\cos \\theta (\\frac{d\\theta}{dt})^2 -\\frac{l}{2}\\sin \\theta \\frac{d^2\\theta}{dt^2}\\hat{y}$\n",
    "\n",
    "Eftersom systemet släpps från vila och vi är intresserade av rörelsen vid $t=0$ är $\\frac{d\\theta}{dt}=\\omega=0$ vilket ger accelerationen \n",
    "\n",
    "$\\mathbf{a}= \\frac{l}{2}\\cos \\theta \\frac{d^2\\theta}{dt^2} \\hat{x}\n",
    "-\\frac{l}{2}\\sin \\theta \\frac{d^2\\theta}{dt^2}\\hat{y} = \\frac{l}{2}\\cos \\theta \\alpha \\hat{x}\n",
    "-\\frac{l}{2}\\sin \\theta \\alpha$ \n",
    "\n",
    "Det vill säga \n",
    "\n",
    "$a_x = \\frac{l}{2}\\cos \\theta \\alpha$\n",
    "\n",
    "$a_y = -\\frac{l}{2}\\sin \\theta \\alpha$\n"
   ]
  },
  {
   "cell_type": "markdown",
   "metadata": {},
   "source": [
    "## Ekvationslösning\n",
    "\n",
    "Sätts sambandet mellan accelerationen och vinkelaccelerationen in i Euler I fås\n",
    "\n",
    "$\\hat{x}:  N_A - f_B = N_A - \\mu N_B =  \\frac{ml}{2}\\cos \\theta \\alpha $ \n",
    "\n",
    "$\\hat{y}: N_B + f_A - mg = N_B  +\\mu N_A - mg =  -\\frac{ml}{2}\\sin \\theta \\alpha $  \n",
    "\n",
    "Ekvationerna ovan kan kombineras till att ge \n",
    "\n",
    "$N_A=\\frac{mg\\mu +m \\alpha \\frac{l}{2}(\\cos \\theta - \\mu \\sin \\theta)}{1+\\mu^2}$\n",
    "\n",
    "$N_B=\\frac{mg -m \\alpha \\frac{l}{2}(\\sin \\theta - \\mu \\cos \\theta)}{1+\\mu^2}$\n",
    "\n",
    "där $\\alpha$ är vad som söks. Med Euler II och en hel del operationer kan till slut sambandet för $\\alpha$:\n",
    "\n",
    "$\\alpha=\\frac{2g}{l}\\frac{2\\mu \\cos \\theta + (\\mu^2-1) \\sin \\theta}{\\frac{2}{3}\\mu^2-\\frac{4}{3}}$\n",
    "\n",
    "härledas.\n",
    "\n",
    "\n"
   ]
  },
  {
   "cell_type": "markdown",
   "metadata": {},
   "source": [
    "**Beräkning med insatta värden:**"
   ]
  },
  {
   "cell_type": "code",
   "execution_count": 1,
   "metadata": {},
   "outputs": [],
   "source": [
    "from ipywidgets import interact, interactive\n",
    "from ipywidgets import FloatSlider\n",
    "import numpy as np\n",
    "from IPython.display import HTML\n",
    "\n"
   ]
  },
  {
   "cell_type": "code",
   "execution_count": 2,
   "metadata": {},
   "outputs": [
    {
     "data": {
      "text/html": [
       "<script>\n",
       "code_show=true; \n",
       "function code_toggle() {\n",
       " if (code_show){\n",
       " $('div.input').hide();\n",
       " } else {\n",
       " $('div.input').show();\n",
       " }\n",
       " code_show = !code_show\n",
       "} \n",
       "$( document ).ready(code_toggle);\n",
       "</script>\n",
       "<form action=\"javascript:code_toggle()\"><input type=\"submit\" value=\"Tryck här för att dölja/visa koden.\"></form>"
      ],
      "text/plain": [
       "<IPython.core.display.HTML object>"
      ]
     },
     "execution_count": 2,
     "metadata": {},
     "output_type": "execute_result"
    }
   ],
   "source": [
    "HTML('''<script>\n",
    "code_show=true; \n",
    "function code_toggle() {\n",
    " if (code_show){\n",
    " $('div.input').hide();\n",
    " } else {\n",
    " $('div.input').show();\n",
    " }\n",
    " code_show = !code_show\n",
    "} \n",
    "$( document ).ready(code_toggle);\n",
    "</script>\n",
    "<form action=\"javascript:code_toggle()\"><input type=\"submit\" value=\"Tryck här för att dölja/visa koden.\"></form>''')"
   ]
  },
  {
   "cell_type": "code",
   "execution_count": 3,
   "metadata": {},
   "outputs": [],
   "source": [
    "# Set parameters according to exercise description\n",
    "\n",
    "g = 9.81  # acceleration due to gravity, in m/s^2\n",
    "l = 0.91\n",
    "mg=178\n",
    "r=0.1016\n",
    "I=0.27\n"
   ]
  },
  {
   "cell_type": "code",
   "execution_count": 4,
   "metadata": {},
   "outputs": [],
   "source": [
    "def e_18_35(g,l,mg,r,I):\n",
    "\n",
    "    m=mg/g\n",
    "    t=np.sqrt(2*l/g*(1+I/(m*r*r)))\n",
    "\n",
    "    print(\"Falltiden t = \",'{:5.3f}'.format(t),\"s\")\n",
    "\n",
    "    return t"
   ]
  },
  {
   "cell_type": "code",
   "execution_count": 5,
   "metadata": {},
   "outputs": [
    {
     "data": {
      "application/vnd.jupyter.widget-view+json": {
       "model_id": "ae4c286d84ca407db04bbdde435f6101",
       "version_major": 2,
       "version_minor": 0
      },
      "text/plain": [
       "interactive(children=(FloatSlider(value=9.81, description='g', max=10.0, min=9.0), FloatSlider(value=0.91, des…"
      ]
     },
     "metadata": {},
     "output_type": "display_data"
    }
   ],
   "source": [
    "s_18_35=interactive(e_18_35, \n",
    "              g=FloatSlider(min=9.0,max=10.0,value=9.81),\n",
    "              l=FloatSlider(min=0.0,max=3,value=0.91),\n",
    "              mg=FloatSlider(min=0.0,max=300,value=178),\n",
    "              r=FloatSlider(min=0.0000,max=0.3000,value=0.1016,step=0.0001),\n",
    "              I=FloatSlider(min=0.0,max=1,value=0.27,step=0.01))\n",
    "display(s_18_35)"
   ]
  }
 ],
 "metadata": {
  "celltoolbar": "Tags",
  "kernelspec": {
   "display_name": "Python 3",
   "language": "python",
   "name": "python3"
  },
  "language_info": {
   "codemirror_mode": {
    "name": "ipython",
    "version": 3
   },
   "file_extension": ".py",
   "mimetype": "text/x-python",
   "name": "python",
   "nbconvert_exporter": "python",
   "pygments_lexer": "ipython3",
   "version": "3.7.7"
  }
 },
 "nbformat": 4,
 "nbformat_minor": 2
}
