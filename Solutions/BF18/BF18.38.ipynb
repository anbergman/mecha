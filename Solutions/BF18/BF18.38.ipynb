{
 "cells": [
  {
   "cell_type": "markdown",
   "metadata": {},
   "source": [
    "## Mekanik II, problem 18.38"
   ]
  },
  {
   "cell_type": "markdown",
   "metadata": {},
   "source": [
    "The mass of the disk is 45 kg and its radius is R = 0.3 m. The spring constant is k = 60 N/m. The disk is rolled to the left until the spring is compressed 0.5 m and released from rest.\n",
    "![SkivFjader](./BF18_38.png)\n",
    "\n",
    "(a) If you assume that the disk rolls, what is its angular acceleration at the instant it is released?\n",
    "\n",
    "(b) What is the minimum coefficient of static friction for which the disk will not slip when it is released?\n",
    "\n",
    "\n"
   ]
  },
  {
   "cell_type": "markdown",
   "metadata": {},
   "source": [
    "# Lösning:"
   ]
  },
  {
   "cell_type": "markdown",
   "metadata": {},
   "source": [
    "## Friläggning och beteckningar\n",
    "\n",
    "Vi börjar med att frilägga systemet och införa relevanta beteckningar.\n",
    "\n",
    "![FSkiva](./BF18_39a.png)\n",
    "\n",
    "De krafter som verkar är här \n",
    "\n",
    "$$\n",
    "\\begin{align}\n",
    "\\mathbf{F} &=-kx\\hat{x} \\\\\n",
    "\\mathbf{f} &= -f \\hat{x}\\\\\n",
    "m\\mathbf{g} &= -mg\\hat{y} \\\\\n",
    "\\mathbf{N} &= N \\hat{y}\n",
    "\\end{align}\n",
    "$$ \n",
    "\n",
    "Här är defintionen på fjäderkraften så att en negativ sträcka x (d.v.s. åt vänster i figuren) ger en positiv kraft i x-led. Skivans radie är $r$.\n"
   ]
  },
  {
   "cell_type": "markdown",
   "metadata": {},
   "source": [
    "## Fysikaliska samband\n",
    "\n",
    "Fjädern startar ihoptryckt (x<0) och kommer påverka skivan med en kraft i positiv x-led. Friktionskraften kommer motverka rörelsen och bidrar till att skivan rullar. \n",
    "\n",
    "Vid det ögonblick som ska studeras kommer därför friktionskraften vara riktad i negativ x-riktning, men beroende på hur långt skivan rullat kommer riktningen på friktionskraften ändras. Det betyder att friktionskraften $f$ inte nödvändigtvis kan skrivas som $f=\\mu N$ utan bestäms i stället genon rullvillkoret. Den maximala friktionskraften skrivs fortfarande som $f=\\mu N$ och om uträkningarna skulle visa på en större friktionskraft håller inte rullvillkoret och skivan kan börja slira. \n"
   ]
  },
  {
   "cell_type": "markdown",
   "metadata": {},
   "source": [
    "## Kraft- och momentanalys: Euler I och II\n",
    "\n",
    "#### Euler I\n",
    "Euler I för systemet:\n",
    "\n",
    "$\\sum \\mathbf{F} = N\\hat{y} - mg\\hat{y} -kx\\hat{x} - f \\hat{x}$ **(I)**\n",
    "\n",
    "vilket i komponentform ger\n",
    "\n",
    "$\\hat{x}:  -kx - f =m a$ **(Ia)**\n",
    "\n",
    "$\\hat{y}: N-mg=0$  **(Ib)**\n",
    "\n",
    "eftersom skivan kommer accelera i x-led men inte i y-led. Från **(Ib)** fås att $N=mg$ vilket med **(Ia)** ger att \n",
    "\n",
    "$\\hat{x}:  -kx - f =m a$ **(II)**\n",
    "\n",
    "\n",
    "\n",
    "#### Euler II\n",
    "\n",
    "Endast friktionskraften $\\mathbf{f}$ ger ett kraftmoment med avseende på masscentrum. Euler II för skivan kring masscentrum blir därför: \n",
    "\n",
    "$\\mathbf{M} = \\mathbf{r}_f \\times \\mathbf{f} = -r\\hat{y} \\times (-f) \\hat{x} = -rf \\hat{z} = I\\alpha \\hat{z}$ **(III)**\n",
    "\n",
    "#### Rullvillkor\n",
    "\n",
    "I ekvationerna ovan har vi satt $a$ positivt i x-led och $\\alpha$ positivt i z-led. Det innebär att rullvillkoret här blir \n",
    "\n",
    "$a=-r\\alpha$ **(IV)**. \n",
    "\n",
    "Det kan motiveras eftersom för en positiv acceleration i x-led måste skivan snurra medurs, vilket är i negativ z-led i det valda koordinatsystemet.\n"
   ]
  },
  {
   "cell_type": "markdown",
   "metadata": {},
   "source": [
    "## Beräkning\n",
    "\n",
    "#### Uppgift (a)\n",
    "\n",
    "För uppgift (a) ska vinkelaccelerationen $\\alpha$ bestämmas. Det kan göras genom att se till att rullvillkoret uppfylls. Med $a=-r\\alpha$ från **(IV)** insatt i **(III)** får vi följande ekvationer som innehåller vinkelaccelerationen $\\alpha$ och den okända friktionskraften $f$:\n",
    "\n",
    "$$\n",
    "\\begin{align}\n",
    "-kx - f &= -mr\\alpha  \\\\\n",
    "-rf  &= I \\alpha \\\\\n",
    "f &=mr\\alpha-kx \\\\\n",
    "-r(mr\\alpha-kx) &= I\\alpha \\\\\n",
    "(mr^2+I)\\alpha &= kxr \\\\\n",
    "\\alpha&=\\frac{kxr}{mr^2+I}\n",
    "\\end{align}\n",
    "$$\n",
    "\n",
    "Kvar att bestämma är tröghetsmomentet $I$. Enligt P.H. är $I=\\frac{mr^2}{2}$ för rotation kring centrum på en cylindrisk skiva. Insatt i ekvationen ovan blir\n",
    "\n",
    "$\\alpha=\\frac{kxr}{mr^2+I}=\\frac{kxr}{mr^2+\\frac{mr^2}{2}}=\\frac{kxr}{\\frac{3mr^2}{2}}=\\frac{2kx}{3mr}$\n",
    "\n",
    "och accelerationen \n",
    "\n",
    "$a=-r\\alpha=-\\frac{2kx}{3m}$\n",
    "\n",
    "Med givna värden $k=60$ N/m och $x=-0.5$ m blir $\\alpha\\approx 1.5$ rad/$s^2$ (medurs) och $a\\approx 0.44$ m/$s^2$ (åt höger).\n",
    "\n",
    "#### Uppgift (b) \n",
    "\n",
    "För att bestämma den minsta möjliga friktionskoefficienten $\\mu$ för vilken skivan rullar sätter vi in $|f|\\le \\mu N = \\mu mg$ där $f$ kan bestämmas från Euler II d.v.s. **(III)** med $\\alpha$ beräknat i uppgift (a).\n",
    "\n",
    "$$\n",
    "\\begin{align}\n",
    "|f|=|\\frac{I\\alpha}{r}| &\\le \\mu mg \\\\\n",
    "\\mu &\\ge |\\frac{I\\alpha}{mgr}| = \\frac{2kI}{3m^2gr^2} |x| = \\frac{k}{3mg} |x|\n",
    "\\end{align}\n",
    "$$\n",
    "\n",
    "vilket med insatta värden ger $\\mu \\ge 0.023$."
   ]
  },
  {
   "cell_type": "markdown",
   "metadata": {},
   "source": [
    "**Beräkning med insatta värden:**"
   ]
  },
  {
   "cell_type": "code",
   "execution_count": 1,
   "metadata": {},
   "outputs": [],
   "source": [
    "from ipywidgets import interact, interactive\n",
    "from ipywidgets import FloatSlider\n",
    "import numpy as np\n",
    "from IPython.display import HTML\n",
    "\n"
   ]
  },
  {
   "cell_type": "code",
   "execution_count": 2,
   "metadata": {},
   "outputs": [
    {
     "data": {
      "text/html": [
       "<script>\n",
       "code_show=true; \n",
       "function code_toggle() {\n",
       " if (code_show){\n",
       " $('div.input').hide();\n",
       " } else {\n",
       " $('div.input').show();\n",
       " }\n",
       " code_show = !code_show\n",
       "} \n",
       "$( document ).ready(code_toggle);\n",
       "</script>\n",
       "<form action=\"javascript:code_toggle()\"><input type=\"submit\" value=\"Tryck här för att dölja/visa koden.\"></form>"
      ],
      "text/plain": [
       "<IPython.core.display.HTML object>"
      ]
     },
     "execution_count": 2,
     "metadata": {},
     "output_type": "execute_result"
    }
   ],
   "source": [
    "HTML('''<script>\n",
    "code_show=true; \n",
    "function code_toggle() {\n",
    " if (code_show){\n",
    " $('div.input').hide();\n",
    " } else {\n",
    " $('div.input').show();\n",
    " }\n",
    " code_show = !code_show\n",
    "} \n",
    "$( document ).ready(code_toggle);\n",
    "</script>\n",
    "<form action=\"javascript:code_toggle()\"><input type=\"submit\" value=\"Tryck här för att dölja/visa koden.\"></form>''')"
   ]
  },
  {
   "cell_type": "code",
   "execution_count": 3,
   "metadata": {},
   "outputs": [],
   "source": [
    "# Set parameters according to exercise description\n",
    "\n",
    "g = 9.81  # acceleration due to gravity, in m/s^2\n",
    "l = 0.91\n",
    "mg=178\n",
    "r=0.1016\n",
    "I=0.27\n"
   ]
  },
  {
   "cell_type": "code",
   "execution_count": 4,
   "metadata": {},
   "outputs": [],
   "source": [
    "def e_18_35(g,l,mg,r,I):\n",
    "\n",
    "    m=mg/g\n",
    "    t=np.sqrt(2*l/g*(1+I/(m*r*r)))\n",
    "\n",
    "    print(\"Falltiden t = \",'{:5.3f}'.format(t),\"s\")\n",
    "\n",
    "    return t"
   ]
  },
  {
   "cell_type": "code",
   "execution_count": 5,
   "metadata": {},
   "outputs": [
    {
     "data": {
      "application/vnd.jupyter.widget-view+json": {
       "model_id": "ae4c286d84ca407db04bbdde435f6101",
       "version_major": 2,
       "version_minor": 0
      },
      "text/plain": [
       "interactive(children=(FloatSlider(value=9.81, description='g', max=10.0, min=9.0), FloatSlider(value=0.91, des…"
      ]
     },
     "metadata": {},
     "output_type": "display_data"
    }
   ],
   "source": [
    "s_18_35=interactive(e_18_35, \n",
    "              g=FloatSlider(min=9.0,max=10.0,value=9.81),\n",
    "              l=FloatSlider(min=0.0,max=3,value=0.91),\n",
    "              mg=FloatSlider(min=0.0,max=300,value=178),\n",
    "              r=FloatSlider(min=0.0000,max=0.3000,value=0.1016,step=0.0001),\n",
    "              I=FloatSlider(min=0.0,max=1,value=0.27,step=0.01))\n",
    "display(s_18_35)"
   ]
  }
 ],
 "metadata": {
  "celltoolbar": "Tags",
  "kernelspec": {
   "display_name": "Python 3",
   "language": "python",
   "name": "python3"
  },
  "language_info": {
   "codemirror_mode": {
    "name": "ipython",
    "version": 3
   },
   "file_extension": ".py",
   "mimetype": "text/x-python",
   "name": "python",
   "nbconvert_exporter": "python",
   "pygments_lexer": "ipython3",
   "version": "3.7.7"
  }
 },
 "nbformat": 4,
 "nbformat_minor": 2
}
