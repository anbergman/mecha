{
 "cells": [
  {
   "cell_type": "markdown",
   "metadata": {},
   "source": [
    "# Mekanik II, problem 18.14"
   ]
  },
  {
   "cell_type": "markdown",
   "metadata": {},
   "source": [
    "The moment of inertia of the wind- tunnel fan is 225 kg-m2. The fan starts from rest. The torque exerted on it by the engine is given as a function of the angular velocity of the fan by T = 140 − 0.02ω2 N-m.\n",
    "![Fan](./BF18_14.png)\n",
    "\n",
    "(a) When the fan has turned 620 revolutions, what is its angular velocity in rpm (revolutions per minute)?\n",
    "\n",
    "(b) What maximum angular velocity in rpm does the fan attain?\n",
    "\n",
    "Strategy: By writing the equation of angular motion, determine the angular acceleration of the fan in terms of its angular velocity. Then use the chain rule:\n",
    "\n",
    "$\\alpha=\\frac{d\\omega}{dt}=\\frac{d\\omega}{d\\theta}\\frac{d\\theta}{dt}=\\frac{d\\omega}{d\\theta}\\omega$\n",
    "\n",
    "\n"
   ]
  },
  {
   "cell_type": "markdown",
   "metadata": {},
   "source": [
    "# Lösning:"
   ]
  },
  {
   "cell_type": "markdown",
   "metadata": {},
   "source": [
    "## Fysikaliska samband ##\n",
    "\n",
    "Tröghetsmomentet $I$ och vridmomentet $T$ är givna i uppgiften. Då kan vi använda Euler II för att bestämma tidsutvecklingen av $\\theta$ och $\\omega$.\n",
    "\n",
    "$\\sum M=T=I\\alpha$"
   ]
  },
  {
   "cell_type": "markdown",
   "metadata": {},
   "source": [
    "## Momentanalys: Euler II##\n",
    "    \n",
    "\n",
    "I uppgift (a) vill vi bestämma $\\omega(\\theta)$ där $\\theta$ ska motsvara 620 varv dvs $\\theta=2\\pi * 620$.\n",
    "\n",
    "Vi använder den givna kedjeregeln för att kunna bestämma $\\omega=\\omega(\\theta)$\n",
    "\n",
    "Euler II : $\\sum M=T=a-b\\omega^2 = I\\alpha=I\\frac{d\\omega}{dt}=I\\frac{d\\omega}{d\\theta}\\omega$\n",
    "\n",
    "där vi använder en generell form $T=a-b\\omega^2$."
   ]
  },
  {
   "cell_type": "markdown",
   "metadata": {},
   "source": [
    "## Ekvationslösning\n",
    "\n",
    "Genom variabelseparation kan vi lösa ekvationen ovan som:\n",
    "\n",
    "$$\\begin{align}\n",
    "&\\frac{d\\omega}{d\\theta}\\omega = \\frac{a-b\\omega^2}{I} \\\\\n",
    "&\\frac{I\\omega}{a-b\\omega^2} d\\omega  = d\\theta \\\\\n",
    "&I \\int_0^{\\omega} \\frac{\\omega}{a-b\\omega^2} d\\omega = \\int_0^\\theta d\\theta \\\\\n",
    "&I \\left[ -\\frac{1}{2b} \\ln (a-b\\omega^2) \\right]_0^\\omega  = \\left[\\theta\\right]_0^\\theta \\\\\n",
    "&-I\\frac{1}{2b} \\ln (\\frac{a-b\\omega^2}{a})  = \\theta \\\\\n",
    "&\\frac{a-b\\omega^2}{a} =e^{-\\frac{2b\\theta}{I}} \\\\ \n",
    "&\\omega^2 =\\frac{a}{b}(1-e^{-\\frac{2b\\theta}{I}}) \\\\\n",
    "&\\omega =\\sqrt{\\frac{a}{b}(1-e^{-\\frac{2b\\theta}{I}})}\n",
    "\\end{align}$$"
   ]
  },
  {
   "cell_type": "markdown",
   "metadata": {},
   "source": [
    "## Beräkning (a)\n",
    "\n",
    "Med insatta värden $a=140 Nm$, $b = 0.02 Nms^2$ och $\\theta=2\\pi*620 rad.$ fås\n",
    "$\\omega=59.14 rad/s=564.7 rpm$ vilket är svaret för uppgift (a).\n",
    "\n"
   ]
  },
  {
   "cell_type": "markdown",
   "metadata": {},
   "source": [
    "## Beräkning (b)\n",
    "\n",
    "För uppgift (b) efterfrågas maximal vinkelhastighet. Den kan bestämmas genom att bestämma extrempunkter för $\\omega$ d.v.s. när $\\frac{d\\omega}{dt}=0$. Och eftersom vi från Euler II vet att \n",
    "\n",
    "$\\frac{d\\omega}{dt}=\\alpha=\\frac{M}{I}=\\frac{a-b\\omega^2}{I}$ \n",
    "\n",
    "kan vi lösa ut att $\\alpha=0$ ger att $\\omega_{max}^2=\\frac{a}{b}$ vilket med insatta värden blir\n",
    "\n",
    "$\\omega_{max}=\\sqrt{\\frac{a}{b}}=\\sqrt{\\frac{140}{0.02}}\\approx 83.6~rad/s=799~rpm$\n"
   ]
  }
 ],
 "metadata": {
  "celltoolbar": "Tags",
  "kernelspec": {
   "display_name": "Python 3",
   "language": "python",
   "name": "python3"
  },
  "language_info": {
   "codemirror_mode": {
    "name": "ipython",
    "version": 3
   },
   "file_extension": ".py",
   "mimetype": "text/x-python",
   "name": "python",
   "nbconvert_exporter": "python",
   "pygments_lexer": "ipython3",
   "version": "3.7.7"
  }
 },
 "nbformat": 4,
 "nbformat_minor": 2
}
