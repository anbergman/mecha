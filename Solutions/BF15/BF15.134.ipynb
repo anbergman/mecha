{
 "cells": [
  {
   "cell_type": "markdown",
   "metadata": {},
   "source": [
    "# Mekanik baskurs, problem 15.134"
   ]
  },
  {
   "cell_type": "markdown",
   "metadata": {},
   "source": [
    "A 800.6 N student runs at 4.57 m/s, grabs a rope, and swings out over a lake. He releases the rope when his velocity is zero. <br>\n",
    "(a) What is the angle $\\theta$ when he releases the rope? <br>\n",
    "(b) What is the tension in the rope just before he releases it? <br>\n",
    "(c) What is the maximum tension in the rope? <br>\n",
    "\n",
    "![b1](./BF15_134.png)\n"
   ]
  },
  {
   "cell_type": "markdown",
   "metadata": {},
   "source": [
    "# Lösning:"
   ]
  },
  {
   "cell_type": "markdown",
   "metadata": {},
   "source": [
    "## Resonemang\n",
    "\n",
    "De krafter som vi kan anta påverkar rörelsen här är snörkraften $\\mathbf{T}$ och tyngdkraften $m\\mathbf{g}$ där $m$ är studentens massa. En friläggning av studenten var som helst under rörelsen ger oss att snörkraften är vinkelrät mot rörelsen och den utför därför inget arbete på studenten. Kvar är då tyngdkraften som vi vet är konservativ. Därför kan vi använda energibevarande för att bestämma höjden när hen släpper repet. Från höjden kan trigonometri användas för att beräkna vinkeln $\\theta$ som efterfrågas i uppgift a.\n",
    "\n",
    "För b-uppgiften kan vi använda NII i ett tangent-normalkoordinatsystem för att bestämma accelerationen och därifrån snörkraften $T$ vid släpp.\n",
    "\n",
    "C-uppgiften kan lösas på liknande sätt som uppgift b. Skillnaden är att vi måste lista ut när snörkraften är som störst.\n"
   ]
  },
  {
   "cell_type": "markdown",
   "metadata": {},
   "source": [
    "## Uppgift a)\n",
    "\n",
    "Energin för ett konservativt system kan skrivas\n",
    "\n",
    "$\\begin{align}\n",
    "T_1 +V_1 & = T_2 + V_2  \\tag{I}\\\\\n",
    "\\end{align}$ \n",
    "\n",
    "där $T_i$ är rörelseenergin vid tidpunkt $i$ och $V_i$ är den potentiella energin vid samma tid.\n",
    "\n",
    "Här kan vi använda tidpunkten när studenten precis tagit tag i snöret som $i=1$ och vi väljer $i=2$ när hen släpper snöret. Sätter vi datum, d.v.s. nollnivån för den potentiella energin till studentens masscentrum vid $i=1$ blir $V_1=0$. Enligt uppgiften är hastigheten noll vid släpp vilket ger oss $T_2=0$. Kvar blir då \n",
    "\n",
    "$\\begin{align}\n",
    "T_1&=V_2   \\tag{I}\\\\\n",
    "T_1&=\\frac{mv^2}{2} \\\\\n",
    "V_2&=mgh\\\\\n",
    "\\end{align}$ \n",
    "\n",
    "För att utrycka höjden $h$ som funktion av vinkeln kan vi analysera snöret enligt nedan:\n",
    "![b2](./BF15_134b.png)\n",
    "\n",
    "\n",
    "Vilket ger oss \n",
    "$\\begin{align}\n",
    "h &= l (1-\\cos{\\theta}) \\tag{II}\\\\\n",
    "\\end{align}$\n",
    "\n",
    "som sätts in i ekvation I för att ge  vinkeln $\\theta$.\n",
    "$\\begin{align}\n",
    "\\frac{mv^2}{2}&=mgl (1-\\cos{\\theta})\\\\\n",
    "\\cos{\\theta} &= 1 - \\frac{v^2}{2gl} \\\\\n",
    "\\theta &= \\arccos(1 - \\frac{v^2}{2gl}) \\tag{III}\\\\\n",
    "\\end{align}$\n",
    "\n",
    "***Svar:*** $\\theta\\approx 28^\\circ$"
   ]
  },
  {
   "cell_type": "markdown",
   "metadata": {},
   "source": [
    "## Uppgift b) och c)\n",
    "\n",
    "Friläggning av studenten vid någon vinkel $\\theta$:\n",
    "\n",
    "![b3](./BF15_134c.png)\n",
    "\n",
    "Newton II ger : \n",
    "\n",
    "$\\begin{align}\n",
    "\\sum \\bar{F} &= \\bar{T} + m\\bar{g} = m\\bar{a} \\tag{IV} \\\\\n",
    "\\end{align}$\n",
    "\n",
    "Accelerationen i ett tangent-normalsystem skrivs här som \n",
    "\n",
    "$\\begin{align}\n",
    "\\bar{a} &= \\frac{dv}{dt}\\hat{e}_t + \\frac{v^2}{l} \\hat{e}_n \\tag{V}  \\\\\n",
    "\\end{align}$\n",
    "\n",
    "Från Ekv IV och V fås snörkraften $T$ då från normalkomponenterna som \n",
    "\n",
    "$\\begin{align}\n",
    "T - mg \\cos(theta) &= \\frac{mv^2}{l} \\\\\n",
    "T &=  mg \\cos(theta) + \\frac{mv^2}{l}  \\tag{VI} \\\\\n",
    "\\end{align}$\n",
    "\n",
    "För uppgift b) kan Ekv. VI lösas för $v=0$ och $\\theta$ enligt lösningen för a). \n",
    "\n",
    "***Svar:*** $T\\approx 707 N$\n",
    "\n",
    "\n",
    "\n",
    "I uppgift c) söks maximala snörkaften vilket kan lösas enligt följande resonemang: Ekv. VI visar att $T$ fås som summan av två termer $mg \\cos(\\theta)$ och $\\frac{mv^2}{l}$. Den första termen är störst när $\\cos(\\theta)=1$ d.v.s när $\\theta=0$. Den andra termen är störst när $v$ är så stor som möjligt vilket också måste vara vid den lägsta möjliga höjden (enligt resonemanget kring uppgift a) d.v.s. när $\\theta=0$. \n",
    "\n",
    "***Svar:*** $T_{max}\\approx 988 N$\n",
    "\n"
   ]
  },
  {
   "cell_type": "code",
   "execution_count": null,
   "metadata": {},
   "outputs": [],
   "source": []
  }
 ],
 "metadata": {
  "celltoolbar": "Raw Cell Format",
  "kernelspec": {
   "display_name": "Python 3",
   "language": "python",
   "name": "python3"
  },
  "language_info": {
   "codemirror_mode": {
    "name": "ipython",
    "version": 3
   },
   "file_extension": ".py",
   "mimetype": "text/x-python",
   "name": "python",
   "nbconvert_exporter": "python",
   "pygments_lexer": "ipython3",
   "version": "3.8.8"
  }
 },
 "nbformat": 4,
 "nbformat_minor": 4
}
