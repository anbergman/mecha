{
 "cells": [
  {
   "cell_type": "markdown",
   "metadata": {},
   "source": [
    "# Mekanik baskurs, problem 15.14"
   ]
  },
  {
   "cell_type": "markdown",
   "metadata": {},
   "source": [
    "The force exerted on a car by a prototype crash barrier as the barrier crushes is $F = -(120s + 40s^3)$ N, where s is the distance in metre from the initial contact. The effective length of the barrier is 18 m. How fast can a 5000-N car be moving and be brought to rest within the effective length of the barrier?\n",
    "\n",
    "![b1](./BF15_14.png)\n"
   ]
  },
  {
   "cell_type": "markdown",
   "metadata": {},
   "source": [
    "# Lösning:"
   ]
  },
  {
   "cell_type": "markdown",
   "metadata": {},
   "source": [
    "## Samband\n",
    "\n",
    "Vi söker en sträcka som behövs för att ge en hastighetsförändring. Vi vet vilken kraft som verkar på bilen under inbromsning och därför också vilket arbete kraften utför på fordonet. Därför passar det här bra att använda sambandet för arbete-energi: <br>\n",
    "\\begin{equation}\n",
    "T_1 + U_{12} = T_2\n",
    "\\end{equation}"
   ]
  },
  {
   "cell_type": "markdown",
   "metadata": {},
   "source": [
    "## Uträkning\n",
    "\n",
    "Vi antar att bilens hastighet vid början av inbromsningen är $v$ och vi kan då skriva bilens rörelseenergi som $T_1=\\frac{mv^2}{2}$ där $mg=5000$ N.\n",
    "\n",
    "Arbetet som bromsbarriären utför på planet under sträckan $s$ blir \n",
    "\n",
    "\\begin{equation}\n",
    "U_{12}=\\int_{0}^{s} \\mathbf{F} d\\mathbf{s}=\\int_{0}^{s}  -(120s + 40s^3) ds = -\\frac{120s^2}{2} - \\frac{40s^4}{4} = -60s^2 - 10 s^4 Nm\n",
    "\\end{equation}\n",
    "\n",
    "där sträckan $s$ är 18 m enligt uppgiften. Den kinetiska energin $T_2$ när bilen bromsats helt är $T_2=0$.\n",
    "\n",
    "Från ekvation (I) får kan vi då skriva \n",
    "\n",
    "\\begin{align}\n",
    " T_1 + U_{12} & = T_2 \\\\\n",
    " \\frac{mv^2}{2}  -60s^2 - 10 s^4 &  = 0 \\\\\n",
    " v^2 &= \\frac{2}{m} ( 60s^2 + 10 s^4) \\\\\n",
    " v &= \\sqrt{\\frac{2}{m} ( 60s^2 + 10 s^4)} \\sim 64 m/s\\\\\n",
    "\\end{align}\n"
   ]
  },
  {
   "cell_type": "markdown",
   "metadata": {},
   "source": [
    "## Svar\n",
    "Bilens hastighet får max vara $v=64$m/s för att kunna bromsas in helt av krockbarriären."
   ]
  }
 ],
 "metadata": {
  "celltoolbar": "Raw Cell Format",
  "kernelspec": {
   "display_name": "Python 3",
   "language": "python",
   "name": "python3"
  },
  "language_info": {
   "codemirror_mode": {
    "name": "ipython",
    "version": 3
   },
   "file_extension": ".py",
   "mimetype": "text/x-python",
   "name": "python",
   "nbconvert_exporter": "python",
   "pygments_lexer": "ipython3",
   "version": "3.8.8"
  }
 },
 "nbformat": 4,
 "nbformat_minor": 4
}
