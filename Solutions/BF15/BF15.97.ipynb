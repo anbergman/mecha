{
 "cells": [
  {
   "cell_type": "markdown",
   "metadata": {},
   "source": [
    "# Mekanik baskurs, problem 15.97"
   ]
  },
  {
   "cell_type": "markdown",
   "metadata": {},
   "source": [
    "The 20-kg cylinder is released at the position shown and falls onto the linear spring (k = 3000 N/m). Use conservation of energy to determine how far down the cylinder moves after contacting the spring.\n",
    "![b1](./BF15_97.png)\n"
   ]
  },
  {
   "cell_type": "markdown",
   "metadata": {},
   "source": [
    "# Lösning:"
   ]
  },
  {
   "cell_type": "markdown",
   "metadata": {},
   "source": [
    "## Resonemang\n",
    "\n",
    "Det som söks i uppgiften är hur långt ned massan faller. Det betyder att vi vill hitta ett vändläge där massans hastighet är noll innan den vänder upp igen. De yttre krafter som verkar i uppgiften är gravitation och fjäderkraft. De är bägge konservativa vilket gör att vi kan använda principen om energibevarande."
   ]
  },
  {
   "cell_type": "markdown",
   "metadata": {},
   "source": [
    "## Uträkning\n",
    "\n",
    "Energin för ett konservativt system kan skrivas\n",
    "\n",
    "$\\begin{align}\n",
    " T_1 +V_1 & = T_2 + V_2  \\tag{I}\\\\\n",
    "\\end{align}$ \n",
    "\n",
    "där $T_i$ är rörelseenergin vid tidpunkt $i$ och $V_i$ är den potentiella energin vid samma tid.\n",
    "\n",
    "Eftersom det är givet i uppgiftsbeskrivningen att man kan använda energibevarande kan vi anta att bevarandet stämmer över hela rörelsen och kan då välja vilka två tidpunkter som helst för ekvation I. \n",
    "\n",
    "Här är det lämpligt att använda startpunkten precis innan massan släpps som $i=1$ och vändläget som $i=2$. Vi kan notera att hastigheten vid båda tidpunkterna är noll d.v.s. \n",
    "\n",
    "$\\begin{align}\n",
    "T_1&=T_2 =0 \\tag{II}\\\\\n",
    "\\end{align}$ \n",
    "\n",
    "Som alltid när gravitationskrafter har ett bidrag till potentiella energin kan man välja \\it{datum}, d.v.s. noll-läge för gravitationsenergin själv. Lämpliga datum här kan vara massans startläge, höjden där den osträckta fjädern börjar eller vändläget. Låt oss använda vändläget denna gång. \n",
    "\n",
    "Vi definierar $h$ som avståndet från massans startläge till fjäderns början och $s$ som sträckan som fjädern trycks ihop maximalt. Då får vi följande uttryck:\n",
    "\n",
    "$\\begin{align}\n",
    "V_1&=mg(h+s) \\tag{III}\\\\\n",
    "\\end{align}$\n",
    "\n",
    "\n",
    "$\\begin{align}\n",
    "V_2&=\\frac{ks^2}{2} \\tag{IV}\\\\\n",
    "\\end{align}$ \n",
    "\n",
    "vilket med Ekv. I och II ger: \n",
    "\n",
    "$\\begin{align}\n",
    "V_1&=V_2\\\\\n",
    "mg(h+s)&=\\frac{ks^2}{2}\\\\\n",
    "\\frac{ks^2}{2} - mgs -mgh &= 0\\\\\n",
    "s^2 - \\frac{2mgs}{k} -  \\frac{2mgh}{k} &= 0 \\tag{V}\\\\\n",
    "\\end{align}$ \n",
    "\n",
    "vilket kan lösas för att få ut sträckan s som fjädern trycks ihop."
   ]
  },
  {
   "cell_type": "markdown",
   "metadata": {},
   "source": [
    "## Svar\n",
    "\n",
    "Lösning av andragradsekvationen i Ekv. V ger \n",
    "\n",
    "$\\begin{align}\n",
    "s = \\frac{mg}{k} \\pm \\sqrt{ \\left(\\frac{mg}{k}\\right)^2 + \\frac{2mgh}{k}} \\tag{V}\\\\\n",
    "\\end{align}\n",
    "$\n",
    "\n",
    "vilket med insatta värden ger s=0.58 m och s=-0.45 d.v.s. två olika vändlägen.\n",
    "\n",
    "Det som efterfrågas i uppgiften är det lägsta vändläget och eftersom det beskrivs som avståndet $h+s$ från startläget inses att det är det positiva värdet på $s$ som söks här.\n",
    "\n",
    "Svaret blir alltså: $s=0.58$m."
   ]
  },
  {
   "cell_type": "markdown",
   "metadata": {},
   "source": [
    "## Kommentar\n",
    "Det andra vändlägen motsvarar det högsta läget som fjädern sträcks ut till om rörelsen fortsätter, d.v.s. en bit ovanför fjäderns osträckta läge. "
   ]
  }
 ],
 "metadata": {
  "celltoolbar": "Raw Cell Format",
  "kernelspec": {
   "display_name": "Python 3",
   "language": "python",
   "name": "python3"
  },
  "language_info": {
   "codemirror_mode": {
    "name": "ipython",
    "version": 3
   },
   "file_extension": ".py",
   "mimetype": "text/x-python",
   "name": "python",
   "nbconvert_exporter": "python",
   "pygments_lexer": "ipython3",
   "version": "3.8.8"
  }
 },
 "nbformat": 4,
 "nbformat_minor": 4
}
