{
 "cells": [
  {
   "cell_type": "markdown",
   "metadata": {},
   "source": [
    "# Mekanik baskurs, problem 15.15"
   ]
  },
  {
   "cell_type": "markdown",
   "metadata": {},
   "source": [
    "A 5000-N car hits the crash barrier at 80 km/h and is brought to rest in 0.11 seconds. What average power is transferred from the car during the impact?\n",
    "\n",
    "![b1](./BF15_14.png)\n"
   ]
  },
  {
   "cell_type": "markdown",
   "metadata": {},
   "source": [
    "# Lösning:"
   ]
  },
  {
   "cell_type": "markdown",
   "metadata": {},
   "source": [
    "Medeleffekten $\\bar{P}$ av arbetet $U_{12}$ under tiden $\\Delta t$ fås som $\\bar{P} = \\frac{U_{12}}{\\Delta t}$\n",
    "\n",
    "Arbetet som bromsbarriären utför på bilen under inbromsningen fås via sambandet för arbete-energi: $T_1 + U_{12} = T_2$.\n",
    "\n",
    "Här har vi $T_1=\\frac{mv^2}{2}$, där $mg=5000$N och $v=80/3.6=22.22$m/s, och $T_2=0$. Arbetet $U_{12}$ blir då lika stort som $T_1$ men negativt, d.v.s. $U_{12}=- \\frac{mv^2}{2}$.\n",
    "\n",
    "Med insatta värden får vi medeleffekten $\\bar{P}$ som:\n",
    "\\begin{align}\n",
    "\\bar{P}&=\\frac{U_{12}}{\\Delta t} = -\\frac{mv^2}{2\\Delta t} = -\\frac{5000*22.22^2}{g*2*0.11}=-1.13*10^6 J\\\\\n",
    "\\end{align}"
   ]
  },
  {
   "cell_type": "markdown",
   "metadata": {},
   "source": [
    "## Svar\n",
    "Krockbarriärens medeleffekt blir $\\bar{P}=1.13$ MJ."
   ]
  }
 ],
 "metadata": {
  "celltoolbar": "Raw Cell Format",
  "kernelspec": {
   "display_name": "Python 3",
   "language": "python",
   "name": "python3"
  },
  "language_info": {
   "codemirror_mode": {
    "name": "ipython",
    "version": 3
   },
   "file_extension": ".py",
   "mimetype": "text/x-python",
   "name": "python",
   "nbconvert_exporter": "python",
   "pygments_lexer": "ipython3",
   "version": "3.8.8"
  }
 },
 "nbformat": 4,
 "nbformat_minor": 4
}
