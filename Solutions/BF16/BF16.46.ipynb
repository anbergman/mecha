{
 "cells": [
  {
   "cell_type": "markdown",
   "metadata": {},
   "source": [
    "# Mekanik baskurs, problem 16.46"
   ]
  },
  {
   "cell_type": "markdown",
   "metadata": {},
   "source": [
    "The 400-kg satellite S traveling at 7 km/s is hit by a 1-kg meteor M traveling at 12 km/s. The meteor is embedded in the satellite by the impact. Determine the magnitude of the velocity of their common center of mass after the impact and the angle β between the path of the center of mass and the original path of the satellite.\n",
    "\n",
    "![b1](./BF16_46.png)\n"
   ]
  },
  {
   "cell_type": "markdown",
   "metadata": {},
   "source": [
    "# Lösning:"
   ]
  },
  {
   "cell_type": "markdown",
   "metadata": {},
   "source": [
    "## Resonemang\n",
    "\n",
    "Vi vet att rörelsemängden bevaras vid stöt. Om bilden tolkas som att satelliten rör sig i positiv x-led och meteoren i en vinkel med 45 grader mot satelliten kan vi ställa upp följande samband.\n",
    "\n",
    "$\\begin{align}\n",
    "\\mathbf{p}_{f}& =\\mathbf{p}_e \\\\\n",
    "\\mathbf{p}_{f}& =m_{sat} v_{sat}\\hat{x} + m_{met} v_{met} (-\\cos 45 \\hat{x} + \\sin 45 \\hat{y}) \\\\\n",
    "\\mathbf{p}_{e}& = (m_{sat}+m_{met})v_{e} (\\cos \\beta \\hat{x} + \\sin \\beta \\hat{y}) \\\\\n",
    "\\end{align}$\n",
    "\n",
    "där satellitens massa och hastighet är $m_{sat}$ och $\\mathbf{v}_{sat}$, meteorens massa och hastighet är $m_{met}$ och $\\mathbf{v}_{met}$. Hastigheten efter stöten är $\\mathbf{v}_e$.\n",
    "\n",
    "Om sambanden ovan skrivs på komponentform får vi \n",
    "\n",
    "$\\begin{align}\n",
    "\\hat{x} &: m_{sat} v_{sat} - m_{met} v_{met} \\cos 45 = (m_{sat}+m_{met})v_{e} \\cos \\beta \\tag{I} \\\\\n",
    "\\hat{y} &: m_{met} v_{met} \\sin 45 = (m_{sat}+m_{met})v_{e} \\sin \\beta \\tag{II}\\\\\n",
    "\\end{align}$\n",
    "\n",
    "Ersätter vi uttrycken $v_{e} \\cos \\beta$ med $v_{e}^x$ och $v_{e} \\sin \\beta$ med $v_{e}^y$ kan vi bestämma x- och y-komponenterna av sluthastigheten $v_e$ som:\n",
    "\n",
    "$\\begin{align}\n",
    "v_e^x &=\\frac{ m_{sat} v_{sat} - m_{met} v_{met} \\cos 45}{m_{sat}+m_{met}} \\\\\n",
    "v_e^y &=\\frac{ m_{met} v_{met} \\sin 45}{m_{sat}+m_{met}}\\\\\n",
    "\\end{align}$\n",
    "\n",
    "och därifrån kan vinkeln $\\beta$ fås från \n",
    "\n",
    "$\\begin{align}\n",
    "\\frac{v_e^y}{v_e^x}&=\\frac{v_{e} \\sin \\beta}{v_{e} \\cos \\beta}=\\tan \\beta \\\\\n",
    "\\end{align}$\n",
    "\n",
    "och hastigheten $v_e=\\sqrt{(v_e^x)^2+(v_e^y)^2}$."
   ]
  },
  {
   "cell_type": "markdown",
   "metadata": {},
   "source": [
    "## Uträkning\n",
    "Med insatta värden fås att $v_e=6961$ m/s och $\\beta=0.17^\\circ$."
   ]
  }
 ],
 "metadata": {
  "celltoolbar": "Raw Cell Format",
  "kernelspec": {
   "display_name": "Python 3",
   "language": "python",
   "name": "python3"
  },
  "language_info": {
   "codemirror_mode": {
    "name": "ipython",
    "version": 3
   },
   "file_extension": ".py",
   "mimetype": "text/x-python",
   "name": "python",
   "nbconvert_exporter": "python",
   "pygments_lexer": "ipython3",
   "version": "3.8.8"
  }
 },
 "nbformat": 4,
 "nbformat_minor": 4
}
