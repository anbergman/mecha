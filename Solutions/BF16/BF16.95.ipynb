{
 "cells": [
  {
   "cell_type": "markdown",
   "metadata": {},
   "source": [
    "# Mekanik baskurs, problem 16.95"
   ]
  },
  {
   "cell_type": "markdown",
   "metadata": {},
   "source": [
    "Two gravity research satellites ($m_A$ = 250 kg, $m_B$ = 50 kg) are tethered by a cable. The satellites and cable rotate with angular velocity $\\omega_0$ = 0.25 revolution per minute. Ground controllers order satellite A to slowly unreel 6 m of additional cable. <br>\n",
    "What is the angular velocity afterward?\n",
    "\n",
    "![b1](./BF16_95.png)\n"
   ]
  },
  {
   "cell_type": "markdown",
   "metadata": {},
   "source": [
    "# Lösning:"
   ]
  },
  {
   "cell_type": "markdown",
   "metadata": {},
   "source": [
    "Efterom satelliterna sitter fast i varandra med en kabel kan vi utgå från att de bara utsätts för en centralkraft i kabelns riktning. För centralkrafter gäller att rörelsemängdsmomentet $\\mathbf{H}$ bevaras. Dock är det så att $\\mathbf{H}$ bara bevaras med avseende kring systemets masscentrum. <br>\n",
    "(Eftersom det finns en avståndsvektor $\\mathbf{r}$ med i uttrycket för rörelsemängdsmomentet $\\mathbf{H} = \\mathbf{r} \\times m\\mathbf{v}$ är $\\mathbf{H}$ alltid definierat *med avseende på en viss punkt i rummet*. Det är analogt med kraftmoment $\\mathbf{M}=\\mathbf{r}\\times\\mathbf{F}$ som också alltid är definierat med avseende på en viss punkt.)\n",
    "\n",
    "Därför behöver vi bestämma masscentrums läge för de två olika kabellängderna.\n",
    "\n",
    "I startläget är kabelns längd $l=12 m$. Det ger masscentrum relativt $m_A$ som \n",
    "\n",
    "$\\begin{align}\n",
    "r_{0}& = \\frac{m_A * 0 + m_B * l}{m_A+m_B} = \\frac{12 m_B}{m_A+m_B} = 2 m\\\\\n",
    "\\end{align}$\n",
    "\n",
    "När kabeln dragits ut är masscentrum istället på\n",
    "\n",
    "$\\begin{align}\n",
    "r_{1}& = \\frac{m_A * 0 + m_B * (l+6)}{m_A+m_B} = \\frac{18 m_B}{m_A+m_B} = 3 m\\\\\n",
    "\\end{align}$\n",
    "\n",
    "\n",
    "Med $r_{0}$ och $r_1$ kända kan vi skriva upp rörelsemängden i start- och ändläget. Eftersom vi har vinkelhastigheten $\\omega$ och inte hastigheten $v_\\theta$ kan vi först skriva om det generella uttrycket för rörelsemängdsmomentet $H$ för en massa $m$ vid centralrörelse med radien $r$ som \n",
    "\n",
    "$H=mrv_\\theta=mr^2\\omega$. \n",
    "\n",
    "Med den omskrivningen får vi\n",
    "\n",
    "$\\begin{align}\n",
    "H_0 & = m_A (0-r_0)^2 \\omega_0 + m_B (l-r_0)^2 \\omega_0 \\\\\n",
    "H_1 & = m_A (0-r_1)^2 \\omega_1 + m_B (l+6-r_1)^2 \\omega_1 \\\\\n",
    "\\end{align}$\n",
    "\n",
    "Rörelsemängdens bevarande $H_0 = H_1$ kan då användas för att bestämma $\\omega_1$.\n",
    "\n",
    "\n",
    "$\\begin{align}\n",
    "m_A (0-r_0)^2 \\omega_0 + m_B (l-r_0)^2 \\omega_0 &= m_A (0-r_1)^2 \\omega_1 + m_B (l+6-r_1)^2 \\omega_1 \\\\\n",
    "(m_A (0-r_0)^2  + m_B (l-r_0)^2 )\\omega_0 &= (m_A (0-r_1)^2  + m_B (l+6-r_1)^2 )\\omega_1 \\\\\n",
    "\\omega_1 &= \\frac{(m_A (0-r_0)^2  + m_B (l-r_0)^2 )\\omega_0}{m_A (0-r_1)^2  + m_B (l+6-r_1)^2} \\\\\n",
    "\\end{align}$\n"
   ]
  },
  {
   "cell_type": "markdown",
   "metadata": {},
   "source": [
    "## Uträkning\n",
    "Med insatta värden fås att $\\omega_1 = 0.111$ varv/minut."
   ]
  }
 ],
 "metadata": {
  "celltoolbar": "Raw Cell Format",
  "kernelspec": {
   "display_name": "Python 3",
   "language": "python",
   "name": "python3"
  },
  "language_info": {
   "codemirror_mode": {
    "name": "ipython",
    "version": 3
   },
   "file_extension": ".py",
   "mimetype": "text/x-python",
   "name": "python",
   "nbconvert_exporter": "python",
   "pygments_lexer": "ipython3",
   "version": "3.8.8"
  }
 },
 "nbformat": 4,
 "nbformat_minor": 4
}
