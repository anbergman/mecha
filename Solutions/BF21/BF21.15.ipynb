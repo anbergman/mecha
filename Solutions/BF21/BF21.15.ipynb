{
 "cells": [
  {
   "cell_type": "markdown",
   "metadata": {},
   "source": [
    "## Mekanik II, problem 21.15\n"
   ]
  },
  {
   "cell_type": "markdown",
   "metadata": {},
   "source": [
    "The 89 N disk rolls on the horizontal surface. Its radius is R = 152.4 mm. The spring constant is k = 218.9 N/m. At t = 0, the spring is unstretched and the disk has a clockwise angular velocity of 2 rad/s. What is the amplitude of the resulting vibrations of the center of the disk?\n",
    "\n",
    "![FSkiva](./BF21_15.png)"
   ]
  },
  {
   "cell_type": "markdown",
   "metadata": {},
   "source": [
    "# Lösning:"
   ]
  },
  {
   "cell_type": "markdown",
   "metadata": {},
   "source": [
    "## Energianalys\n",
    "\n",
    "För att svara på frågorna om svängningsrörelsen vill vi kunna skriva rörelsen för systemet som en harmonisk svängning på formen \n",
    "\n",
    "$x(t) = A cos(\\omega_0 t) + B sin(\\omega_0 t) $\n",
    "\n",
    "där egenvinkelfrekvensen $\\omega_0$ kan bestämmas från systemets energibevaranda och konstanterna A och B från givna begynnelsevillkor.\n",
    "\n",
    "Energin för systemet kan skrivas som \n",
    "\n",
    "$E = \\frac{mv^2}{2} + \\frac{I\\omega^2}{2} + \\frac{kx^2}{2}$ \n",
    "\n",
    "där $k$ är fjäderkonstanten. $v=\\frac{dx}{dt}$, $\\omega=\\frac{d\\theta}{dt}$ och $I$ skivans tröghetsmoment.\n",
    "\n",
    "(Notera skillnaden mellan $\\omega_0$ och $\\omega$ här.)\n",
    "\n",
    "Med rullvillkor $|v|=r|\\omega|$ fås energin som \n",
    "\n",
    "$E = \\frac{mv^2}{2} + \\frac{Iv^2}{2r^2} + \\frac{kx^2}{2}$ \n",
    "\n"
   ]
  },
  {
   "cell_type": "markdown",
   "metadata": {},
   "source": [
    "## Svängningsrörelse\n",
    "\n",
    "\n",
    "Eftersom energin bevaras för systemet är $\\frac{dE}{dt}=0$ dvs\n",
    "\n",
    "$\\frac{dE}{dt} = mv\\frac{d^2x}{dt^2} + \\frac{Iv}{r^2}\\frac{d^2x}{dt^2} + kx \\frac{dx}{dt} = m\\frac{dx}{dt}\\frac{d^2x}{dt^2} + \\frac{I}{r^2}\\frac{dx}{dt}\\frac{d^2x}{dt^2} + kx \\frac{dx}{dt} = 0$ \n",
    "\n",
    "vilket kan skrivas om som (med division av $\\frac{dx}{dt}$) \n",
    "\n",
    "$m\\frac{d^2x}{dt^2} + \\frac{I}{r^2}\\frac{d^2x}{dt^2} + kx = 0$\n",
    "\n",
    "$m\\frac{d^2x}{dt^2} + \\frac{I}{r^2}\\frac{d^2x}{dt^2} + kx = 0$\n",
    "\n",
    "Med insättning av tröghetsmomentet för en skiva, $I=\\frac{mr^2}{2}$ kan rörelseekvationen förenklas ytterligare till\n",
    "\n",
    "$m\\frac{d^2x}{dt^2} + \\frac{m r^2}{2r^2}\\frac{d^2x}{dt^2} + kx = 0$\n",
    "\n",
    "$\\frac{3m}{2}\\frac{d^2x}{dt^2} + kx = 0$\n",
    "\n",
    "$\\frac{d^2x}{dt^2} + \\frac{2k}{3m}x = 0$\n",
    "\n",
    "med $\\omega_0^2=\\frac{2k}{3m}$ få slutligen \n",
    "\n",
    "$\\frac{d^2x}{dt^2} + \\omega_0^2 x = 0$\n",
    "\n",
    "vilket kan identiferas som en harmonisk svängning.\n",
    "\n"
   ]
  },
  {
   "cell_type": "markdown",
   "metadata": {},
   "source": [
    "## Rörelseekvationen\n",
    "\n",
    "\n",
    "Lösningen till svängningsrörelsen kan skrivas som \n",
    "\n",
    "$x(t) = A cos(\\omega_0 t) + B sin(\\omega_0 t)$ **(I)**\n",
    "\n",
    "och för att lösa ut $A$ och $B$ behöver de givna begynnelsevillkoren sättas in.\n",
    "\n",
    "Från uppgiften tolkas \"At t = 0, the spring is unstretched\" som $x(0)=0$ vilket från inspektion av **(I)** ger $A=0$.\n",
    "\n",
    "För bestämning av $B$ behövs $\\dot{x}=\\frac{dx}{dt}$\n",
    "\n",
    "$\\dot{x}(t) = -A\\omega_0 sin(\\omega_0 t) + B \\omega_0 cos(\\omega_0 t)$ \n",
    "\n",
    "$\\dot{x}(0) = B \\omega_0 $. **(II)**\n",
    "\n",
    "Begynnelsevillkoret för $\\dot{x}(0)$ är formulerat för vinkelhastigheten $\\omega=2 rad/s$ vilket motsvarar en hastighet $\\dot{x}=r\\omega=2*0.1524=0.3048 m/s$. Insatt i **(II)** ger det $B=\\frac{r\\omega}{\\omega_0}= 0.0189 m$. \n",
    "\n",
    "Den sökta amplituden $C$ på svängingsrörelsen ges av $C=\\sqrt{A^2 + B^2} = B = 0.019 m$.\n",
    "\n",
    "\n",
    "\n"
   ]
  },
  {
   "cell_type": "code",
   "execution_count": null,
   "metadata": {},
   "outputs": [],
   "source": []
  }
 ],
 "metadata": {
  "celltoolbar": "Tags",
  "kernelspec": {
   "display_name": "Python 3 (ipykernel)",
   "language": "python",
   "name": "python3"
  },
  "language_info": {
   "codemirror_mode": {
    "name": "ipython",
    "version": 3
   },
   "file_extension": ".py",
   "mimetype": "text/x-python",
   "name": "python",
   "nbconvert_exporter": "python",
   "pygments_lexer": "ipython3",
   "version": "3.9.12"
  }
 },
 "nbformat": 4,
 "nbformat_minor": 2
}
