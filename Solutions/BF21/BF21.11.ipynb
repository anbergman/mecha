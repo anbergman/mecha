{
 "cells": [
  {
   "cell_type": "markdown",
   "metadata": {},
   "source": [
    "# Mekanik II, problem 21.11"
   ]
  },
  {
   "cell_type": "markdown",
   "metadata": {},
   "source": [
    "A “bungee jumper” who weighs 711.7 N leaps from a bridge above a river. The bungee cord has an unstretched length of 18.3 m, and it stretches an additional 12.2 m before the jumper rebounds. Model the cord as a linear spring. When his motion has nearly stopped, what are the period and frequency of his vertical oscillations? (You can’t model the cord as a linear spring during the early part of his motion. Why not?)\n",
    "\n",
    "![Bungee](./BF21_11.png)\n",
    "\n"
   ]
  },
  {
   "cell_type": "markdown",
   "metadata": {},
   "source": [
    "# Lösning:"
   ]
  },
  {
   "cell_type": "markdown",
   "metadata": {},
   "source": [
    "## Resonemang\n",
    "\n",
    "I början av fallet är bungeelinan inte sträckt och kan därför inte ses som en fjäder. Under senare delen av rörelsen går det däremot bra att göra så. Det betyder att nära jämviktsläget för hopparen kan vi anta att hens rörelse beskrivs som en harmonisk svängning.\n",
    "\n",
    "För att beräkna frekvens och periodtid för en harmonisk svängning av en fjäder behöver fjäderkonstanten bestämmas. Det kan göras med sambandet för energins bevarande eftersom inga icke-konservativa krafter verkar här. \n"
   ]
  },
  {
   "cell_type": "markdown",
   "metadata": {},
   "source": [
    "## Harmonisk svängning\n",
    "\n",
    "Friläggs hopparen för en ändlig förskjutning $y$ kring jämviktsläget fås Euler I som\n",
    "\n",
    "$\\sum_i \\mathbf{F}_i = -mg - ky = ma = m\\frac{d^2 y}{dt^2}$ **(I)**\n",
    "\n",
    "om y-axeln definierats som positiv uppåt. **(I)** kan skrivas om för att få rörelsen på en form där en harmonisk svängning kan identifieras\n",
    "\n",
    "$\\frac{d^2 y}{dt^2} + \\frac{k}{m}y = -mg$ **(II)**\n",
    "\n",
    "Eftersom högerleded i **(II)** inte är noll får vi ansätta en homogen lösning $y_{h}$ och en partikulärlösning $y_{p}$ så att \n",
    "\n",
    "$y(t) = y_{h}(t) + y_{p}(t)$\n",
    "\n",
    "I uppgiften efterfrågas bara perioden och frekvensen för rörelsen så vi kan begränsa oss till att lösa det homogena problemet här.\n",
    "\n",
    "$\\frac{d^2 y}{dt^2} + \\frac{k}{m}y = 0$ \n",
    "\n",
    "Vilket med $\\omega^2=\\frac{k}{m}$ blir \n",
    "\n",
    "$\\frac{d^2 y}{dt^2} + \\omega^2y = 0$ \n",
    "\n",
    "som har en lösning på formen\n",
    "\n",
    "$y_h(t) = A cos(\\omega t) + B sin(\\omega t)$\n",
    "\n",
    "dvs $\\omega$ är vinkelfrekvensen för svängningen.\n"
   ]
  },
  {
   "cell_type": "markdown",
   "metadata": {},
   "source": [
    "## Arbete och energi \n",
    "\n",
    "Sambandet för energins bevarande kan skrivas som \n",
    "\n",
    "$T_1 + V_1 = T_2 + V_2$ **(III)**\n",
    "\n",
    "där $T$ betyder rörelseenergi och $V$ potentiell energi.\n",
    "\n",
    "För att beräkna fjäderkonstanten $k$ för bungeelinan kan vi tillämpa **(I)** på systemet innan hoppet och i vändläget. I båda dessa fall är hastigheten noll vilket leder till att $T_1 = T_2 = 0$. Väljer vi nollnivån för den potentiella (gravitations)energin till läge $1$ får vi då\n",
    "\n",
    "$T_1 = 0$ (vila)\n",
    "\n",
    "$V_1 = 0$ (osträckt fjäder, datum)\n",
    "\n",
    "\n",
    "$T_2 = 0$ (vändläge)\n",
    "\n",
    "$V_2 = -(l+s)mg + \\frac{ks^2}{2}$ (maximalt utsträckt fjäder) \n",
    "\n",
    "där vi låter $s$ vara fjäderns töjning och $l$ fjäderns osträckta längd.\n",
    "\n",
    "Från uppgiften vet vi att $s=12.2 m$ och $l=18.3 m$"
   ]
  },
  {
   "cell_type": "markdown",
   "metadata": {},
   "source": [
    "## Beräkning\n",
    "\n",
    "Från **(III)** får vi\n",
    "\n",
    "$-(l+s)mg + \\frac{ks^2}{2} = 0 $\n",
    "\n",
    "$k = \\frac{2mg(l+s)}{s^2}$\n",
    "\n",
    "\n",
    "vilket ger $\\omega$ som\n",
    "\n",
    "$\\omega = \\sqrt{\\frac{k}{m}} = \\sqrt{\\frac{2mg(l+s)}{ms^2}}$\n",
    "\n",
    "Frekvensen $f$ och periodtiden $T$ fås som $f=\\frac{\\omega}{2\\pi}$ och $T=\\frac{2\\pi}{\\omega}$ vilket ger\n",
    "\n",
    "$f = \\frac{\\sqrt{\\frac{2mg(l+s)}{ ms^2}}}{2 \\pi}$\n",
    "\n",
    "$T = \\frac{2 \\pi}{\\sqrt{\\frac{2mg(l+s)}{ ms^2}}}$\n",
    "\n"
   ]
  },
  {
   "cell_type": "markdown",
   "metadata": {},
   "source": [
    "## Svar\n",
    "Med insatta värden, där $m=\\frac{W}{g}=\\frac{711.7}{9.81}=72.55$ kg, blir $f=0.39$ Hz och $T=3.13$ s.\n",
    "\n"
   ]
  }
 ],
 "metadata": {
  "celltoolbar": "Tags",
  "kernelspec": {
   "display_name": "Python 3 (ipykernel)",
   "language": "python",
   "name": "python3"
  },
  "language_info": {
   "codemirror_mode": {
    "name": "ipython",
    "version": 3
   },
   "file_extension": ".py",
   "mimetype": "text/x-python",
   "name": "python",
   "nbconvert_exporter": "python",
   "pygments_lexer": "ipython3",
   "version": "3.9.12"
  }
 },
 "nbformat": 4,
 "nbformat_minor": 2
}
