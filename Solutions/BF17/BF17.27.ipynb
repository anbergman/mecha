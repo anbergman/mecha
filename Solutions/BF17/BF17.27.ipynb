{
 "cells": [
  {
   "cell_type": "markdown",
   "metadata": {},
   "source": [
    "# Mekanik II, problem 17.27"
   ]
  },
  {
   "cell_type": "markdown",
   "metadata": {},
   "source": [
    "Point A of the rolling disk is moving toward the right. The magnitude of the velocity of point C is 5 m/s. determine the velocities of points B and D.\n",
    "\n",
    "![Skiva](./BF17_27a.png)\n"
   ]
  },
  {
   "cell_type": "markdown",
   "metadata": {},
   "source": [
    "# Lösning:"
   ]
  },
  {
   "cell_type": "markdown",
   "metadata": {},
   "source": [
    "## Resonemang\n",
    "\n",
    "Det som söks är hastigheterna $\\mathbf{v}_B$ för punkten $B$ och $\\mathbf{v}_D$ för punkten $D$. \n",
    "\n",
    "Ett användbart samband här är det generella uttrycket för relativ rörelse $\\mathbf{v}_A=\\mathbf{v}_B+\\mathbf{v}_{A/B}$ vilket för punkter $A$ och $B$ på samma stela kropp ger $\\mathbf{v}_A=\\mathbf{v}_B+\\omega\\times\\mathbf{r}_{A/B}$ där $\\omega$ är vinkelhastigheten för den stela kroppen.\n",
    "\n",
    "\n",
    "I uppgiften är $\\mathbf{v}_C$ given så vi kan ställa upp följande samband för relativa rörelser:\n",
    "\n",
    "$\\mathbf{v}_C = \\mathbf{v}_B+\\omega\\times\\mathbf{r}_{C / B}$ **(I)**\n",
    "\n",
    "$\\mathbf{v}_C = \\mathbf{v}_D+\\omega\\times\\mathbf{r}_{C / D}$ **(II)**\n",
    "\n",
    "$\\mathbf{v}_D = \\mathbf{v}_B+\\omega\\times\\mathbf{r}_{D / B}$ **(III)**\n",
    "\n",
    "\n",
    "Då det är givet att skivan rullar, vet vi från rullvillkoret att vid kontaktpunkten mellan skivan och marken är hastigheten noll. Det vill säga här är $\\mathbf{v}_B=0$ så den hastigheten behöver vi inte räkna ut på annat sätt.\n",
    "\n",
    "Trots att $\\mathbf{v}_B$ nu redan är bestämd är både $\\omega$ och $\\mathbf{v}_D$ obekanta så vi behöver fortfarande använda två av ekvationerna ovan."
   ]
  },
  {
   "cell_type": "markdown",
   "metadata": {},
   "source": [
    "## Vektorer och vinkelhastigheter\n",
    "\n",
    "Från figuren kan vi bestämma\n",
    "\n",
    "$\\mathbf{r}_{C/B} = r \\hat{x} + r \\hat{y}$\n",
    "\n",
    "$\\mathbf{r}_{C/D} = (r \\cos 45 - r) \\hat{x} - r \\sin 45 \\hat{y}$\n",
    "\n",
    "$\\mathbf{r}_{D/B} = -r \\cos 45 \\hat{x} + (r+r \\sin 45) \\hat{y}$\n",
    "\n",
    "och vinkelhastigheten kan skrivas $\\omega=\\omega\\hat{z}$ även om storleken på $\\omega$ fortfarande är obekant.\n",
    "\n",
    "För vektorerna gäller även $\\mathbf{r}_{C/B}=-\\mathbf{r}_{B/C}$ och $\\mathbf{r}_{C/D}=-\\mathbf{r}_{D/C}$.\n",
    "\n",
    "\n"
   ]
  },
  {
   "cell_type": "markdown",
   "metadata": {},
   "source": [
    "## Beräkning av $\\omega$\n",
    "\n",
    "Det finns flera möjliga sätt att lösa ut $\\mathbf{v}_D$ och $\\omega$, vi väljer här att först använda ekvation **(I)** och den givna uppgiften att $v_C=5$ för att bestämma $\\omega$.\n",
    "\n",
    "$\\mathbf{v}_C=\\mathbf{v}_B + \\omega \\times \\mathbf{r}_{C/B}  =  0 + (\\omega \\hat{z}) \\times (r \\hat{x} + r \\hat{y}) \n",
    "= \\begin{vmatrix}\n",
    "&\\hat{x}&&\\hat{y}&&\\hat{z}&\\\\\n",
    "\\\\\n",
    "& 0  && 0 && \\omega &\\\\\n",
    "\\\\\n",
    "& r && r && 0 &\\\\\n",
    "\\end{vmatrix} = -r\\omega \\hat{x} + r\\omega \\hat{y}$\n",
    "\n",
    "vilket ger att beloppet på $v_C$ blir\n",
    "\n",
    "$v_c=\\sqrt{(\\mathbf{v}_C)^2}=\\sqrt{(-r\\omega \\hat{x} + r\\omega \\hat{y})\\cdot(-r\\omega \\hat{x} + r\\omega \\hat{y})}=\\sqrt{(r \\omega)^2+(r\\omega)^2}=\\pm \\sqrt{2}r\\omega$.\n",
    "\n",
    "Notera att $\\omega$ kan vara antingen större eller mindre än noll. I uppgiften är det givet att skivan rör sig åt höger. Det betyder att $\\omega=-\\sqrt{2}r\\omega$ här.\n",
    "\n",
    "\n",
    "Sätter vi in det kända värdet på $v_C=5$ kan vi lösa ut $\\omega$.\n",
    "\n",
    "$v_c=| \\pm \\sqrt{2}r\\omega |= 5$ (m/s)\n",
    "\n",
    "vilket ger\n",
    "\n",
    "$| \\omega |= \\frac{5}{\\sqrt{2} r}$ (1/s)\n",
    "\n"
   ]
  },
  {
   "cell_type": "markdown",
   "metadata": {},
   "source": [
    "## Beräkning av $\\mathbf{v}_D$\n",
    "\n",
    "Nu kan vi sätta in $\\omega$ i utrycket för $\\mathbf{v}_D$ från ekvation **(III)**.\n",
    "\n",
    "$\\mathbf{v}_D = \\mathbf{v}_B+\\omega\\times\\mathbf{r}_{D / B}$\n",
    "\n",
    "\n",
    "$\\mathbf{v}_D = 0 + (-\\frac{5}{\\sqrt{2} r}\\hat{z})\\times(-r \\cos 45 \\hat{x} + (r+r \\sin 45) \\hat{y}) \n",
    "= \\begin{vmatrix}\n",
    "&\\hat{x}&&\\hat{y}&&\\hat{z}&\\\\\n",
    "\\\\\n",
    "& 0  && 0 && -\\frac{5}{\\sqrt{2} r} &\\\\\n",
    "\\\\\n",
    "& -r \\cos 45 && (r+r \\sin 45) && 0 &\\\\\n",
    "\\end{vmatrix} =  \\\\ \n",
    "= \\frac{5}{\\sqrt{2} r} (r + r \\cos 45 )\\hat{x} + \\frac{5}{\\sqrt{2} r} r \\sin 45 \\hat{y} = \\frac{5}{\\sqrt{2}} (1+\\frac{1}{\\sqrt{2}}) \\hat{x} + \\frac{5}{2}\\hat{y} = 6.0 \\hat{x} + 2.5 \\hat{y}$ "
   ]
  },
  {
   "cell_type": "markdown",
   "metadata": {},
   "source": [
    "## Svar\n",
    "\n",
    "Enligt rullvillkoret är $v_B=0$ (m/s) och $\\mathbf{v}_D=6.0 \\hat{x} + 2.5 \\hat{y}$  (m/s)"
   ]
  }
 ],
 "metadata": {
  "celltoolbar": "Raw Cell Format",
  "kernelspec": {
   "display_name": "Python 3",
   "language": "python",
   "name": "python3"
  },
  "language_info": {
   "codemirror_mode": {
    "name": "ipython",
    "version": 3
   },
   "file_extension": ".py",
   "mimetype": "text/x-python",
   "name": "python",
   "nbconvert_exporter": "python",
   "pygments_lexer": "ipython3",
   "version": "3.7.7"
  }
 },
 "nbformat": 4,
 "nbformat_minor": 2
}
