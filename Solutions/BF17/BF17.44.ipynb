{
 "cells": [
  {
   "cell_type": "markdown",
   "metadata": {},
   "source": [
    "# Mekanik II, problem 17.44"
   ]
  },
  {
   "cell_type": "markdown",
   "metadata": {},
   "source": [
    "The diameter of the disk is 1 m, and the length of the bar AB is 1 m. The disk is rolling, and point B slides on the plane surface. Determine the angular velocity of the bar AB and the velocity of point B.\n",
    "\n",
    "![SkivaStang](./BF17_44a.png)\n"
   ]
  },
  {
   "cell_type": "markdown",
   "metadata": {},
   "source": [
    "# Lösning:"
   ]
  },
  {
   "cell_type": "markdown",
   "metadata": {},
   "source": [
    "## Resonemang\n",
    "\n",
    "För att bestämma hastigheten $\\mathbf{v}_B$ för punkten $B$ och vinkelhastigheten $\\omega_{AB}$ kan vi använda oss av sambandet för relativ rörelse för stela kroppar. \n",
    "\n",
    "För stången gäller \n",
    "$\\mathbf{v}_A = \\mathbf{v}_B + \\omega_{AB}\\times\\mathbf{r}_{A/B}$\n",
    "\n",
    "Eftersom både $\\omega_{AB}$ och $\\mathbf{r}_{A/B}$ är obekanta behöver vi ett samband till. Vi inför punkten $P$ vid kontakten mellan skivan och marken, enligt figuren nedan där vi även infört vårt koordinatsystem.\n",
    "![SkivaP](./BF17_44b.png)\n",
    "\n",
    "Vi vet från rullvillkoret att $\\mathbf{v}_P=0$ och vi kan använda det för att ge ett annat uttryck för $\\mathbf{v}_A$ som\n",
    "\n",
    "$\\mathbf{v}_A=\\mathbf{v}_P+\\omega\\times\\mathbf{r}_{A/P}$\n",
    "\n",
    "\n",
    "Notera att $\\omega$ är vinkelhastigheten för skivan och $\\omega_{AB}$ är vinkelhastigheten för stången. Skivans vinkelhastighet är given: $\\omega=4\\hat{z}$ (rad/s)."
   ]
  },
  {
   "cell_type": "markdown",
   "metadata": {},
   "source": [
    "## Vektorer och vinkelhastigheter\n",
    "\n",
    "Från uppgiftsbeskrivningen vet vi att diametern på skivan $d=1$ m och stavens längd $l=1$ m. Vi kan även införa radien $r=d/2$ för enkel notation.\n",
    "\n",
    "Vi kan då skriva relevanta vektorer som \n",
    "\n",
    "$\\mathbf{r}_{A/B} = -\\sqrt{l^2-r^2} \\hat{x} + r \\hat{y}$ \n",
    "\n",
    "$\\mathbf{r}_{A/P} = r \\hat{x} + r \\hat{y}$\n",
    "\n",
    "och ansätta stavens vinkelhastighet $\\omega_{AB}=\\omega_{AB} \\hat{z}$.\n",
    "\n",
    "\n"
   ]
  },
  {
   "cell_type": "markdown",
   "metadata": {},
   "source": [
    "## Beräkning\n",
    "\n",
    "Genom att kombinera de två uttrycken för $\\mathbf{v}_A$ \n",
    "\n",
    "$\\mathbf{v}_A = \\mathbf{v}_B + \\omega_{AB}\\times\\mathbf{r}_{A/B}$ **(I)**\n",
    "\n",
    "$\\mathbf{v}_A=\\mathbf{v}_P+\\omega\\times\\mathbf{r}_{A/P}$  **(II)**\n",
    "\n",
    "kan vi beräkna $\\omega_{AB}$ och $\\mathbf{v}_B$. Från **(II)** fås\n",
    "\n",
    "$\\mathbf{v}_A=0+(\\omega \\hat{z})\\times(r \\hat{x} + r \\hat{y}) = \\begin{vmatrix}\n",
    "&\\hat{x}&&\\hat{y}&&\\hat{z}&\\\\\n",
    "\\\\\n",
    "& 0  && 0 && \\omega &\\\\\n",
    "\\\\\n",
    "& r && r && 0 &\\\\\n",
    "\\end{vmatrix} = -r\\omega \\hat{x} + r\\omega \\hat{y}$  \n",
    "\n",
    "Från **(I)** får vi  \n",
    "\n",
    "$\\mathbf{v}_A = -r\\omega \\hat{x} + r\\omega \\hat{y} = \\mathbf{v}_B + (\\omega_{AB}\\hat{z})\\times (-\\sqrt{l^2-r^2} \\hat{x} + r \\hat{y}) = \\mathbf{v}_B  + \\begin{vmatrix}\n",
    "&\\hat{x}&&\\hat{y}&&\\hat{z}&\\\\\n",
    "\\\\\n",
    "& 0  && 0 && \\omega_{AB} &\\\\\n",
    "\\\\\n",
    "& -\\sqrt{l^2-r^2} && r && 0 &\\\\\n",
    "\\end{vmatrix} = \\\\\n",
    "= \\mathbf{v}_B - r\\omega_{AB} \\hat{x} - \\sqrt{l^2-r^2}\\omega_{AB}\\hat{y}$\n",
    "\n",
    "De två olika uttrycken för $\\mathbf{v}_A$ måste stämma överens vilket ger att\n",
    "\n",
    "$-r\\omega \\hat{x} + r\\omega \\hat{y} = \\mathbf{v}_B - r\\omega_{AB} \\hat{x} - \\sqrt{l^2-r^2}\\omega_{AB}\\hat{y}$ **(III)**\n",
    "\n",
    "För att kunna lösa ekvationen ovan behöver riktningen för $\\mathbf{v}_B$ vara känd. Eftersom vi vet från uppgiften att $B$ släpar i marken vet vi också att $\\mathbf{v}_B$ måste ligga enbart i x-led, d.v.s. $\\mathbf{v}_B=v_B  \\hat{x}$. Insatt i **(III)** har vi då \n",
    "\n",
    "$-r\\omega \\hat{x} + r\\omega \\hat{y} = v_B\\hat{x} - r\\omega_{AB} \\hat{x} - \\sqrt{l^2-r^2}\\omega_{AB}\\hat{y}$ \n",
    "\n",
    "Delar vi upp ekvationen ovan i x- och y-led får vi \n",
    "\n",
    "$\\hat{x} : -r\\omega= v_B - r\\omega_{AB}$ \n",
    "\n",
    "$\\hat{y} : r\\omega= -\\sqrt{l^2-r^2}\\omega_{AB}$ \n",
    "\n",
    "Vilket ger  \n",
    " \n",
    "$\\omega_{AB}=-\\frac{r\\omega}{\\sqrt{l^2-r^2}}$ (rad/s)\n",
    "\n",
    "$v_B = r\\omega_{AB}-r\\omega = -r \\frac{r\\omega}{\\sqrt{l^2-r^2}} - r\\omega = - r (\\frac{\\omega}{\\sqrt{l^2-r^2}} + \\omega)$  (m/s)\n",
    "\n"
   ]
  },
  {
   "cell_type": "markdown",
   "metadata": {},
   "source": [
    "## Svar\n",
    "\n",
    "Med insatta värden blir $\\omega_{AB}=-2.31$ (rad/s) och $\\mathbf{v}_B=-3.15\\hat{x}$ (m/s)"
   ]
  }
 ],
 "metadata": {
  "celltoolbar": "Raw Cell Format",
  "kernelspec": {
   "display_name": "Python 3",
   "language": "python",
   "name": "python3"
  },
  "language_info": {
   "codemirror_mode": {
    "name": "ipython",
    "version": 3
   },
   "file_extension": ".py",
   "mimetype": "text/x-python",
   "name": "python",
   "nbconvert_exporter": "python",
   "pygments_lexer": "ipython3",
   "version": "3.7.7"
  }
 },
 "nbformat": 4,
 "nbformat_minor": 2
}
