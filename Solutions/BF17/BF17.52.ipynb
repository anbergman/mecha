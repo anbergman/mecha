{
 "cells": [
  {
   "cell_type": "markdown",
   "metadata": {},
   "source": [
    "# Mekanik II, problem 17.52\n"
   ]
  },
  {
   "cell_type": "markdown",
   "metadata": {},
   "source": [
    "An athlete exercises his arm by raising the mass m. The shoulder joint A is stationary. The distance $r_{AB}$ is 300 mm, and the distance $r_{BC}$ is 400 mm. At the instant shown, $\\omega_{AB}$ = 1 rad/s and $\\omega_{BC}$ = 2 rad/s. How fast is the mass m rising?\n",
    "\n",
    "![GymBild](./BF17_52a.png)\n"
   ]
  },
  {
   "cell_type": "markdown",
   "metadata": {},
   "source": [
    "# Lösning:"
   ]
  },
  {
   "cell_type": "markdown",
   "metadata": {},
   "source": [
    "## Resonemang\n",
    "\n",
    "Trots att det inte finns någon rullande kropp i detta problem kan vi fortfarande använda sambanden för relativ rörelse för stela kroppar. Vi kan här se sträckan $AB$ som en stel kropp och $BC$ som en annan. Då kan vi använda \n",
    "\n",
    "$\\mathbf{v}_B = \\mathbf{v}_A + \\omega_{AB}\\times\\mathbf{r}_{B/A}$\n",
    "\n",
    "$\\mathbf{v}_C = \\mathbf{v}_B + \\omega_{BC}\\times\\mathbf{r}_{C/B}$\n",
    "\n",
    "för att bestäma hastigheten $\\mathbf{v}_C$ för punkten $C$. Vet vi $\\mathbf{v}_C$ kan vi bestämma hastigheten för massan $m$ som den komponent av $\\mathbf{v}_C$ som är parallel med snöret.\n",
    "\n",
    "I den här uppgiften får vi alltså anta att snöret som massan sitter i rör sig i den riktning den ursprungligen har. Efter en ändlig tid skulle ju $C$ röra sig och vinkeln på snöret skulle då förändras."
   ]
  },
  {
   "cell_type": "markdown",
   "metadata": {},
   "source": [
    "## Vektorer och vinkelhastigheter\n",
    "\n",
    "Vinkelhastigheterna är här givna så det vi behöver veta för att räkna ut de relativa hastigheterna är \n",
    "\n",
    "$\\mathbf{r}_{B/A}=r_{AB} \\hat{x}$\n",
    "\n",
    "$\\mathbf{r}_{C/B}=r_{BC} \\cos 60 \\hat{x} + r_{BC} \\sin 60 \\hat{x}$\n",
    "\n",
    "Vi behöver även ett uttryck för riktningen $\\hat{e}_s$ för snöret.\n",
    "\n",
    "$\\hat{e}_s = - \\cos 30 \\hat{x} + \\sin 30 \\hat{y}$\n"
   ]
  },
  {
   "cell_type": "markdown",
   "metadata": {},
   "source": [
    "## Beräkning\n",
    "\n",
    "Med uttrycken för vektorerna kända kan vi räkna ut \n",
    "\n",
    "$\\mathbf{v}_B = \\mathbf{v}_A + \\omega_{AB}\\times\\mathbf{r}_{B/A} = 0 +  \\begin{vmatrix}\n",
    "&\\hat{x}&&\\hat{y}&&\\hat{z}&\\\\\n",
    "\\\\\n",
    "& 0  && 0 && \\omega_{AB} &\\\\\n",
    "\\\\\n",
    "& r_{AB} && 0 && 0 &\\\\\n",
    "\\end{vmatrix} = r_{AB} \\omega_{AB} \\hat{y}$  \n",
    "\n",
    "som kan sättas in i \n",
    "\n",
    "$\\mathbf{v}_C = \\mathbf{v}_B + \\omega_{BC}\\times\\mathbf{r}_{C/B} = r_{AB} \\omega_{AB} \\hat{y} + \\begin{vmatrix}\n",
    "&\\hat{x}&&\\hat{y}&&\\hat{z}&\\\\\n",
    "\\\\\n",
    "& 0  && 0 && \\omega_{BC} &\\\\\n",
    "\\\\\n",
    "& r_{BC}\\cos 60  && r_{BC}\\sin 60 && 0 &\\\\\n",
    "\\end{vmatrix} = \\\\\n",
    "= r_{AB} \\omega_{AB} \\hat{y} - r_{BC}\\omega_{BC}\\sin 60 \\hat{x} + r_{BC}\\omega_{BC}\\cos 60 \\hat{y} =  \\\\\n",
    "= - r_{BC}\\omega_{BC}\\sin 60 \\hat{x} + (r_{AB} \\omega_{AB} + r_{BC}\\omega_{BC}\\cos 60 )\\hat{y}$\n",
    "\n",
    "Sedan tar vi skalärprodukten mellan $\\mathbf{v}_C$ och $\\hat{e}_s$ för att få hastigheten $v_m$ för snöret och därmed massan\n",
    "\n",
    "$v_m=\\mathbf{v}_C \\cdot \\hat{e}_s = (- r_{BC}\\omega_{BC}\\sin 60 \\hat{x} + (r_{AB} \\omega_{AB} + r_{BC}\\omega_{BC}\\cos 60 )\\hat{y}) \\cdot (- \\cos 30 \\hat{x} + \\sin 30 \\hat{y}) = \\\\ = r_{BC}\\omega_{BC}\\sin 60 \\cos 30  + r_{AB} \\omega_{AB}\\sin 30  + r_{BC}\\omega_{BC}\\cos 60 \\sin 30$\n"
   ]
  },
  {
   "cell_type": "markdown",
   "metadata": {},
   "source": [
    "## Svar\n",
    "\n",
    "Med insatta värden blir massans hastighet $v_m=0.9$ m/s och hastigheten $\\mathbf{v}_C=-0.69\\hat{x} +   0.70 \\hat{y}$ m/s."
   ]
  }
 ],
 "metadata": {
  "celltoolbar": "Raw Cell Format",
  "kernelspec": {
   "display_name": "Python 3",
   "language": "python",
   "name": "python3"
  },
  "language_info": {
   "codemirror_mode": {
    "name": "ipython",
    "version": 3
   },
   "file_extension": ".py",
   "mimetype": "text/x-python",
   "name": "python",
   "nbconvert_exporter": "python",
   "pygments_lexer": "ipython3",
   "version": "3.7.7"
  }
 },
 "nbformat": 4,
 "nbformat_minor": 2
}
