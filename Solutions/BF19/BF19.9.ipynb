{
 "cells": [
  {
   "cell_type": "markdown",
   "metadata": {},
   "source": [
    "# Mekanik II, problem 19.9"
   ]
  },
  {
   "cell_type": "markdown",
   "metadata": {},
   "source": [
    "The 20-N bar is released from rest in the horizontal position 1 and falls to position 2. In addition to the force exerted on it by its weight, it is subjected to a constant counterclockwise couple M = 30 N-m. Determine the bar’s counterclockwise angular velocity in position 2.\n",
    "\n",
    "![Stav](./BF19_9.png)\n",
    "\n"
   ]
  },
  {
   "cell_type": "markdown",
   "metadata": {},
   "source": [
    "# Lösning:"
   ]
  },
  {
   "cell_type": "markdown",
   "metadata": {},
   "source": [
    "## Fysikaliska samband\n",
    "\n",
    "Stången kommer rotera kring den fixerade änden. Den kommer påverkas av gravitationskraften, ett kraftmoment och normalkraften i upphängningspunkten. För att bestämma vinkelhastigheten $\\omega$ som söks kan man använda kraft- och momentanalys tillsammans med Euler I och II. \n",
    "Här kan vi även konstatera att de enda krafterna som utför ett arbete på stången är tyngdkraften $m\\mathbf{g}$ och kraftmomentet $M$. Därför kan vi även lösa systemet genom att analysera dess energi.\n",
    "\n",
    "Om staven har längd $l$ och nedhängningsvinkeln är $\\theta$ kan stavens masscentrums position skrivas som $\\mathbf{r}=-l/2 \\cos \\theta \\hat{x} -l/2 \\sin \\theta \\hat{y}$ i ett koordinatsystem med y uppåt och x till höger. "
   ]
  },
  {
   "cell_type": "markdown",
   "metadata": {},
   "source": [
    "## Arbete och energi \n",
    "\n",
    "Sambandet för arbete och energi kan skrivas som \n",
    "\n",
    "$T_1 + V_1 + U_{12} = T_2 + V_2$ **(I)**\n",
    "\n",
    "där $T$ betyder rörelseenergi, $V$ potentiell energi och $U$ det arbete av icke-konservativa krafter som utför ett arbete på kroppen. \n",
    "\n",
    "För läge 1 har vi \n",
    "\n",
    "$T_1=0$ (stången släpps från vila)\n",
    "\n",
    "$V_1=0$ (Sätter nollnivån för gravitationsenergin här)\n",
    "\n",
    "och för läge två får vi då\n",
    "\n",
    "$T_2=\\frac{I\\omega^2}{2}$ (Om vi ser rörelsen som en ren rotationsrörelse kring upphängningspunkten)\n",
    "\n",
    "$V_2=-\\frac{mg l}{2} \\sin \\theta$ (Stångens masscentrums förflyttning i y-led från läge 1)\n",
    "\n",
    "Arbetet utförs här av ett kraftmoment vilket skrivs $U_{12}=M\\theta$.\n",
    "\n",
    "Tröghetsmomentet för stången fås från lämplig tabell $I=\\frac{ml^2}{3}$ (för rotation kring änden, inte masscentrum)."
   ]
  },
  {
   "attachments": {},
   "cell_type": "markdown",
   "metadata": {},
   "source": [
    "## Beräkning\n",
    "\n",
    "Sätter vi in alla termer och beteckningar i **(I)** får vi\n",
    "\n",
    "$$\n",
    "\\begin{align}\n",
    "0 + 0 + M\\theta &= \\frac{I\\omega^2}{2} - \\frac{mg l}{2} \\sin \\theta \\\\\n",
    "M\\theta &= \\frac{ml^2}{3}\\frac{\\omega^2}{2} - \\frac{mg l}{2} \\sin \\theta \\\\\n",
    "\\omega^2 &= (M\\theta + \\frac{mg l}{2} \\sin \\theta) \\bigg / \\frac{ml^2}{6} \\\\\n",
    "\\omega &= \\sqrt{\\frac{6 M\\theta + 3mg l \\sin \\theta}{ml^2} }\n",
    "\\end{align}\n",
    "$$"
   ]
  },
  {
   "cell_type": "markdown",
   "metadata": {},
   "source": [
    "## Svar\n",
    "Med insatta värden blir $\\omega=2.93$ rad/s.\n",
    "\n",
    "**OBS!** Tänk på att vinkeln alltid måste anges i radianer vid alla rotationsrörelser (momentarbete, rullvillkor osv)."
   ]
  },
  {
   "cell_type": "markdown",
   "metadata": {},
   "source": [
    "## Analys\n",
    "Eftersom det bara är tyngdkraften och normalkraften som verkar på detta system måste normalkraften motverka tyngdkraften så att stången inte faller nedåt (den har ändå en viss acceleration nedåt pga cirkelrörelsen hos masscentrum) men också accelerera stången åt höger för att rotationen ska kunna ske. Att $\\mathbf{N}$ därför är positiv i både x- och y-led är därför rimligt.\n",
    "\n",
    "Det hade gått att välja masscentrum som momentpunkt för Euler II men det är tveksamt om det hade underlättat."
   ]
  },
  {
   "cell_type": "markdown",
   "metadata": {},
   "source": [
    "## Kommentar\n",
    "\n",
    "Rörelseenergin uttrycktes här helt som en rotationsenergi $T=\\frac{I\\omega^2}{2}$. \n",
    "Det går också att skriva rörelseenergin som en kombination av translationsenergi och rotationsenergi \n",
    "$T=\\frac{mv^2}{2}+\\frac{I_0\\omega}{2}$ där $v$ är masscentrums hastighet och $I_0$ tröghetsmomentet kring masscentrum. Rullvillkor ger att $v=\\omega\\frac{l}{2}$ och tabell att $I_0=\\frac{ml^2}{12}$ dvs $T=\\frac{ml^2\\omega^2}{8}+\\frac{ml^2\\omega^2}{24}=\\frac{ml^2\\omega^2}{6}=\\frac{I\\omega^2}{3}$ vilket ger samma rörelseenergi som om man såg rörelsen som en ren rotation kring den fixa änden. "
   ]
  },
  {
   "cell_type": "markdown",
   "metadata": {},
   "source": [
    "**Beräkning med insatta värden:**"
   ]
  },
  {
   "cell_type": "code",
   "execution_count": 1,
   "metadata": {},
   "outputs": [],
   "source": [
    "from ipywidgets import interact, interactive\n",
    "from ipywidgets import FloatSlider\n",
    "import numpy as np\n",
    "from IPython.display import HTML\n",
    "\n"
   ]
  },
  {
   "cell_type": "code",
   "execution_count": 2,
   "metadata": {},
   "outputs": [
    {
     "data": {
      "text/html": [
       "<script>\n",
       "code_show=true; \n",
       "function code_toggle() {\n",
       " if (code_show){\n",
       " $('div.input').hide();\n",
       " } else {\n",
       " $('div.input').show();\n",
       " }\n",
       " code_show = !code_show\n",
       "} \n",
       "$( document ).ready(code_toggle);\n",
       "</script>\n",
       "<form action=\"javascript:code_toggle()\"><input type=\"submit\" value=\"Tryck här för att dölja/visa koden.\"></form>"
      ],
      "text/plain": [
       "<IPython.core.display.HTML object>"
      ]
     },
     "execution_count": 2,
     "metadata": {},
     "output_type": "execute_result"
    }
   ],
   "source": [
    "HTML('''<script>\n",
    "code_show=true; \n",
    "function code_toggle() {\n",
    " if (code_show){\n",
    " $('div.input').hide();\n",
    " } else {\n",
    " $('div.input').show();\n",
    " }\n",
    " code_show = !code_show\n",
    "} \n",
    "$( document ).ready(code_toggle);\n",
    "</script>\n",
    "<form action=\"javascript:code_toggle()\"><input type=\"submit\" value=\"Tryck här för att dölja/visa koden.\"></form>''')"
   ]
  },
  {
   "cell_type": "code",
   "execution_count": 3,
   "metadata": {},
   "outputs": [],
   "source": [
    "# Set parameters according to exercise description\n",
    "\n",
    "g = 9.81  # acceleration due to gravity, in m/s^2\n",
    "\n",
    "l = 4\n",
    "mg=20\n",
    "m=mg/g\n",
    "theta=40\n",
    "Mom=30\n"
   ]
  },
  {
   "cell_type": "code",
   "execution_count": 4,
   "metadata": {},
   "outputs": [],
   "source": [
    "def e_19_9(g,l,mg,theta,Mom):\n",
    "\n",
    "\n",
    "    the=theta*np.pi/180.0\n",
    "    omega=np.sqrt((6*mg/g*the+3*mg*l*np.sin(the))/(mg/g*l**2))\n",
    "    \n",
    "    print(\"Vinkelhastigheten = \",'{:5.3f}'.format(omega),\"rad/s\")\n",
    "    print(\"Vinkel = \",'{:5.3f}'.format(theta),\"$^o$\")\n",
    "\n",
    "    return omega"
   ]
  },
  {
   "cell_type": "code",
   "execution_count": 5,
   "metadata": {},
   "outputs": [
    {
     "data": {
      "application/vnd.jupyter.widget-view+json": {
       "model_id": "3f53adef2bbe488dad1cabdc21f0a503",
       "version_major": 2,
       "version_minor": 0
      },
      "text/plain": [
       "interactive(children=(FloatSlider(value=9.81, description='g', max=10.0, min=9.0), FloatSlider(value=4.0, desc…"
      ]
     },
     "metadata": {},
     "output_type": "display_data"
    }
   ],
   "source": [
    "s_19_9=interactive(e_19_9, \n",
    "              g=FloatSlider(min=9.0,max=10.0,value=9.81),\n",
    "              l=FloatSlider(min=0.0,max=8,value=4.0),\n",
    "              mg=FloatSlider(min=10.0,max=30,value=20.0,step=0.1),\n",
    "              theta=FloatSlider(min=0.0,max=90.0,value=40,step=1),\n",
    "              Mom=FloatSlider(min=0.0,max=100,value=30,step=0.1),)\n",
    "display(s_19_9)"
   ]
  },
  {
   "cell_type": "code",
   "execution_count": null,
   "metadata": {},
   "outputs": [],
   "source": []
  }
 ],
 "metadata": {
  "celltoolbar": "Tags",
  "kernelspec": {
   "display_name": "Python 3",
   "language": "python",
   "name": "python3"
  },
  "language_info": {
   "codemirror_mode": {
    "name": "ipython",
    "version": 3
   },
   "file_extension": ".py",
   "mimetype": "text/x-python",
   "name": "python",
   "nbconvert_exporter": "python",
   "pygments_lexer": "ipython3",
   "version": "3.7.7"
  }
 },
 "nbformat": 4,
 "nbformat_minor": 2
}
