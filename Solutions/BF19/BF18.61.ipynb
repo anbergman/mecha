{
 "cells": [
  {
   "cell_type": "markdown",
   "metadata": {},
   "source": [
    "## Mekanik II, problem 18.61"
   ]
  },
  {
   "cell_type": "markdown",
   "metadata": {},
   "source": [
    "The combined mass of the motorcycle and rider is 160 kg. Each 9-kg wheel has a 330-mm radius and a moment of inertia I = 0.8 kg-m2. The engine drives the rear wheel by exerting a couple on it. If the rear wheel exerts a 400-N horizontal force on the road and you do not neglect the horizontal force exerted on the road by the front wheel, determine \n",
    "\n",
    "(a) the motorcycle’s acceleration and \n",
    "\n",
    "(b) the normal forces exerted on the road by the rear and front wheels. \n",
    "\n",
    "\n",
    "![MC](./BF18_61.png)\n",
    "\n",
    "(The location of the center of mass of the motorcycle not including its wheels, is shown.)\n",
    "\n",
    "\n"
   ]
  },
  {
   "cell_type": "markdown",
   "metadata": {},
   "source": [
    "# Lösning:"
   ]
  },
  {
   "cell_type": "markdown",
   "metadata": {},
   "source": [
    "## Friläggning och beteckningar\n",
    "\n",
    "Vi börjar med att frilägga det förenklade systemet och införa relevanta beteckningar.\n",
    "\n",
    "![FSkiva](./BF18_61a.png)\n",
    "\n",
    "Här är bakhjulet $A$, framhjulet $B$ och MC+förare uppdelade. Krafterna $F_A$, $F_B$, $N_A$ och $N_B$ är kontaktkrafterna mellan de tre olika kropparna. De krafter som verkar på bakhjulet är  \n",
    "\n",
    "$$\n",
    "\\begin{align}\n",
    "m_h\\mathbf{g} &=-m_h g\\hat{y} \\\\\n",
    "\\mathbf{f}_A &= f_A \\hat{x}\\\\\n",
    "\\mathbf{N}_A &= -N_A\\hat{y} \\\\\n",
    "\\mathbf{F}_A &= -F_A\\hat{x} \\\\\n",
    "\\mathbf{N_{AM}} &= N_{AM} \\hat{y}\n",
    "\\end{align}\n",
    "$$ \n",
    "\n",
    "Krafterna på framhjulet är \n",
    "\n",
    "$$\n",
    "\\begin{align}\n",
    "m_h\\mathbf{g} &=-m_h g\\hat{y} \\\\\n",
    "\\mathbf{f}_B &= -f_B \\hat{x}\\\\\n",
    "\\mathbf{N}_B &= -N_B\\hat{y} \\\\\n",
    "\\mathbf{F}_B &= F_B\\hat{x} \\\\\n",
    "\\mathbf{N_{BM}} &= N_{BM} \\hat{y}\n",
    "\\end{align}\n",
    "$$\n",
    "\n",
    "Krafterna på MCn är\n",
    "\n",
    "$$\n",
    "\\begin{align}\n",
    "m_c\\mathbf{g} &=-m_c g\\hat{y} \\\\\n",
    "\\mathbf{N}_A &= N_A\\hat{y} \\\\\n",
    "\\mathbf{N}_B &= N_B\\hat{y} \\\\\n",
    "\\mathbf{F}_A &= F_A\\hat{x} \\\\\n",
    "\\mathbf{F}_B &= -F_B\\hat{x} \\\\\n",
    "\\end{align}\n",
    "$$\n",
    "\n",
    "Storheter givna från uppgiften:\n",
    "\n",
    "$m_c$ = 160 kg\n",
    "\n",
    "$m_h$ = 9 kg\n",
    "\n",
    "Hjulens radie, $r$ = 0.330 m\n",
    "\n",
    "Tröghetsmoment I = 0.8 $kgm^2$ per hjul \n",
    "\n",
    "Motorn verkar med kraftparet $M$ på bakhjulet.\n",
    "\n",
    "Friktionskraften $f_A$ = 400 N\n",
    "\n",
    "Cyklens masscentrum räknat från bakhjulets kontaktpunkt med marken (l, h) = (0.649,0.723) m \n",
    "\n",
    "Avståndet mellan hjulen b = 1.500 m\n",
    "\n",
    "d = h − r = 0.393 m\n",
    "\n",
    "e = b − l = 0.851 m"
   ]
  },
  {
   "cell_type": "markdown",
   "metadata": {},
   "source": [
    "## Fysikaliska samband\n",
    "\n",
    "Motorcykeln drivs av ett kraftpar som ger kraftmomentet $M$. För att bestämma accelerationen $a$ och normalkrafterna $N_{AM}$ och $N_{BM}$ behöver vi använda Euler I och Euler II på de individuella delsystemen och sammankoppla dem med kinematiska tvångsvillkor.\n",
    "\n",
    "Angående rotationer och tvångsvillkor så gäller rullvillkor för hjulen, motorcykeln har ingen vinkelacceleration och alla tre delsystemen har samma acceleration $a$. Hjulen har då samma ändliga vinkelacceleration $\\alpha$"
   ]
  },
  {
   "cell_type": "markdown",
   "metadata": {},
   "source": [
    "## Kraft- och momentanalys: Euler I och II\n",
    "\n",
    "#### Bakhjulet\n",
    "Euler I för bakhjulet:\n",
    "\n",
    "$\\sum \\mathbf{F} = \\mathbf{f}_A + \\mathbf{N}_A + \\mathbf{F}_A + m_h\\mathbf{g} + \\mathbf{N}_{AM}$\n",
    "\n",
    "vilket i komponentform ger\n",
    "\n",
    "$\\hat{x}:  f_A - F_A = m_h a$ **(I)**\n",
    "\n",
    "$\\hat{y}: N_{AM}-m_hg-N_A = 0 $  **(II)**\n",
    "\n",
    "Euler II för bakhjulet, kring navet:\n",
    "\n",
    "$\\hat{z}: -M + f_A r = I \\alpha$ **(III)**\n",
    "\n",
    "Rullvillkor:\n",
    "\n",
    "$a=-r\\alpha$ **(IV)**\n",
    "\n",
    "\n",
    "\n",
    "#### Motorcykeln\n",
    "\n",
    "Euler I för motorcykeln utan hjul:\n",
    "\n",
    "$\\hat{x}:  F_A - F_b = m_c a$ **(V)**\n",
    "\n",
    "$\\hat{y}: N_A+N_B-m_c g = 0 $  **(VI)**\n",
    "\n",
    "Euler II för motorcykeln utan hjul, kring masscentrum $C$:\n",
    "\n",
    "$\\hat{z}: M + N_B e - N_A l + F_A d - F_B d = 0$ **(VII)**\n",
    "\n",
    "\n",
    "#### Framhjulet\n",
    "\n",
    "Euler I för framhjulet:\n",
    "\n",
    "$\\hat{x}:  F_B - f_b = m_h a$ **(VIII)**\n",
    "\n",
    "$\\hat{y}: N_{BM}-m_hg-N_B = 0 $  **(IX)**\n",
    "\n",
    "Euler II för framhjulet, kring navet:\n",
    "\n",
    "$\\hat{z}: -f_B r = I \\alpha$ **(X)**\n"
   ]
  },
  {
   "cell_type": "markdown",
   "metadata": {},
   "source": [
    "## Ekvationslösning\n",
    "\n",
    "#### Accelerationen a\n",
    "\n",
    "\n",
    "Från **(I)**, **(III)**, **(V)**, **(VIII)** och **(X)** fås\n",
    "\n",
    "$$\n",
    "\\begin{align}\n",
    "M   &= f_A r + f_B r \\\\\n",
    "f_B &= F_B-m_h a \\\\\n",
    "F_B &= F_A-m_ca \\\\\n",
    "F_A &= f_A-m_h a\n",
    "\\end{align}\n",
    "$$\n",
    "\n",
    "som kan kombineras till \n",
    "\n",
    "$$\n",
    "\\begin{align}\n",
    "M   &= f_A r + (f_A-m_h a-m_ca-m_h a) r \\\\\n",
    "M   &= 2f_A r - a(2 m_h  + m_c) r \\\\\n",
    "\\end{align}\n",
    "$$\n",
    "\n",
    "Från **(III)** och **(IV)** och ekvationen ovan fås\n",
    "$$\n",
    "\\begin{align}\n",
    "-M + f_A r &= I\\alpha = -\\frac{Ia}{r} \\\\ \n",
    "-2f_A r + a(2 m_h  + m_c) r + f_A r &= I\\alpha = -\\frac{Ia}{r} \\\\\n",
    "f_A r - a(2 m_h  + m_c) r  &= \\frac{Ia}{r}  \\\\\n",
    "\\frac{Ia}{r^2}+ a(2 m_h  + m_c)   &=  f_A   \\\\\n",
    "a&=\\frac{f_A}{\\frac{I}{r^2}+ 2 m_h  + m_c}\n",
    "\\end{align}\n",
    "$$\n",
    "\n",
    "Med insatta värden fås att $a\\approx 2.16 m/s^2$ och $M\\approx 132 Nm$.\n",
    "\n",
    "#### Normalkrafterna\n",
    "\n",
    "Från **(V)**, **(VI)**, och **(VII)** fås\n",
    "\n",
    "$M + N_Be − N_Al + m_c a d = 0$\n",
    "\n",
    "$N_A =m_c g − N_B$\n",
    "\n",
    "$N_B e − (m_c g − N_B)l = −M − m_c a d$\n",
    "\n",
    "$N_B = \\frac{1}{e-l}(−M − m_c a d + m_c g l)$\n",
    "\n",
    "som kombineras med **(IX)** för \n",
    "\n",
    "$N_{BM} = \\frac{1}{e-l}(−M−m_c a d+m_c g l)+m_h g \\approx$ 590 N\n",
    "\n",
    "$N_{AM} =m_c g−N_B+m_h g\\approx 1160$ N\n"
   ]
  },
  {
   "cell_type": "markdown",
   "metadata": {},
   "source": [
    "**Beräkning med insatta värden:**"
   ]
  },
  {
   "cell_type": "code",
   "execution_count": 1,
   "metadata": {},
   "outputs": [],
   "source": [
    "from ipywidgets import interact, interactive\n",
    "from ipywidgets import FloatSlider\n",
    "import numpy as np\n",
    "from IPython.display import HTML\n",
    "\n"
   ]
  },
  {
   "cell_type": "code",
   "execution_count": 2,
   "metadata": {},
   "outputs": [
    {
     "data": {
      "text/html": [
       "<script>\n",
       "code_show=true; \n",
       "function code_toggle() {\n",
       " if (code_show){\n",
       " $('div.input').hide();\n",
       " } else {\n",
       " $('div.input').show();\n",
       " }\n",
       " code_show = !code_show\n",
       "} \n",
       "$( document ).ready(code_toggle);\n",
       "</script>\n",
       "<form action=\"javascript:code_toggle()\"><input type=\"submit\" value=\"Tryck här för att dölja/visa koden.\"></form>"
      ],
      "text/plain": [
       "<IPython.core.display.HTML object>"
      ]
     },
     "execution_count": 2,
     "metadata": {},
     "output_type": "execute_result"
    }
   ],
   "source": [
    "HTML('''<script>\n",
    "code_show=true; \n",
    "function code_toggle() {\n",
    " if (code_show){\n",
    " $('div.input').hide();\n",
    " } else {\n",
    " $('div.input').show();\n",
    " }\n",
    " code_show = !code_show\n",
    "} \n",
    "$( document ).ready(code_toggle);\n",
    "</script>\n",
    "<form action=\"javascript:code_toggle()\"><input type=\"submit\" value=\"Tryck här för att dölja/visa koden.\"></form>''')"
   ]
  },
  {
   "cell_type": "code",
   "execution_count": 3,
   "metadata": {},
   "outputs": [],
   "source": [
    "# Set parameters according to exercise description\n",
    "\n",
    "g = 9.81  # acceleration due to gravity, in m/s^2\n",
    "l = 0.91\n",
    "mg=178\n",
    "r=0.1016\n",
    "I=0.27\n"
   ]
  },
  {
   "cell_type": "code",
   "execution_count": 4,
   "metadata": {},
   "outputs": [],
   "source": [
    "def e_18_35(g,l,mg,r,I):\n",
    "\n",
    "    m=mg/g\n",
    "    t=np.sqrt(2*l/g*(1+I/(m*r*r)))\n",
    "\n",
    "    print(\"Falltiden t = \",'{:5.3f}'.format(t),\"s\")\n",
    "\n",
    "    return t"
   ]
  },
  {
   "cell_type": "code",
   "execution_count": 5,
   "metadata": {},
   "outputs": [
    {
     "data": {
      "application/vnd.jupyter.widget-view+json": {
       "model_id": "ae4c286d84ca407db04bbdde435f6101",
       "version_major": 2,
       "version_minor": 0
      },
      "text/plain": [
       "interactive(children=(FloatSlider(value=9.81, description='g', max=10.0, min=9.0), FloatSlider(value=0.91, des…"
      ]
     },
     "metadata": {},
     "output_type": "display_data"
    }
   ],
   "source": [
    "s_18_35=interactive(e_18_35, \n",
    "              g=FloatSlider(min=9.0,max=10.0,value=9.81),\n",
    "              l=FloatSlider(min=0.0,max=3,value=0.91),\n",
    "              mg=FloatSlider(min=0.0,max=300,value=178),\n",
    "              r=FloatSlider(min=0.0000,max=0.3000,value=0.1016,step=0.0001),\n",
    "              I=FloatSlider(min=0.0,max=1,value=0.27,step=0.01))\n",
    "display(s_18_35)"
   ]
  }
 ],
 "metadata": {
  "celltoolbar": "Tags",
  "kernelspec": {
   "display_name": "Python 3",
   "language": "python",
   "name": "python3"
  },
  "language_info": {
   "codemirror_mode": {
    "name": "ipython",
    "version": 3
   },
   "file_extension": ".py",
   "mimetype": "text/x-python",
   "name": "python",
   "nbconvert_exporter": "python",
   "pygments_lexer": "ipython3",
   "version": "3.7.7"
  }
 },
 "nbformat": 4,
 "nbformat_minor": 2
}
