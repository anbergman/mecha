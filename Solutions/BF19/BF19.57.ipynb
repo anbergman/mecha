{
 "cells": [
  {
   "cell_type": "markdown",
   "metadata": {},
   "source": [
    "# Mekanik II, problem 19.57"
   ]
  },
  {
   "cell_type": "markdown",
   "metadata": {},
   "source": [
    "The force exerted on the cue ball by the cue is horizontal. Determine the value of h for which the ball rolls without slipping. (Assume that the frictional force exerted on the ball by the table is negligible.)\n",
    "\n",
    "![Stav](./BF19_57.png)\n",
    "\n"
   ]
  },
  {
   "cell_type": "markdown",
   "metadata": {},
   "source": [
    "# Lösning:"
   ]
  },
  {
   "cell_type": "markdown",
   "metadata": {},
   "source": [
    "## Fysikaliska samband\n",
    "\n",
    "Biljardbollen kommer få en kraftimpuls av biljardkön, vilken ändrar bollens rörelsemängd och hastighet. Kontaktkraften från kön kommer även ge en momentimpuls som får bollen att börja rotera.\n",
    "\n",
    "För att få rullning utan glidning gäller det att translations- och rotationsrörelserna stämmer överrens så att ett rullvillkor uppfylls. Systemet börjar i vila så vi kan alltså ställa upp uttrycken för impulsen och momentimpulsen och lösa ut relevanta variabler genom att koppla ihop uttrycken med ett rullvillkor."
   ]
  },
  {
   "cell_type": "markdown",
   "metadata": {},
   "source": [
    "## Kraft- och momentimpuls\n",
    "\n",
    "Om vi antar att kraften från biljardkön är stor och kortvarig kan vi göra en stötapproximation där vi bortser från alla andra krafter (som tyngdkraften) som verkar på systemet. Sambandet för kraftimpuls och förändring av rörelsemängd skrivs då\n",
    "\n",
    "$\\int_0^t \\mathbf{F} dt = \\mathbf{F}\\Delta t = \\Delta\\mathbf{p} = m\\mathbf{v} - m\\mathbf{v}_0 = m\\mathbf{v}$. **(I)**\n",
    "\n",
    "För momentimpuls och rörelsemängdens förändring gäller\n",
    "\n",
    "$\\int_0^t \\mathbf{M} dt = \\mathbf{M}\\Delta t = \\Delta\\mathbf{H} = I\\mathbf{\\omega} - I\\mathbf{\\omega}_0 = I\\mathbf{\\omega}$ **(II)**\n",
    "\n",
    "där $\\mathbf{p}$ betyder rörelsemängd och $\\mathbf{H}$ rörelsemängdsmoment.  \n",
    "\n",
    "Kontaktkraften är okänd så den betecknas som $\\mathbf{F}=-F\\hat{x}$ till att börja med. För momentimpulsen väljer vi att titta på kraftmomentet för masscentrum. Man kan välja en annan punkt, men då tröghetsmomentet $I$ för ett klot med avseende på masscentrum är lätt att hitta tabulerat blir detta ett bra val. Tröghetsmomentet blir då $I=\\frac{2}{5}mr^2$ om klotets massa är $m$ och dess radie $r$.\n",
    "\n",
    "\n",
    "\n",
    "\n",
    "\n"
   ]
  },
  {
   "cell_type": "markdown",
   "metadata": {},
   "source": [
    "## Beräkning och rullvillkor\n",
    "Kön träffar bollen på höjden $h$. Om vi använder ett koordinatsystem med positiv x-axel åt höger i figuren och positiv z-axel ut ur planet blir kraftmomentet kring masscentrum \n",
    "\n",
    "$(h-r)\\hat{y}\\times -F\\hat{x} = (h-r)F\\hat{z}$ **(III)**\n",
    "\n",
    "I samma koordinatsystem motsvarar en positiv hastighet i x-led en negativ rotation i z-led vid rullning. Rullvillkoret blir därför\n",
    "\n",
    "$v=-r\\omega$ **(IV)**\n",
    "\n",
    "Sätter vi in tröghetsmoment och kraftmoment enligt **(III)** i **(II)** fås\n",
    "\n",
    "$$\\begin{align}\n",
    "{M}\\Delta t &= (h-r)F\\Delta t = I\\omega = \\frac{2}{5}mr^2\\omega \\\\\n",
    "F\\Delta t &= I\\omega = \\frac{2mr^2\\omega}{5(h-r)}\n",
    "\\end{align}$$\n",
    "\n",
    "vilket kan jämföras med **(I)**\n",
    "\n",
    "$-F\\Delta t = m{v}$\n",
    "\n",
    "för att ge sambandet \n",
    "$$\n",
    "\\begin{align}\n",
    "\\frac{2mr^2\\omega}{5(h-r)} &= -mv \\\\\n",
    "h-r &= -\\frac{2mr^2\\omega}{5mv} = \\frac{2r^2\\omega}{5r\\omega} \\\\\n",
    "h &= r + \\frac{2r}{5} = \\frac{7}{5}r\n",
    "\\end{align}\n",
    "$$\n"
   ]
  },
  {
   "cell_type": "markdown",
   "metadata": {},
   "source": [
    "## Svar\n",
    "För att biljardbollen ska rulla utan att glida behöver kön träffa bollen på höjden $h=\\frac{7}{5}r$, oavsett storleken på stötkraften $F$.\n"
   ]
  }
 ],
 "metadata": {
  "celltoolbar": "Tags",
  "kernelspec": {
   "display_name": "Python 3 (ipykernel)",
   "language": "python",
   "name": "python3"
  },
  "language_info": {
   "codemirror_mode": {
    "name": "ipython",
    "version": 3
   },
   "file_extension": ".py",
   "mimetype": "text/x-python",
   "name": "python",
   "nbconvert_exporter": "python",
   "pygments_lexer": "ipython3",
   "version": "3.10.14"
  }
 },
 "nbformat": 4,
 "nbformat_minor": 4
}
