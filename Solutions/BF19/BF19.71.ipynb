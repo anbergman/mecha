{
 "cells": [
  {
   "cell_type": "markdown",
   "metadata": {},
   "source": [
    "# Mekanik II, problem 19.71"
   ]
  },
  {
   "cell_type": "markdown",
   "metadata": {},
   "source": [
    "The 2 kg sphere A is moving toward the right at 4 m/s when it strikes the end of the 5 kg slender bar B. \n",
    "Immediately after the impact, the sphere A is moving toward the right at 1 m/s. What is the angular velocity of the bar after the impact?\n",
    "\n",
    "![Stav](./BF19_71.png)\n",
    "\n",
    "Vi inför följande beteckningar: \n",
    "stavens längd $L$=1 m, \n",
    "massorna $m_A$=2 kg, $m_B$=5kg \n",
    "samt bollen As hastigheter före och efter stöt  $v_A^f$=4 m/s,  $v_A^e$=1 m/s.\n",
    "\n",
    "Dessutom använder vi ett koordinatsystem med x åt höger, y nedåt och z in i figuren."
   ]
  },
  {
   "cell_type": "markdown",
   "metadata": {},
   "source": [
    "# Lösning:"
   ]
  },
  {
   "cell_type": "markdown",
   "metadata": {},
   "source": [
    "## Fysikaliska samband\n",
    "\n",
    "När bollen A träffar staven B sker en stöt. Vid stöt bevaras inte energin (förutom elastiska stötar). Eftersom staven B sitter fast i O kommer det uppkomma en stor kraft F mellan stav och upphängning i O och därför kan inte rörelsemängden för systemet A+B antas bevaras.\n",
    "\n",
    "Däremot kan vi anta att rörelsemängdsmomentet för A+B bevaras med avseende på O då den stora men okända kraften F inte bidrar till något kraftmoment med avseende på O. "
   ]
  },
  {
   "cell_type": "markdown",
   "metadata": {},
   "source": [
    "## Rörelsemängdsmoment\n",
    "\n",
    "Om vi gör en stötapproximation enligt resonemanget ovan så kan vi sätta att rörelsemängdsmomentet före stöten (med avseende på O) bara kommer från rörelsen för A och ges av.\n",
    "\n",
    "$\\mathbf{H}_O^{f} =  \\mathbf{r}_{AB}\\times(m_A\\mathbf{v}_A^f  = L\\hat{y} \\times (m_A v_A^f \\hat{x}) = -m_A v_A^f L \\hat{z}$. **(I)**\n",
    "\n",
    "Direkt efter stöten fortsätter A åt höger men med lägre hastighet och B har börjat rotera med vinkelhastigheten $\\mathbf{\\omega}$ vilket ger det sammanlagda rörelsemängdsmomentet\n",
    "\n",
    "$\\mathbf{H}_O^{e} =  \\mathbf{r}_{AB}\\times(m_A\\mathbf{v}_A^e +  \\frac{m_BL^2}{3}\\omega(-\\hat{z}) =  -m_A v_A^r L \\hat{z} -  \\frac{m_BL^2}{3}\\omega\\hat{z}$. **(II)**\n",
    "\n",
    "\n",
    "\n",
    "\n"
   ]
  },
  {
   "cell_type": "markdown",
   "metadata": {},
   "source": [
    "## Beräkning\n",
    "Sätter vi in rörelsemängdsmomenten i **(I)** och **(II)** som lika fås (på skalär form)\n",
    "\n",
    "$m_Av_A^f L = m_A v_A^e L - \\frac{m_B L^2}{3}\\omega$\n",
    "\n",
    "Eftersom det är $\\omega$ som efterfrågas kan den lösas ut som \n",
    "\n",
    "$\\omega = m_A L (v_A^f-v_A^e) \\frac{3}{m_B L^2} = \\frac{3 m_A}{m_B L}(v_A^f-v_A^e)$\n",
    "\n",
    "Med insatta värden fås då $\\omega$ = 3.6 rad/s"
   ]
  },
  {
   "cell_type": "markdown",
   "metadata": {},
   "source": [
    "## Svar\n",
    "Vinkelhastigheten $\\omega$ för staven direkt efter stöten blir $\\omega$=3.6 rad/s."
   ]
  }
 ],
 "metadata": {
  "celltoolbar": "Tags",
  "kernelspec": {
   "display_name": "Python 3 (ipykernel)",
   "language": "python",
   "name": "python3"
  },
  "language_info": {
   "codemirror_mode": {
    "name": "ipython",
    "version": 3
   },
   "file_extension": ".py",
   "mimetype": "text/x-python",
   "name": "python",
   "nbconvert_exporter": "python",
   "pygments_lexer": "ipython3",
   "version": "3.10.14"
  }
 },
 "nbformat": 4,
 "nbformat_minor": 4
}
