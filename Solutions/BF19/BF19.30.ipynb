{
 "cells": [
  {
   "cell_type": "markdown",
   "metadata": {},
   "source": [
    "# Mekanik II, problem 19.30"
   ]
  },
  {
   "cell_type": "markdown",
   "metadata": {},
   "source": [
    "The masses of the bar and disk are 14 kg and 9 kg, respectively. The system is released from rest with the bar horizontal. Determine the angular velocity of the bar when it is vertical if the bar and disk are welded together at A.\n",
    "\n",
    "![Stav](./BF19_30.png)\n",
    "\n"
   ]
  },
  {
   "cell_type": "markdown",
   "metadata": {},
   "source": [
    "# Lösning:"
   ]
  },
  {
   "cell_type": "markdown",
   "metadata": {},
   "source": [
    "## Fysikaliska samband\n",
    "\n",
    "Skivan och stången kommer accelereras nedåt av tyngdkraften. Här sitter skivan fastsvetsad med stången. För att bestämma stångens vinkelhastigheten $\\omega$ som söks kan man använda kraft- och momentanalys tillsammans med Euler I och II. \n",
    "\n",
    "Även om det finns en normalkraft i upphängningspunkten $O$ samt interna kontaktkrafter mellan skivan och stången, ser vi att den enda kraft som utför ett arbete här är $m\\mathbf{g}$. Därför är ett praktiskt tillvägagångssätt här att använda arbete-energisamband i stället för Eulers lagar.\n",
    "\n",
    "Stångens masscentrum sitter på avståndet $d_M=l/2$ från upphängningsunkten och skivas masscentrum på $d_m=l$. \n",
    "\n",
    "Eftersom skivan sitter helt fast i stången kommer skivan rotera med samma vinkelhastighet $\\omega$ som stången."
   ]
  },
  {
   "cell_type": "markdown",
   "metadata": {},
   "source": [
    "## Arbete och energi \n",
    "\n",
    "Sambandet för arbete och energi kan skrivas som \n",
    "\n",
    "$T_1 + V_1 + U_{12} = T_2 + V_2$ **(I)**\n",
    "\n",
    "där $T$ betyder rörelseenergi, $V$ potentiell energi och $U$ det arbete av icke-konservativa krafter som utför ett arbete på kroppen. Här tittar vi på det sammansatta systemet stång+skiva. Vi behöver dock införa de olika kroppornas massor. Här är $m$ skivans massa och $M$ stångens massa. \n",
    "\n",
    "För läge 1, där systemet startar, har vi \n",
    "\n",
    "$T_1=0$ (stång och skiva släpps från vila)\n",
    "\n",
    "$V_1=0$ (Sätter nollnivån för gravitationsenergin här)\n",
    "\n",
    "och för läge två, när stången (och skivan) roterat med en vinkel $\\theta$ får vi då\n",
    "\n",
    "$T_2=\\frac{Mv_M^2}{2}+\\frac{I^M\\omega^2}{2}+\\frac{mv_m^2}{2}+\\frac{I^m\\omega^2}{2}$ \n",
    "\n",
    "$V_2=- Mg d_M \\sin \\theta - mg d_m \\sin \\theta = - (\\frac{M}{2} + m) gl \\sin \\theta$\n",
    "\n",
    "Inget yttre arbete utförs här så $U_{12}=0$.\n",
    "\n",
    "Alternativt kan vi skriva stångens rörelseenergi som en ren rotationsrörelse kring punkten $O$, eftersom den roterar kring en fix punkt. Då får vi \n",
    "\n",
    "$T_2=\\frac{I^M_0\\omega^2}{2}+\\frac{mv_m^2}{2}+\\frac{I^m\\omega^2}{2}$ \n",
    "\n",
    "\n",
    "Tröghetsmomenten för skivan och stången fås från lämplig tabell $I_m^0=\\frac{mR^2}{2}$ och $I_M=\\frac{ml^2}{3}$."
   ]
  },
  {
   "cell_type": "markdown",
   "metadata": {},
   "source": [
    "## Beräkning\n",
    "\n",
    "Sätter vi in alla energibidrag i **(I)** vilket ger\n",
    "\n",
    "$0=\\frac{I^M_0\\omega^2}{2}+\\frac{mv_m^2}{2}+\\frac{I^m\\omega^2}{2} - (\\frac{M}{2} + m) gl \\sin \\theta$ **(II)**\n",
    "\n",
    "för att lösa ut den okända hastigheten för skivans masscentrum $v$ från ekvationen ovan använder vi rullvillkoret $v_m^2=l^2\\omega^2$. Med rullvillkor och tröghetsmoment insatta i ekvation **(II)** ovan får vi då \n",
    "\n",
    "$$\n",
    "\\begin{align}\n",
    "0&=\\frac{Ml^2}{3}\\frac{\\omega^2}{2}+\\frac{ml^2\\omega^2}{2}+\\frac{mr^2}{2}\\frac{\\omega^2}{2} - (\\frac{M}{2} + m) gl \\sin \\theta \\\\\n",
    "\\omega^2&(\\frac{Ml^2}{6}+\\frac{ml^2}{2}+\\frac{mr^2}{2}) =(\\frac{M}{2} + m) gl \\sin \\theta \\\\\n",
    "\\omega&=\\sqrt{\\frac{(\\frac{M}{2} + m) gl \\sin \\theta}{\\frac{Ml^2}{6}+\\frac{ml^2}{2}+\\frac{mr^2}{2}}}\n",
    "\\end{align}\n",
    "$$\n"
   ]
  },
  {
   "cell_type": "markdown",
   "metadata": {},
   "source": [
    "## Svar\n",
    "Med insatta värden för $\\theta=90^\\circ$ blir $\\omega=4.33$ rad/s.\n",
    "\n",
    "**OBS!** Tänk på att vinkeln alltid måste anges i radianer vid alla rotationsrörelser (momentarbete, rullvillkor osv)."
   ]
  },
  {
   "cell_type": "markdown",
   "metadata": {},
   "source": [
    "**Beräkning med insatta värden:**"
   ]
  },
  {
   "cell_type": "code",
   "execution_count": 1,
   "metadata": {},
   "outputs": [],
   "source": [
    "from ipywidgets import interact, interactive\n",
    "from ipywidgets import FloatSlider\n",
    "import numpy as np\n",
    "from IPython.display import HTML\n",
    "\n"
   ]
  },
  {
   "cell_type": "code",
   "execution_count": 2,
   "metadata": {},
   "outputs": [
    {
     "data": {
      "text/html": [
       "<script>\n",
       "code_show=true; \n",
       "function code_toggle() {\n",
       " if (code_show){\n",
       " $('div.input').hide();\n",
       " } else {\n",
       " $('div.input').show();\n",
       " }\n",
       " code_show = !code_show\n",
       "} \n",
       "$( document ).ready(code_toggle);\n",
       "</script>\n",
       "<form action=\"javascript:code_toggle()\"><input type=\"submit\" value=\"Tryck här för att dölja/visa koden.\"></form>"
      ],
      "text/plain": [
       "<IPython.core.display.HTML object>"
      ]
     },
     "execution_count": 2,
     "metadata": {},
     "output_type": "execute_result"
    }
   ],
   "source": [
    "HTML('''<script>\n",
    "code_show=true; \n",
    "function code_toggle() {\n",
    " if (code_show){\n",
    " $('div.input').hide();\n",
    " } else {\n",
    " $('div.input').show();\n",
    " }\n",
    " code_show = !code_show\n",
    "} \n",
    "$( document ).ready(code_toggle);\n",
    "</script>\n",
    "<form action=\"javascript:code_toggle()\"><input type=\"submit\" value=\"Tryck här för att dölja/visa koden.\"></form>''')"
   ]
  },
  {
   "cell_type": "code",
   "execution_count": 3,
   "metadata": {},
   "outputs": [],
   "source": [
    "# Set parameters according to exercise description\n",
    "\n",
    "g = 9.81  # acceleration due to gravity, in m/s^2\n",
    "\n",
    "r = 0.3\n",
    "m=9\n",
    "l=1.2\n",
    "M=14\n",
    "theta=90\n"
   ]
  },
  {
   "cell_type": "code",
   "execution_count": 4,
   "metadata": {},
   "outputs": [],
   "source": [
    "def e_19_30(g,r,m,l,M,theta):\n",
    "\n",
    "    the=theta*np.pi/180.0\n",
    "    omega=np.sqrt((M/2+m)*g*l*np.sin(the)/(M*l*l/6+m*l*l/2+m*r*r/4))\n",
    "    \n",
    "    print(\"Vinkelhastigheten w= \",'{:5.3f}'.format(omega),\"rad/s\")\n",
    "    return omega"
   ]
  },
  {
   "cell_type": "code",
   "execution_count": 5,
   "metadata": {},
   "outputs": [
    {
     "data": {
      "application/vnd.jupyter.widget-view+json": {
       "model_id": "ec377499a6d04c558e8e45f026cebc2d",
       "version_major": 2,
       "version_minor": 0
      },
      "text/plain": [
       "interactive(children=(FloatSlider(value=9.81, description='g', max=10.0, min=9.0), FloatSlider(value=0.3, desc…"
      ]
     },
     "metadata": {},
     "output_type": "display_data"
    }
   ],
   "source": [
    "s_19_30=interactive(e_19_30, \n",
    "              g=FloatSlider(min=9.0,max=10.0,value=9.81),\n",
    "              r=FloatSlider(min=0.0,max=1.0,value=0.3),\n",
    "              m=FloatSlider(min=1,max=20,value=9,step=1),\n",
    "              l=FloatSlider(min=0.1,max=2,value=1.2),\n",
    "              M=FloatSlider(min=0,max=30,value=14),\n",
    "              theta=FloatSlider(min=0,max=180,value=90))\n",
    "\n",
    "display(s_19_30)"
   ]
  },
  {
   "cell_type": "code",
   "execution_count": null,
   "metadata": {},
   "outputs": [],
   "source": []
  }
 ],
 "metadata": {
  "celltoolbar": "Tags",
  "kernelspec": {
   "display_name": "Python 3",
   "language": "python",
   "name": "python3"
  },
  "language_info": {
   "codemirror_mode": {
    "name": "ipython",
    "version": 3
   },
   "file_extension": ".py",
   "mimetype": "text/x-python",
   "name": "python",
   "nbconvert_exporter": "python",
   "pygments_lexer": "ipython3",
   "version": "3.7.7"
  }
 },
 "nbformat": 4,
 "nbformat_minor": 2
}
