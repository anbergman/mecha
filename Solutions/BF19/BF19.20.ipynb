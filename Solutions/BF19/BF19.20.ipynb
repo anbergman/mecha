{
 "cells": [
  {
   "cell_type": "markdown",
   "metadata": {},
   "source": [
    "# Mekanik II, problem 19.20"
   ]
  },
  {
   "cell_type": "markdown",
   "metadata": {},
   "source": [
    "The mass of the homogeneous cylindrical disk is m = 5 kg and its radius is R = 0.2 m. The angle $\\beta$ = 15$^\\circ$. The disk is stationary when a constant clockwise couple M = 10 N-m is applied to it. What is the velocity of the center of the disk when it has moved a distance b = 0.4 m? \n",
    "\n",
    "![Stav](./BF19_20.png)\n",
    "\n"
   ]
  },
  {
   "cell_type": "markdown",
   "metadata": {},
   "source": [
    "# Lösning:"
   ]
  },
  {
   "cell_type": "markdown",
   "metadata": {},
   "source": [
    "## Fysikaliska samband\n",
    "\n",
    "Skivan kommer accelereras nedåt av tyngdkraften och det externa kraftmomentet. Vi antar att det finns friktion mellan skivan och planet så att skivan rullar. För att bestämma hastigheten $v$, för skivans masscentrum, som söks kan man använda kraft- och momentanalys tillsammans med Euler I och II. \n",
    "\n",
    "Här kan vi även konstatera att de enda krafterna som utför ett arbete på skivan är tyngdkraften $m\\mathbf{g}$ och kraftmomentet $M$. Därför kan vi även lösa systemet genom att analysera dess energi.\n"
   ]
  },
  {
   "cell_type": "markdown",
   "metadata": {},
   "source": [
    "## Arbete och energi \n",
    "\n",
    "Sambandet för arbete och energi kan skrivas som \n",
    "\n",
    "$T_1 + V_1 + U_{12} = T_2 + V_2$ **(I)**\n",
    "\n",
    "där $T$ betyder rörelseenergi, $V$ potentiell energi och $U$ det arbete av icke-konservativa krafter som utför ett arbete på kroppen. \n",
    "\n",
    "För läge 1, där skivan startar, har vi \n",
    "\n",
    "$T_1=0$ (skivan släpps från vila)\n",
    "\n",
    "$V_1=0$ (Sätter nollnivån för gravitationsenergin här)\n",
    "\n",
    "och för läge två får vi då\n",
    "\n",
    "$T_2=\\frac{mv^2}{2}+\\frac{I\\omega^2}{2}$ (där tröghetsmomentet $I$ är beräknad relativt masscentrum)\n",
    "\n",
    "$V_2=-mgb \\sin \\beta$ (Stångens masscentrums förflyttning i y-led från läge 1)\n",
    "\n",
    "Arbetet utförs här av ett kraftmoment vilket skrivs $U_{12}=M\\theta$.\n",
    "\n",
    "Tröghetsmomentet för skivan fås från lämplig tabell $I=\\frac{mR^2}{2}$ (för rotation kring masscentrum)."
   ]
  },
  {
   "cell_type": "markdown",
   "metadata": {},
   "source": [
    "## Beräkning\n",
    "\n",
    "Sätter vi in alla termer och beteckningar i **(I)** får vi\n",
    "\n",
    "$M\\theta=\\frac{mv^2}{2}+\\frac{I\\omega^2}{2} - mgb \\sin \\beta$ **(II)**\n",
    "\n",
    "för att lösa ut $\\omega$ från ekvationen ovan använder vi rullvillkoret $v^2=R^2\\omega^2$. Rullvillkoret kan också användas för att bestämma hur många radianer $\\theta$ skivan rullat på sträckan $b$ som $\\theta=b/R$. Insatt i ekvation **(II)** ovan får vi då \n",
    "\n",
    "$$\n",
    "\\begin{align}\n",
    "M\\frac{b}{R} &=\\frac{mv^2}{2}+\\frac{mR^2}{2}\\frac{R^2\\omega^2}{2R^2} - mgb \\sin \\beta \\\\\n",
    "M\\frac{b}{R} &=\\frac{mv^2}{2}+\\frac{m}{2}\\frac{\\omega^2}{2} - mgb \\sin \\beta \\\\\n",
    "v^2(\\frac{m}{2}+\\frac{m}{4}) &= v^2\\frac{3m}{4}  = M\\frac{b}{R} + mgb \\sin \\beta \\\\\n",
    "v&=\\sqrt{\\frac{M\\frac{b}{R} + mgb \\sin \\beta}{\\frac{3m}{4}}}=\n",
    "\\sqrt{\\frac{4(M\\frac{b}{R} + mgb \\sin \\beta)}{3m}}\n",
    "\\end{align}\n",
    "$$\n"
   ]
  },
  {
   "cell_type": "markdown",
   "metadata": {},
   "source": [
    "## Svar\n",
    "Med insatta värden blir $v=2.59$ rad/s.\n",
    "\n",
    "**OBS!** Tänk på att vinkeln alltid måste anges i radianer vid alla rotationsrörelser (momentarbete, rullvillkor osv)."
   ]
  },
  {
   "cell_type": "markdown",
   "metadata": {},
   "source": [
    "**Beräkning med insatta värden:**"
   ]
  },
  {
   "cell_type": "code",
   "execution_count": 1,
   "metadata": {},
   "outputs": [],
   "source": [
    "from ipywidgets import interact, interactive\n",
    "from ipywidgets import FloatSlider\n",
    "import numpy as np\n",
    "from IPython.display import HTML\n",
    "\n"
   ]
  },
  {
   "cell_type": "code",
   "execution_count": 2,
   "metadata": {},
   "outputs": [
    {
     "data": {
      "text/html": [
       "<script>\n",
       "code_show=true; \n",
       "function code_toggle() {\n",
       " if (code_show){\n",
       " $('div.input').hide();\n",
       " } else {\n",
       " $('div.input').show();\n",
       " }\n",
       " code_show = !code_show\n",
       "} \n",
       "$( document ).ready(code_toggle);\n",
       "</script>\n",
       "<form action=\"javascript:code_toggle()\"><input type=\"submit\" value=\"Tryck här för att dölja/visa koden.\"></form>"
      ],
      "text/plain": [
       "<IPython.core.display.HTML object>"
      ]
     },
     "execution_count": 2,
     "metadata": {},
     "output_type": "execute_result"
    }
   ],
   "source": [
    "HTML('''<script>\n",
    "code_show=true; \n",
    "function code_toggle() {\n",
    " if (code_show){\n",
    " $('div.input').hide();\n",
    " } else {\n",
    " $('div.input').show();\n",
    " }\n",
    " code_show = !code_show\n",
    "} \n",
    "$( document ).ready(code_toggle);\n",
    "</script>\n",
    "<form action=\"javascript:code_toggle()\"><input type=\"submit\" value=\"Tryck här för att dölja/visa koden.\"></form>''')"
   ]
  },
  {
   "cell_type": "code",
   "execution_count": 3,
   "metadata": {},
   "outputs": [],
   "source": [
    "# Set parameters according to exercise description\n",
    "\n",
    "g = 9.81  # acceleration due to gravity, in m/s^2\n",
    "\n",
    "R = 0.2\n",
    "m=5\n",
    "b=0.4\n",
    "beta=15\n",
    "M=10\n"
   ]
  },
  {
   "cell_type": "code",
   "execution_count": 4,
   "metadata": {},
   "outputs": [],
   "source": [
    "def e_19_20(g,R,m,b,beta,M):\n",
    "\n",
    "\n",
    "    be=beta*np.pi/180.0\n",
    "    v=np.sqrt(4/3/m*(M*b/R+m*g*b*np.sin(be)))\n",
    "    \n",
    "    print(\"Hastigheten v= \",'{:5.3f}'.format(v),\"m/s\")\n",
    "    return v"
   ]
  },
  {
   "cell_type": "code",
   "execution_count": 5,
   "metadata": {},
   "outputs": [
    {
     "data": {
      "application/vnd.jupyter.widget-view+json": {
       "model_id": "47e14600331f4b42904accafef485b73",
       "version_major": 2,
       "version_minor": 0
      },
      "text/plain": [
       "interactive(children=(FloatSlider(value=9.81, description='g', max=10.0, min=9.0), FloatSlider(value=0.2, desc…"
      ]
     },
     "metadata": {},
     "output_type": "display_data"
    }
   ],
   "source": [
    "s_19_20=interactive(e_19_20, \n",
    "              g=FloatSlider(min=9.0,max=10.0,value=9.81),\n",
    "              m=FloatSlider(min=1,max=10,value=5,step=0.1),\n",
    "              R=FloatSlider(min=0.1,max=1,value=0.2),\n",
    "              b=FloatSlider(min=0.1,max=0.6,value=0.4),\n",
    "              beta=FloatSlider(min=0,max=180,value=15),\n",
    "              M=FloatSlider(min=0,max=20,value=10))\n",
    "display(s_19_20)"
   ]
  },
  {
   "cell_type": "code",
   "execution_count": null,
   "metadata": {},
   "outputs": [],
   "source": []
  }
 ],
 "metadata": {
  "celltoolbar": "Tags",
  "kernelspec": {
   "display_name": "Python 3",
   "language": "python",
   "name": "python3"
  },
  "language_info": {
   "codemirror_mode": {
    "name": "ipython",
    "version": 3
   },
   "file_extension": ".py",
   "mimetype": "text/x-python",
   "name": "python",
   "nbconvert_exporter": "python",
   "pygments_lexer": "ipython3",
   "version": "3.7.7"
  }
 },
 "nbformat": 4,
 "nbformat_minor": 2
}
