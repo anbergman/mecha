{
 "cells": [
  {
   "cell_type": "markdown",
   "metadata": {},
   "source": [
    "# Mekanik II, problem 19.77"
   ]
  },
  {
   "cell_type": "markdown",
   "metadata": {},
   "source": [
    "A 10-N slender bar of length l = 2 m is released from rest in the horizontal position at a height h=1 m above a peg (Fig. a). A small hook at the end of the bar engages the peg, and the bar swings from the peg (Fig. b).\n",
    "\n",
    "(a) Through what maximum angle does the bar rotate relative to its position when it engages the peg?\n",
    "\n",
    "(b) At the instant when the bar has reached the angle determined in part (a), compare its gravitational potential energy to the gravitational potential energy the bar had when it was released from rest. How much energy has been lost?\n",
    "\n",
    "![Stav](./BF19_77.png)\n",
    "\n",
    "\n",
    "Vi använder ett koordinatsystem med x åt höger, y nedåt och z in i figuren och kallar punkten där spiken (the peg) sitter för O."
   ]
  },
  {
   "cell_type": "markdown",
   "metadata": {},
   "source": [
    "# Lösning:"
   ]
  },
  {
   "cell_type": "markdown",
   "metadata": {},
   "source": [
    "## Fysikaliska samband\n",
    "\n",
    "Förloppet i uppgiften kan delas upp i tre olika delar. \n",
    "\n",
    "I) Rörelsen före kontakt. Där bevaras den mekaniska energin.\n",
    "\n",
    "II) Kontaktögonblicket. Där blir det en stöt och energin kan inte antas bevarad. Samma sak gäller rörelsemängden då det blir en stor kontaktkraft vid stötögonblicket. Rörelsemängdsmomentet med avseende på spiken kan dock ses som bevarat.\n",
    "\n",
    "III) Rörelsen efter stöten. Där bevaras återigen den mekaniska energin."
   ]
  },
  {
   "cell_type": "markdown",
   "metadata": {},
   "source": [
    "## Energibevarande, del I\n",
    "\n",
    "Under del I) av rörelsen befinner sig staven i fritt fall och den börjar från vila. Endast den konservativa gravitationen kommer påverka det fria fallet. Därför kan vi skriva energibevarandet som\n",
    "\n",
    "$T_1 + V_1 = T_2 + V_2$. \n",
    "\n",
    "Sätter vi datum för lägesenergin till läget för O får vi \n",
    "\n",
    "$V_1 = mgh = T_2 = \\frac{mv^2}{2}$\n",
    "\n",
    "där $m$ är massan för stången och $v$ dess hastighet precis innan stöt. Detta ger det bekanta sambandet \n",
    "\n",
    "$v=\\sqrt{2gh}$ **(I)**\n",
    "\n",
    "\n",
    "\n",
    "\n"
   ]
  },
  {
   "cell_type": "markdown",
   "metadata": {},
   "source": [
    "## Rörelsemängdsmomentets bevarande\n",
    "\n",
    "Om vi gör en stötapproximation enligt resonemanget ovan så kan vi sätta att rörelsemängdsmomentet före stöten (med avseende på O) bara kommer från rörelsen för stången, vilken inte roterar, och ges av \n",
    "\n",
    "$\\mathbf{H}_O^{f} =  \\mathbf{r}\\times(m\\mathbf{v})  = -\\frac{l}{2}\\hat{x} \\times (mv\\hat{y}) = -\\frac{mvl}{2}\\hat{z}$. **(II)**\n",
    "\n",
    "Direkt efter stöten kommer stången rotera kring O vilket ger rörelsemängdsmomentet som  \n",
    "\n",
    "$\\mathbf{H}_O^{e} =  \\frac{ml^2}{3}\\omega(-\\hat{z})$ . **(III)**\n",
    "\n",
    "\n",
    "\n",
    "\n"
   ]
  },
  {
   "cell_type": "markdown",
   "metadata": {},
   "source": [
    "## Energibevarande, del II\n",
    "\n",
    "Under del II) av rörelsen roterar stången kring O men med en minskande rotationshastighet $\\omega$. Även här verkar endast konservativa krafter så vi kan skriva energibevarandet under rotationen som \n",
    "\n",
    "$T_3 + V_3 = T_4 + V_4$. \n",
    "\n",
    "Den vinkel $\\theta$ som söks är när rörelseenergin i vändläget = 0. Sätter vi datum för lägesenergin till läget för O får vi \n",
    "\n",
    "$V_3 = 0$ \n",
    "\n",
    "$T_3 = \\frac{I\\omega^2}{2} = \\frac{ml^2w^2}{6}$\n",
    "\n",
    "$T_4 = 0$\n",
    "\n",
    "$V_4 = -mg\\frac{l}{2}\\sin{\\theta}$\n",
    "\n",
    "vilket ger\n",
    "\n",
    "$\\frac{m l^2 \\omega^2}{6} = -mg\\frac{l}{2}\\sin \\theta$\n",
    "\n",
    "$\\theta = \\sin^{-1}(-\\frac{ml\\omega^2}{3mg}) = \\sin^{-1}(-\\frac{lw^2}{3g})$ **(IV)**\n",
    "\n",
    "\n",
    "\n",
    "\n",
    "\n"
   ]
  },
  {
   "cell_type": "markdown",
   "metadata": {},
   "source": [
    "## Beräkning av $\\theta$\n",
    "Från **(II)** och **(III)** fås sambandet mellan $v$ och $\\omega$ som\n",
    "\n",
    "$\\frac{mvl}{2}=\\frac{ml^2}{3}\\omega$\n",
    "\n",
    "$\\omega = \\frac{3v}{2l}$\n",
    "\n",
    "vilket kombinerat med **(I)** ger\n",
    "\n",
    "$\\omega = \\frac{3v}{2l} = \\frac{3\\sqrt{2gh}}{2l}$.\n",
    "\n",
    "Sätts uttrycket för $\\omega$ in i **(IV)** fås\n",
    "\n",
    "$\\theta = \\sin^{-1}(-\\frac{l\\omega^2}{3g}) = \\sin^{-1}(-\\frac{3h}{2l})$   **(V)**\n",
    "\n",
    "Vilket med insatta värden, $l$=2 m och $h$ = 1 m ger $\\theta$=229$^o$.\n",
    "\n"
   ]
  },
  {
   "cell_type": "markdown",
   "metadata": {},
   "source": [
    "## Beräkning av energiförlusten\n",
    "Energiförlusten kan antingen fås som skillnaden i potentiell energi vid starläget $V_1$ och och stoppläget $V_4$ (eftersom systemet börjar och slutar i vila) eller skillnaden i kinetisk energi före ($T_2$) och efter ($T_3$) stöten då potentiella energin inte ändras under stöten.\n",
    "\n",
    "Används potentiella energiskillnaden fås\n",
    "\n",
    "$\\Delta E = V_4 - V_1 = mgh - (-\\frac{mgl}{2}\\sin{\\theta})$\n",
    "\n",
    "och med insatt $\\theta$ från  **(V)** fås då \n",
    "\n",
    "$\\Delta E = mgh - (\\frac{mgl}{2}\\frac{3h}{2l})= mgh-\\frac{3mgh}{4} = \\frac{mgh}{4}$.\n",
    "\n",
    "Med insatta värden fås $\\Delta E$ = 2.5 N.\n"
   ]
  },
  {
   "cell_type": "markdown",
   "metadata": {},
   "source": [
    "## Svar\n",
    "Maximala vinkenl $\\theta$=229$^o$ och energiförlusten $\\Delta E$ = 2.5 N."
   ]
  }
 ],
 "metadata": {
  "celltoolbar": "Tags",
  "kernelspec": {
   "display_name": "Python 3 (ipykernel)",
   "language": "python",
   "name": "python3"
  },
  "language_info": {
   "codemirror_mode": {
    "name": "ipython",
    "version": 3
   },
   "file_extension": ".py",
   "mimetype": "text/x-python",
   "name": "python",
   "nbconvert_exporter": "python",
   "pygments_lexer": "ipython3",
   "version": "3.10.14"
  }
 },
 "nbformat": 4,
 "nbformat_minor": 4
}
