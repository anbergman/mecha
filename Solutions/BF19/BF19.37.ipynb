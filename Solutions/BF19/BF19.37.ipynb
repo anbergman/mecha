{
 "cells": [
  {
   "cell_type": "markdown",
   "metadata": {},
   "source": [
    "# Mekanik II, problem 19.37"
   ]
  },
  {
   "cell_type": "markdown",
   "metadata": {},
   "source": [
    "The 18-kg ladder is released from rest with $\\theta$ = 10$^\\circ$. The wall and floor are smooth. Modeling the ladder as a slender bar, use conservation of energy to determine the angular velocity of the bar when $\\theta$ = 40$^\\circ$.\n",
    "\n",
    "![Stav](./BF19_37.png)\n",
    "\n"
   ]
  },
  {
   "cell_type": "markdown",
   "metadata": {},
   "source": [
    "# Lösning:"
   ]
  },
  {
   "cell_type": "markdown",
   "metadata": {},
   "source": [
    "## Fysikaliska samband\n",
    "\n",
    "Stången kommer accelereras nedåt av tyngdkraften. Vägg och golv är glatta så ingen friktionskraft kommer att verka på stången, däremot kommer den påverkas av normalkrafterna från golvet och väggen.\n",
    "\n",
    "Eftersom ingen friktion verkar i systemet kan vi använda energibevarande för att bestämma systemets rotation. Normalkrafterna kommer leda till en rotation av stången. För den kinetiska energin tar vi därför hänsyn till både rotationsenergi och translationsenergi."
   ]
  },
  {
   "cell_type": "markdown",
   "metadata": {},
   "source": [
    "## Arbete och energi \n",
    "\n",
    "Sambandet för arbete och energi kan skrivas som \n",
    "\n",
    "$T_1 + V_1 + U_{12} = T_2 + V_2$ **(I)**\n",
    "\n",
    "där $T$ betyder rörelseenergi, $V$ potentiell energi och $U$ det arbete av icke-konservativa krafter som utför ett arbete på kroppen.  \n",
    "\n",
    "Vi betecknar stångens längd som l, vilket då ger oss stångens masscentrums höjd över golvet, $h$, som $mgl\\cos{theta}$.\n",
    "\n",
    "För läge 1, där systemet startar för $\\theta=\\theta_1=10^\\circ$, har vi \n",
    "\n",
    "$T_1=0$ (stång släpps från vila) **(IIa)**\n",
    "\n",
    "$V_1=mg\\frac{l}{2}\\cos{\\theta_1}$ (Sätter nollnivån för gravitationsenergin vid golvet) **(IIb)**\n",
    "\n",
    "och för läge två, när stången roterat till en vinkel $\\theta=\\theta_2=40^\\circ$ får vi då\n",
    "\n",
    "$T_2=\\frac{mv^2}{2}+\\frac{I\\omega^2}{2}$  **(IIc)**\n",
    "\n",
    "$V_2=mg\\frac{l}{2}\\cos{\\theta_2}$ **(IId)**\n",
    "\n",
    "Inget yttre arbete utförs här (ingen friktion) så $U_{12}=0$.\n",
    "\n"
   ]
  },
  {
   "cell_type": "markdown",
   "metadata": {},
   "source": [
    "## Beräkning och rullvillkor\n",
    "\n",
    "Kombinerar vi **(I)** och **(II)** fås\n",
    "\n",
    "$mg\\frac{l}{2}\\cos{\\theta_1}=mg\\frac{l}{2}\\cos{\\theta_2}+\\frac{mv^2}{2}+\\frac{I\\omega^2}{2}$ **(III)**\n",
    "\n",
    "\n",
    "\n",
    "För att få ett samband mellan $v$ och $\\omega$ behöver vi ett kinematiskt tvångsvillkor. Det vanliga rullvillkoret på formen $v=\\pm r\\omega$ som ofta används vid rullning är inte tillämpbart här. I stället inför vi positionen $\\mathbf{r}$ för stångens masscentrum med origo satt i hörnet där golvet och väggen möts. Då får vi\n",
    "\n",
    "$\\mathbf{r}=\\frac{l}{2}\\sin{\\theta}\\hat{x}+\\frac{l}{2}\\cos{\\theta}\\hat{y}$\n",
    "\n",
    "deriverar vi $\\mathbf{r}$ fås med kedjeregeln.\n",
    "\n",
    "$\\frac{d\\mathbf{r}}{dt}=\\mathbf{v}=\\frac{l}{2}\\cos{\\theta}\\frac{d\\theta}{dt}\\hat{x}-\\frac{l}{2}\\sin{\\theta}\\frac{d\\theta}{dt}\\hat{y}\n",
    "=\\frac{l}{2}\\frac{d\\theta}{dt}(\\cos{\\theta}\\hat{x}-\\sin{\\theta}\\hat{y})\n",
    "=\\frac{l}{2}\\omega(\\cos{\\theta}\\hat{x}-\\sin{\\theta}\\hat{y})$\n",
    "\n",
    "Kvadrerar vi uttrycket ovan fås\n",
    "\n",
    "$v^2=\\frac{l^2}{4}\\omega^2(\\sin^2{\\theta}+\\cos^2{\\theta})=\\frac{l^2}{4}\\omega^2$ **(IV)**\n",
    "\n",
    "vilket ger oss sambandet mellan $v$ och $\\omega$. \n",
    "\n",
    "Med **(IV)** insatt i **(III)** fås \n",
    "\n",
    "$mg\\frac{l}{2}\\cos{\\theta_1}=mg\\frac{l}{2}\\cos{\\theta_2}+\\frac{m}{2}\\frac{l^2}{4}\\omega^2+\\frac{I\\omega^2}{2}$ **(V)** \n",
    "\n",
    "Tröghetsmomenten för stången fås från lämplig tabell $I^0=\\frac{ml^2}{12}$ vilket med **(V)** ger\n",
    "\n",
    "$$\n",
    "\\begin{align}\n",
    "mg\\frac{l}{2}\\cos{\\theta_1} &=\n",
    "mg\\frac{l}{2}\\cos{\\theta_2}+\\frac{m}{2}\\frac{l^2}{4}\\omega^2+\\frac{ml^2}{12}\\frac{\\omega^2}{2}\\\\\n",
    "\\omega^2(\\frac{m}{2}\\frac{l^2}{4}+\\frac{ml^2}{12}\\frac{1}{2})&=\n",
    "mg\\frac{l}{2}(\\cos{\\theta_1}-\\cos{\\theta_2}) \\\\\n",
    "\\omega^2&=\\frac{mg\\frac{l}{2}(\\cos{\\theta_1}-\\cos{\\theta_2})}{\\frac{m}{2}\\frac{l^2}{4}+\\frac{ml^2}{12}\\frac{1}{2}} \\\\\n",
    "\\omega^2&=\\frac{mg\\frac{l}{2}(\\cos{\\theta_1}-\\cos{\\theta_2})}{\\frac{m}{2}\\frac{l^2}{4}+\\frac{ml^2}{12}\\frac{1}{2}}=\\frac{g(\\cos{\\theta_1}-\\cos{\\theta_2})}{\\frac{l}{4}+\\frac{l}{12}} \\\\\n",
    "\\omega&=\\sqrt{\\frac{12g(\\cos{\\theta_1}-\\cos{\\theta_2})}{4l}}=\\sqrt{\\frac{3g}{l}(\\cos{\\theta_1}-\\cos{\\theta_2})}\n",
    "\\end{align}\n",
    "$$\n",
    "\n"
   ]
  },
  {
   "cell_type": "markdown",
   "metadata": {},
   "source": [
    "## Svar\n",
    "Med insatta värden $\\theta_1=10^\\circ$ och $\\theta_1=40^\\circ$ blir $\\omega=1.29$ rad/s.\n",
    "\n",
    "**OBS!** Tänk på att vinkeln alltid måste anges i radianer vid alla rotationsrörelser (momentarbete, rullvillkor osv)."
   ]
  },
  {
   "cell_type": "markdown",
   "metadata": {},
   "source": [
    "**Beräkning med insatta värden:**"
   ]
  },
  {
   "cell_type": "code",
   "execution_count": 1,
   "metadata": {},
   "outputs": [],
   "source": [
    "from ipywidgets import interact, interactive\n",
    "from ipywidgets import FloatSlider\n",
    "import numpy as np\n",
    "from IPython.display import HTML\n",
    "\n"
   ]
  },
  {
   "cell_type": "code",
   "execution_count": 2,
   "metadata": {},
   "outputs": [
    {
     "data": {
      "text/html": [
       "<script>\n",
       "code_show=true; \n",
       "function code_toggle() {\n",
       " if (code_show){\n",
       " $('div.input').hide();\n",
       " } else {\n",
       " $('div.input').show();\n",
       " }\n",
       " code_show = !code_show\n",
       "} \n",
       "$( document ).ready(code_toggle);\n",
       "</script>\n",
       "<form action=\"javascript:code_toggle()\"><input type=\"submit\" value=\"Tryck här för att dölja/visa koden.\"></form>"
      ],
      "text/plain": [
       "<IPython.core.display.HTML object>"
      ]
     },
     "execution_count": 2,
     "metadata": {},
     "output_type": "execute_result"
    }
   ],
   "source": [
    "HTML('''<script>\n",
    "code_show=true; \n",
    "function code_toggle() {\n",
    " if (code_show){\n",
    " $('div.input').hide();\n",
    " } else {\n",
    " $('div.input').show();\n",
    " }\n",
    " code_show = !code_show\n",
    "} \n",
    "$( document ).ready(code_toggle);\n",
    "</script>\n",
    "<form action=\"javascript:code_toggle()\"><input type=\"submit\" value=\"Tryck här för att dölja/visa koden.\"></form>''')"
   ]
  },
  {
   "cell_type": "code",
   "execution_count": 3,
   "metadata": {},
   "outputs": [],
   "source": [
    "# Set parameters according to exercise description\n",
    "\n",
    "g = 9.81  # acceleration due to gravity, in m/s^2\n",
    "\n",
    "m=18\n",
    "l=4\n",
    "theta1=10\n",
    "theta2=40\n"
   ]
  },
  {
   "cell_type": "code",
   "execution_count": 4,
   "metadata": {},
   "outputs": [],
   "source": [
    "def e_19_37(g,m,l,theta1,theta2):\n",
    "\n",
    "    the1=theta1*np.pi/180.0\n",
    "    the2=theta2*np.pi/180.0\n",
    "\n",
    "    omega=np.sqrt(3*g/l*(np.cos(the1)-np.cos(the2)))\n",
    "    \n",
    "    print(\"Vinkelhastigheten w= \",'{:5.3f}'.format(omega),\"rad/s\")\n",
    "    return omega"
   ]
  },
  {
   "cell_type": "code",
   "execution_count": 5,
   "metadata": {},
   "outputs": [
    {
     "data": {
      "application/vnd.jupyter.widget-view+json": {
       "model_id": "64f24d75e5024254a8bd25a3d92a6aa1",
       "version_major": 2,
       "version_minor": 0
      },
      "text/plain": [
       "interactive(children=(FloatSlider(value=9.81, description='g', max=10.0, min=9.0), FloatSlider(value=18.0, des…"
      ]
     },
     "metadata": {},
     "output_type": "display_data"
    }
   ],
   "source": [
    "s_19_37=interactive(e_19_37, \n",
    "              g=FloatSlider(min=9.0,max=10.0,value=9.81),\n",
    "              m=FloatSlider(min=2,max=30,value=18,step=2),\n",
    "              l=FloatSlider(min=0.1,max=8,value=4),\n",
    "              theta1=FloatSlider(min=0,max=theta2,value=10),\n",
    "              theta2=FloatSlider(min=theta1,max=90,value=40))\n",
    "\n",
    "display(s_19_37)"
   ]
  },
  {
   "cell_type": "code",
   "execution_count": null,
   "metadata": {},
   "outputs": [],
   "source": []
  }
 ],
 "metadata": {
  "celltoolbar": "Tags",
  "kernelspec": {
   "display_name": "Python 3",
   "language": "python",
   "name": "python3"
  },
  "language_info": {
   "codemirror_mode": {
    "name": "ipython",
    "version": 3
   },
   "file_extension": ".py",
   "mimetype": "text/x-python",
   "name": "python",
   "nbconvert_exporter": "python",
   "pygments_lexer": "ipython3",
   "version": "3.9.4"
  }
 },
 "nbformat": 4,
 "nbformat_minor": 2
}
